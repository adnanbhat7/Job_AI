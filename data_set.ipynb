{
 "cells": [
  {
   "cell_type": "code",
   "execution_count": null,
   "id": "afd041e6-2401-49a3-b259-ae86601d052f",
   "metadata": {},
   "outputs": [],
   "source": [
    "! pip install datasets"
   ]
  },
  {
   "cell_type": "code",
   "execution_count": 2,
   "id": "74735ccb-d064-487d-9056-5a566b3e1f06",
   "metadata": {},
   "outputs": [],
   "source": [
    "from datasets import load_dataset\n",
    "\n",
    "dataset = load_dataset(\"cnamuangtoun/resume-job-description-fit\")"
   ]
  },
  {
   "cell_type": "code",
   "execution_count": 3,
   "id": "8254e7de-7770-4c68-9589-936a4d1440c6",
   "metadata": {},
   "outputs": [
    {
     "data": {
      "text/plain": [
       "Dataset({\n",
       "    features: ['resume_text', 'job_description_text', 'label'],\n",
       "    num_rows: 6241\n",
       "})"
      ]
     },
     "execution_count": 3,
     "metadata": {},
     "output_type": "execute_result"
    }
   ],
   "source": [
    "dataset[\"train\"]"
   ]
  },
  {
   "cell_type": "code",
   "execution_count": 4,
   "id": "8a1341bb-4c42-4381-b620-7d5e7e3b791d",
   "metadata": {},
   "outputs": [
    {
     "data": {
      "text/plain": [
       "Dataset({\n",
       "    features: ['resume_text', 'job_description_text', 'label'],\n",
       "    num_rows: 1759\n",
       "})"
      ]
     },
     "execution_count": 4,
     "metadata": {},
     "output_type": "execute_result"
    }
   ],
   "source": [
    "dataset[\"test\"]"
   ]
  },
  {
   "cell_type": "code",
   "execution_count": 5,
   "id": "e392dfce-4d74-490c-8242-5215bfcb4d59",
   "metadata": {},
   "outputs": [],
   "source": [
    "resume_data_train = dataset[\"train\"]\n",
    "\n",
    "# Convert to Pandas DataFrame \n",
    "import pandas as pd\n",
    "df = resume_data_train.to_pandas()"
   ]
  },
  {
   "cell_type": "code",
   "execution_count": 6,
   "id": "14e416b1-56ec-436e-9c2d-daf633a58ee4",
   "metadata": {},
   "outputs": [
    {
     "data": {
      "text/html": [
       "<div>\n",
       "<style scoped>\n",
       "    .dataframe tbody tr th:only-of-type {\n",
       "        vertical-align: middle;\n",
       "    }\n",
       "\n",
       "    .dataframe tbody tr th {\n",
       "        vertical-align: top;\n",
       "    }\n",
       "\n",
       "    .dataframe thead th {\n",
       "        text-align: right;\n",
       "    }\n",
       "</style>\n",
       "<table border=\"1\" class=\"dataframe\">\n",
       "  <thead>\n",
       "    <tr style=\"text-align: right;\">\n",
       "      <th></th>\n",
       "      <th>resume_text</th>\n",
       "      <th>job_description_text</th>\n",
       "      <th>label</th>\n",
       "    </tr>\n",
       "  </thead>\n",
       "  <tbody>\n",
       "    <tr>\n",
       "      <th>0</th>\n",
       "      <td>SummaryHighly motivated Sales Associate with e...</td>\n",
       "      <td>Net2Source Inc. is an award-winning total work...</td>\n",
       "      <td>No Fit</td>\n",
       "    </tr>\n",
       "    <tr>\n",
       "      <th>1</th>\n",
       "      <td>Professional SummaryCurrently working with Cat...</td>\n",
       "      <td>At Salas OBrien we tell our clients that were ...</td>\n",
       "      <td>No Fit</td>\n",
       "    </tr>\n",
       "    <tr>\n",
       "      <th>2</th>\n",
       "      <td>SummaryI started my construction career in Jun...</td>\n",
       "      <td>Schweitzer Engineering Laboratories (SEL) Infr...</td>\n",
       "      <td>No Fit</td>\n",
       "    </tr>\n",
       "    <tr>\n",
       "      <th>3</th>\n",
       "      <td>SummaryCertified Electrical Foremanwith thirte...</td>\n",
       "      <td>Mizick Miller &amp; Company, Inc. is looking for a...</td>\n",
       "      <td>No Fit</td>\n",
       "    </tr>\n",
       "    <tr>\n",
       "      <th>4</th>\n",
       "      <td>SummaryWith extensive experience in business/r...</td>\n",
       "      <td>Life at Capgemini\\nCapgemini supports all aspe...</td>\n",
       "      <td>No Fit</td>\n",
       "    </tr>\n",
       "  </tbody>\n",
       "</table>\n",
       "</div>"
      ],
      "text/plain": [
       "                                         resume_text  \\\n",
       "0  SummaryHighly motivated Sales Associate with e...   \n",
       "1  Professional SummaryCurrently working with Cat...   \n",
       "2  SummaryI started my construction career in Jun...   \n",
       "3  SummaryCertified Electrical Foremanwith thirte...   \n",
       "4  SummaryWith extensive experience in business/r...   \n",
       "\n",
       "                                job_description_text   label  \n",
       "0  Net2Source Inc. is an award-winning total work...  No Fit  \n",
       "1  At Salas OBrien we tell our clients that were ...  No Fit  \n",
       "2  Schweitzer Engineering Laboratories (SEL) Infr...  No Fit  \n",
       "3  Mizick Miller & Company, Inc. is looking for a...  No Fit  \n",
       "4  Life at Capgemini\\nCapgemini supports all aspe...  No Fit  "
      ]
     },
     "execution_count": 6,
     "metadata": {},
     "output_type": "execute_result"
    }
   ],
   "source": [
    "df.head()"
   ]
  },
  {
   "cell_type": "code",
   "execution_count": 7,
   "id": "e9698ffd-220c-46aa-9301-b5512af17df0",
   "metadata": {},
   "outputs": [
    {
     "name": "stdout",
     "output_type": "stream",
     "text": [
      "SummaryHighly motivated Sales Associate with extensive customer service and sales experience. Outgoing sales professional with track record of driving increased sales, improving buying experience and elevating company profile with target market.\n",
      "Highlights-Soft Skills: Public Speaking, Public Relations, Team Building, Project Management, Procedure writing, Staff Supervision and Management, Ability to interface with professionals on all levels. Accomplishments, Honors, and Activities -Board of Directors Member for the Food Bank of Corpus Christi from November 2010 to April 2013. -Held Life Insurance License -Basketball Official (Referee) High School Varsity Level.\n",
      "ExperienceAccountant,08/2014-05/2015Aspirus–Owen,WI,Perform daily and routine accounting functions for two main companies and five small royalty companies. Responsibilities include but are not limited to the following: Accounts Payable, Accounts Receivable, Manage and reconcile funds for multiple banks accounts, Payroll, Perform detail audits and adjustments of Balance sheet and Income Statement accounts, Audit and pay monthly Sales Tax, Inventory Reconciliations, and Budgeting.District Administrative Manager,02/2014-06/2014Tradeweb Markets Inc.–New York,NY,Managed and assisted the Accounts Receivable, Accounts Payable, and HR/Payroll staff for our district, with daily entrees, follow-up, and reporting as needed. Prepared and presented daily reports to various departments for more accurate management of the financial areas of their operations, such as inventory, Purchase Orders, and Bill of Lading. Performed accounting functions in On-Base, AX, Avantis, and Microsoft Office software.Business Manager,01/2005-02/2014Leidos–Clinton,MS,Managed the operations for a $1.2 million dollar partnership. Duties included planning, overseeing and directing accounting, logistics, and production functions, direct sales and customer service. Accounting functions:Managed over $500K of Fixed Assets, and inventories also valued over $500K.Administered Government contracts for USDA Food Aid with gross revenue up to $1.5 million annually (net income $500K).Upgraded company's software to integrate bill of assembly to interface with accounting software.Performed month end reconciliations, audits, closings, and financial statement reporting.Performed regular physical inventory audits.Supervised bookkeeper all aspects of the accounting cycle including Payroll, AR, and AP. Operations functions:Oversaw and directed the warehouse supervisor, warehouse maintenance supervisor and up to 20 employees to assure optimum production of personnel and facility.Communicated with logistics suppliers such as the Railroads and various trucking companies, governmental agencies (such as the USDA), customers and vendors to assure on time receiving, production, and shipping of goods.Created, implemented and managed our company's Food Safety and Quality Assurance Programs, including a fifty page Food Safety Guide. 2383 Suwanee Pointe DriveLawrenceville, GA 30043(555) 432-1000resumesample@example.comStaffing Manager,01/2003-01/2004Advantage Solutions–Chesapeake,VA,Provided personnel solutions to various organizations for their Accounting and Administrative needs. Interviewed and advised employees in various aspects of their professional career process. Earned sales bonuses within my first three months with the company.Accounting Manager,01/2002-01/2002Kroger–Westerville,OH,Assisted Controller in various aspects of the accounting cycle. Supervised new member billing clerk and cash receipts clerk. Helped with computer and networking issues in a Windows NT/XP environment. Implemented changes and procedures through two software upgrades in CSI software. Trained various staff in effective use of MS Excel. Audited Corporate-billing accounts.General Merchandise Department Manager,01/2000-01/2002Cargas Systems Inc–Lancaster,PA,Supervised and trained employees for strategic ordering and merchandising product for optimal sales, and in standard operating procedures. Created weekly schedule and departmental reports. Prepared for physical inventory every 6 months.Accounting Software Consultant,01/1998-01/2000Aspirus–Prentice,WI,Consulted users of DacEasy accounting applications in Software training, troubleshooting, setting up their entire automated accounting system, and establishing accounting procedures for their business. Trained other departments in proper accounting procedures, worked closely with CPA's for all tax related issues and coordinated payroll processing with an automated payroll system.Accountant,01/1999-01/2000CentreCom, Incorporated–City,STATE,Full Charge Bookkeeper/Accountant for a start-up Internet Telephone Company. Entered daily GL transactions. Supervised the Accounts Payable clerk. Worked with the Assistant Controller to establish and manage the Accounting functions related to all Sales aspects of the business. Assisted with month end reconciliations. Reconciled cash balance reports for five bank accounts on a daily basis and assisted in the managing of these accounts. Other duties included writing Accounting procedures for Accounts Payable and Cash Management.\n",
      "EducationMaster of Arts:Christian Education,Expected in-Dallas Theological Seminary-Dallas,TXGPA:Status-Master of Arts in Christian Education - Dallas Theological Seminary, Dallas, TXBachelor of Arts:Economics,Expected in-Marshall University-Huntington,WVGPA:Status-Bachelor of Arts in Economics - Marshall University, Huntington, WVAssociates of Applied Science:Accounting,Expected in-Hocking Technical College-Nelsonville,OHGPA:Status-Associates of Applied Science in Accounting - Hocking Technical College, Nelsonville, OH Maintained a 4.0 GPA while completing 12 hours of upper level accounting courses.\n",
      "SkillsAccounting, Sales, Inventory, Payroll, The Accounting, Reconciliations, Bookkeeper, Audits, Operations, Ap, Ar, Assembly, Closings, Contracts, Customer Service, Direct Sales, Fixed Assets, Food Safety, Government Contracts, Logistics, Maintenance, Million, Quality Assurance, Receptionist, Retail Sales, Sales And, Shipping, Usda, Accounts Payable, Solutions, Staffing, Cash, Clerk, Merchandising, Ordering, Automated Payroll, Payroll Processing, Software Training, Training, Accountant, The Accounts, Accounts Receivable, Credit, Billing, Csi, Excel, Ms Excel, Networking, All Sales, Basis, Cash Management, Forecasting, Gl, Telephone, Adjustments, Audit, Balance Sheet, Budgeting, Monthly Sales, Sales Tax, Annuities, Cpa, Life Insurance, Procedure Writing, Project Management, Public Relations, Team Building, Administrative Manager, Entrees, Entrées, Hr, Microsoft Office, Ms Office, Purchase Orders\n"
     ]
    }
   ],
   "source": [
    "#resuma type \n",
    "print(df[\"resume_text\"][0])"
   ]
  },
  {
   "cell_type": "code",
   "execution_count": 8,
   "id": "04d4fb85-61c4-4333-a493-166e13bdf7ca",
   "metadata": {},
   "outputs": [
    {
     "name": "stdout",
     "output_type": "stream",
     "text": [
      "Net2Source Inc. is an award-winning total workforce solutions company recognized by Staffing Industry Analysts for our accelerated growth of 300% in the last 3 years with over 5500+ employees globally, with over 30+ locations in the US and global operations in 32 countries. We believe in providing staffing solutions to address the current talent gap  Right Talent  Right Time  Right Place  Right Price and acting as a Career Coach to our consultants.  \n",
      "Role: Basel Business AnalystLocation: Washington, D.C.Work Mode: HybridHire Type: 6+ Month Contract (extendable)\n",
      "JD: Role Specific Experience: 6+ years of relevant technical and business work experience The Candidates who have worked on Basel related projects in Credit risks or at least are aware of credit risk.  Banking & Financial domain experience, along with knowledge of risk management, familiarity with concepts of finance and accounting  Proficiency in MS Excel  Experience in defining and implementing technology solutions for a major financial institution  Extensive experience as a Business Analyst for a large financial institution  Extensive experience in gathering business requirements and developing functional specifications with special emphasis on use cases, defining test cases, and providing user training and support Extensive experience with various system development lifecycle methodologies and tailoring the artifacts to those methodologies Solution-oriented, detailed-focused, showing strong analytical and organization skills Familiarity with relational databases  RDMS Experience with writing simple SQL statements (mostly SELECT  with aim to analyze datasets)\n",
      "\n",
      "\n",
      "Regards,Prashant SinghSr. Account Manager - Enterprise BusinessNet2Source Inc.prashant.singh@net2source.comDirect # (201) 285-5087  Board # (201) 340-8700 Ext. 509  Fax: (201) 221-8131Corp. HQs : 317 George St., Suite 220, New Brunswick, NJ 08901LinkedIn: https:www.linkedin.cominprashant-singh-b1b23526Website: www.net2source.com\n",
      "Why work with us - At Net2Source, we believe everyone has an opportunity to lead. We see the importance of your perspective and your ability to create value. We want you to fit inwith an inclusive culture, focus on work-life fit and well-being, and a supportive, connected environment; but we also want you to stand outwith opportunities to have a strategic impact, innovate, and take necessary steps to make your mark. We help clients with new skilling, talent strategy, leadership development, employee experience, transformational change management and beyond.\n",
      "Equal Employment Opportunity Statement:Net2Source is an Equal Opportunity Employer. We believe that no one should be discriminated against because of their differences, such as age, disability, ethnicity, gender, gender identity and expression, religion or sexual orientation. Our rich diversity makes us more innovative, more competitive, and more creative, which helps us better serve our clients and our communities. All employment decisions shall be made without regard to age, race, creed, color, religion, sex, national origin, ancestry, disability status, veteran status, sexual orientation, gender identity or expression, genetic information, marital status, citizenship status or any other basis as protected by federal, state, or local law.\n",
      "Awards and Accolades: America's Most Honored Businesses (Top 10%)Awarded by USPAAC for Fastest Growing Business in the US12th Fastest Growing Staffing Company in USA by Staffing industry Analysts in the US (2020, 2019, 2020)Fastest 50 by NJ Biz (2020, 2019, 2020)INC 5000 Fastest growing for 8 consecutive years in a row (only 1.26% companies make it to this list)Top 100 by Dallas Business Journal (2020 and 2019)Proven Supplier of the Year by Workforce Logiq (2020 and 2019)2019 Spirit of Alliance Award by Agile12018 Best of the Best Platinum Award by Agile12018 TechServe Alliance Excellence Awards Winner2017 Best of the Best Gold Award by Agile1(Act1 Group)\n"
     ]
    }
   ],
   "source": [
    "# job discription type \n",
    "print(df[\"job_description_text\"][0])"
   ]
  },
  {
   "cell_type": "code",
   "execution_count": 9,
   "id": "797363c9-3042-4273-a48c-9daba53c0171",
   "metadata": {},
   "outputs": [
    {
     "data": {
      "text/plain": [
       "array(['No Fit', 'Potential Fit', 'Good Fit'], dtype=object)"
      ]
     },
     "execution_count": 9,
     "metadata": {},
     "output_type": "execute_result"
    }
   ],
   "source": [
    "# types of lables \n",
    "df[\"label\"].unique()"
   ]
  },
  {
   "cell_type": "markdown",
   "id": "2c2bc3fe-e709-4795-99a9-a1d84a12634d",
   "metadata": {},
   "source": [
    "Lowercasing\n",
    "Remove HTML Tags\n",
    "Remove URLs\n",
    "Remove Punctuation\n",
    "Chat word treatment\n",
    "Spelling Correction\n",
    "Removing Stop words\n",
    "Handling Emojis\n",
    "Tokenization\n",
    "Stemming\n",
    "Lemmatization \n",
    "Assignment"
   ]
  },
  {
   "cell_type": "markdown",
   "id": "7eb13729-6898-4aff-8056-a4afce99b425",
   "metadata": {},
   "source": [
    "# Lowercasing"
   ]
  },
  {
   "cell_type": "code",
   "execution_count": 10,
   "id": "1939ed85-d46b-4560-b0af-78075b3a7fb8",
   "metadata": {},
   "outputs": [],
   "source": [
    "df[\"resume_text\"] = df[\"resume_text\"].str.lower()\n",
    "df [\"job_description_text\"] = df[\"job_description_text\"].str.lower()"
   ]
  },
  {
   "cell_type": "code",
   "execution_count": 12,
   "id": "86c40ee4-f235-4a72-8a78-e0cf0b411785",
   "metadata": {},
   "outputs": [
    {
     "data": {
      "text/html": [
       "<div>\n",
       "<style scoped>\n",
       "    .dataframe tbody tr th:only-of-type {\n",
       "        vertical-align: middle;\n",
       "    }\n",
       "\n",
       "    .dataframe tbody tr th {\n",
       "        vertical-align: top;\n",
       "    }\n",
       "\n",
       "    .dataframe thead th {\n",
       "        text-align: right;\n",
       "    }\n",
       "</style>\n",
       "<table border=\"1\" class=\"dataframe\">\n",
       "  <thead>\n",
       "    <tr style=\"text-align: right;\">\n",
       "      <th></th>\n",
       "      <th>resume_text</th>\n",
       "      <th>job_description_text</th>\n",
       "      <th>label</th>\n",
       "    </tr>\n",
       "  </thead>\n",
       "  <tbody>\n",
       "    <tr>\n",
       "      <th>0</th>\n",
       "      <td>summaryhighly motivated sales associate with e...</td>\n",
       "      <td>net2source inc. is an award-winning total work...</td>\n",
       "      <td>No Fit</td>\n",
       "    </tr>\n",
       "    <tr>\n",
       "      <th>1</th>\n",
       "      <td>professional summarycurrently working with cat...</td>\n",
       "      <td>at salas obrien we tell our clients that were ...</td>\n",
       "      <td>No Fit</td>\n",
       "    </tr>\n",
       "    <tr>\n",
       "      <th>2</th>\n",
       "      <td>summaryi started my construction career in jun...</td>\n",
       "      <td>schweitzer engineering laboratories (sel) infr...</td>\n",
       "      <td>No Fit</td>\n",
       "    </tr>\n",
       "    <tr>\n",
       "      <th>3</th>\n",
       "      <td>summarycertified electrical foremanwith thirte...</td>\n",
       "      <td>mizick miller &amp; company, inc. is looking for a...</td>\n",
       "      <td>No Fit</td>\n",
       "    </tr>\n",
       "    <tr>\n",
       "      <th>4</th>\n",
       "      <td>summarywith extensive experience in business/r...</td>\n",
       "      <td>life at capgemini\\ncapgemini supports all aspe...</td>\n",
       "      <td>No Fit</td>\n",
       "    </tr>\n",
       "  </tbody>\n",
       "</table>\n",
       "</div>"
      ],
      "text/plain": [
       "                                         resume_text  \\\n",
       "0  summaryhighly motivated sales associate with e...   \n",
       "1  professional summarycurrently working with cat...   \n",
       "2  summaryi started my construction career in jun...   \n",
       "3  summarycertified electrical foremanwith thirte...   \n",
       "4  summarywith extensive experience in business/r...   \n",
       "\n",
       "                                job_description_text   label  \n",
       "0  net2source inc. is an award-winning total work...  No Fit  \n",
       "1  at salas obrien we tell our clients that were ...  No Fit  \n",
       "2  schweitzer engineering laboratories (sel) infr...  No Fit  \n",
       "3  mizick miller & company, inc. is looking for a...  No Fit  \n",
       "4  life at capgemini\\ncapgemini supports all aspe...  No Fit  "
      ]
     },
     "execution_count": 12,
     "metadata": {},
     "output_type": "execute_result"
    }
   ],
   "source": [
    "df.head()"
   ]
  },
  {
   "cell_type": "markdown",
   "id": "b04e5ae2-2a14-466c-b033-391d22da497e",
   "metadata": {},
   "source": [
    "# Remove URLs"
   ]
  },
  {
   "cell_type": "code",
   "execution_count": null,
   "id": "dd83b503-3dd4-4ced-85d5-b8f2123fdf5e",
   "metadata": {},
   "outputs": [],
   "source": []
  }
 ],
 "metadata": {
  "kernelspec": {
   "display_name": "Python 3 (ipykernel)",
   "language": "python",
   "name": "python3"
  },
  "language_info": {
   "codemirror_mode": {
    "name": "ipython",
    "version": 3
   },
   "file_extension": ".py",
   "mimetype": "text/x-python",
   "name": "python",
   "nbconvert_exporter": "python",
   "pygments_lexer": "ipython3",
   "version": "3.12.2"
  }
 },
 "nbformat": 4,
 "nbformat_minor": 5
}
