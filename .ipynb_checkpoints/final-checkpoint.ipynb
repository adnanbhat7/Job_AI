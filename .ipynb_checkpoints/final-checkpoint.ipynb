{
 "cells": [
  {
   "cell_type": "code",
   "execution_count": 2,
   "id": "c8d75645-2289-4250-ad6c-39584460c727",
   "metadata": {
    "colab": {
     "base_uri": "https://localhost:8080/"
    },
    "id": "c8d75645-2289-4250-ad6c-39584460c727",
    "outputId": "7c484a3c-351c-4c0b-e8ca-22efd557a4ee"
   },
   "outputs": [
    {
     "name": "stdout",
     "output_type": "stream",
     "text": [
      "Reading package lists... Done\n",
      "Building dependency tree... Done\n",
      "Reading state information... Done\n",
      "The following NEW packages will be installed:\n",
      "  poppler-utils\n",
      "0 upgraded, 1 newly installed, 0 to remove and 49 not upgraded.\n",
      "Need to get 186 kB of archives.\n",
      "After this operation, 696 kB of additional disk space will be used.\n",
      "Get:1 http://archive.ubuntu.com/ubuntu jammy-updates/main amd64 poppler-utils amd64 22.02.0-2ubuntu0.6 [186 kB]\n",
      "Fetched 186 kB in 1s (268 kB/s)\n",
      "Selecting previously unselected package poppler-utils.\n",
      "(Reading database ... 124788 files and directories currently installed.)\n",
      "Preparing to unpack .../poppler-utils_22.02.0-2ubuntu0.6_amd64.deb ...\n",
      "Unpacking poppler-utils (22.02.0-2ubuntu0.6) ...\n",
      "Setting up poppler-utils (22.02.0-2ubuntu0.6) ...\n",
      "Processing triggers for man-db (2.10.2-1) ...\n"
     ]
    }
   ],
   "source": [
    "!apt-get install -y poppler-utils         # only for linux envorment"
   ]
  },
  {
   "cell_type": "code",
   "execution_count": 5,
   "id": "49cffcb5-13af-4873-b602-5ef75215f8d3",
   "metadata": {
    "colab": {
     "base_uri": "https://localhost:8080/"
    },
    "id": "49cffcb5-13af-4873-b602-5ef75215f8d3",
    "outputId": "efc7f0cb-ef17-41a4-c025-8fa19a541cb5"
   },
   "outputs": [
    {
     "name": "stdout",
     "output_type": "stream",
     "text": [
      "Collecting easyocr\n",
      "  Downloading easyocr-1.7.2-py3-none-any.whl.metadata (10 kB)\n",
      "Requirement already satisfied: torch in /usr/local/lib/python3.11/dist-packages (from easyocr) (2.5.1+cu121)\n",
      "Requirement already satisfied: torchvision>=0.5 in /usr/local/lib/python3.11/dist-packages (from easyocr) (0.20.1+cu121)\n",
      "Requirement already satisfied: opencv-python-headless in /usr/local/lib/python3.11/dist-packages (from easyocr) (4.11.0.86)\n",
      "Requirement already satisfied: scipy in /usr/local/lib/python3.11/dist-packages (from easyocr) (1.13.1)\n",
      "Requirement already satisfied: numpy in /usr/local/lib/python3.11/dist-packages (from easyocr) (1.26.4)\n",
      "Requirement already satisfied: Pillow in /usr/local/lib/python3.11/dist-packages (from easyocr) (11.1.0)\n",
      "Requirement already satisfied: scikit-image in /usr/local/lib/python3.11/dist-packages (from easyocr) (0.25.0)\n",
      "Collecting python-bidi (from easyocr)\n",
      "  Downloading python_bidi-0.6.3-cp311-cp311-manylinux_2_17_x86_64.manylinux2014_x86_64.whl.metadata (4.9 kB)\n",
      "Requirement already satisfied: PyYAML in /usr/local/lib/python3.11/dist-packages (from easyocr) (6.0.2)\n",
      "Requirement already satisfied: Shapely in /usr/local/lib/python3.11/dist-packages (from easyocr) (2.0.6)\n",
      "Collecting pyclipper (from easyocr)\n",
      "  Downloading pyclipper-1.3.0.post6-cp311-cp311-manylinux_2_17_x86_64.manylinux2014_x86_64.whl.metadata (9.0 kB)\n",
      "Collecting ninja (from easyocr)\n",
      "  Downloading ninja-1.11.1.3-py3-none-manylinux_2_12_x86_64.manylinux2010_x86_64.whl.metadata (5.3 kB)\n",
      "Requirement already satisfied: filelock in /usr/local/lib/python3.11/dist-packages (from torch->easyocr) (3.17.0)\n",
      "Requirement already satisfied: typing-extensions>=4.8.0 in /usr/local/lib/python3.11/dist-packages (from torch->easyocr) (4.12.2)\n",
      "Requirement already satisfied: networkx in /usr/local/lib/python3.11/dist-packages (from torch->easyocr) (3.4.2)\n",
      "Requirement already satisfied: jinja2 in /usr/local/lib/python3.11/dist-packages (from torch->easyocr) (3.1.5)\n",
      "Requirement already satisfied: fsspec in /usr/local/lib/python3.11/dist-packages (from torch->easyocr) (2024.10.0)\n",
      "Requirement already satisfied: nvidia-cuda-nvrtc-cu12==12.1.105 in /usr/local/lib/python3.11/dist-packages (from torch->easyocr) (12.1.105)\n",
      "Requirement already satisfied: nvidia-cuda-runtime-cu12==12.1.105 in /usr/local/lib/python3.11/dist-packages (from torch->easyocr) (12.1.105)\n",
      "Requirement already satisfied: nvidia-cuda-cupti-cu12==12.1.105 in /usr/local/lib/python3.11/dist-packages (from torch->easyocr) (12.1.105)\n",
      "Requirement already satisfied: nvidia-cudnn-cu12==9.1.0.70 in /usr/local/lib/python3.11/dist-packages (from torch->easyocr) (9.1.0.70)\n",
      "Requirement already satisfied: nvidia-cublas-cu12==12.1.3.1 in /usr/local/lib/python3.11/dist-packages (from torch->easyocr) (12.1.3.1)\n",
      "Requirement already satisfied: nvidia-cufft-cu12==11.0.2.54 in /usr/local/lib/python3.11/dist-packages (from torch->easyocr) (11.0.2.54)\n",
      "Requirement already satisfied: nvidia-curand-cu12==10.3.2.106 in /usr/local/lib/python3.11/dist-packages (from torch->easyocr) (10.3.2.106)\n",
      "Requirement already satisfied: nvidia-cusolver-cu12==11.4.5.107 in /usr/local/lib/python3.11/dist-packages (from torch->easyocr) (11.4.5.107)\n",
      "Requirement already satisfied: nvidia-cusparse-cu12==12.1.0.106 in /usr/local/lib/python3.11/dist-packages (from torch->easyocr) (12.1.0.106)\n",
      "Requirement already satisfied: nvidia-nccl-cu12==2.21.5 in /usr/local/lib/python3.11/dist-packages (from torch->easyocr) (2.21.5)\n",
      "Requirement already satisfied: nvidia-nvtx-cu12==12.1.105 in /usr/local/lib/python3.11/dist-packages (from torch->easyocr) (12.1.105)\n",
      "Requirement already satisfied: triton==3.1.0 in /usr/local/lib/python3.11/dist-packages (from torch->easyocr) (3.1.0)\n",
      "Requirement already satisfied: sympy==1.13.1 in /usr/local/lib/python3.11/dist-packages (from torch->easyocr) (1.13.1)\n",
      "Requirement already satisfied: nvidia-nvjitlink-cu12 in /usr/local/lib/python3.11/dist-packages (from nvidia-cusolver-cu12==11.4.5.107->torch->easyocr) (12.6.85)\n",
      "Requirement already satisfied: mpmath<1.4,>=1.1.0 in /usr/local/lib/python3.11/dist-packages (from sympy==1.13.1->torch->easyocr) (1.3.0)\n",
      "Requirement already satisfied: imageio!=2.35.0,>=2.33 in /usr/local/lib/python3.11/dist-packages (from scikit-image->easyocr) (2.36.1)\n",
      "Requirement already satisfied: tifffile>=2022.8.12 in /usr/local/lib/python3.11/dist-packages (from scikit-image->easyocr) (2025.1.10)\n",
      "Requirement already satisfied: packaging>=21 in /usr/local/lib/python3.11/dist-packages (from scikit-image->easyocr) (24.2)\n",
      "Requirement already satisfied: lazy-loader>=0.4 in /usr/local/lib/python3.11/dist-packages (from scikit-image->easyocr) (0.4)\n",
      "Requirement already satisfied: MarkupSafe>=2.0 in /usr/local/lib/python3.11/dist-packages (from jinja2->torch->easyocr) (3.0.2)\n",
      "Downloading easyocr-1.7.2-py3-none-any.whl (2.9 MB)\n",
      "\u001b[2K   \u001b[90m━━━━━━━━━━━━━━━━━━━━━━━━━━━━━━━━━━━━━━━━\u001b[0m \u001b[32m2.9/2.9 MB\u001b[0m \u001b[31m39.3 MB/s\u001b[0m eta \u001b[36m0:00:00\u001b[0m\n",
      "\u001b[?25hDownloading ninja-1.11.1.3-py3-none-manylinux_2_12_x86_64.manylinux2010_x86_64.whl (422 kB)\n",
      "\u001b[2K   \u001b[90m━━━━━━━━━━━━━━━━━━━━━━━━━━━━━━━━━━━━━━━━\u001b[0m \u001b[32m422.9/422.9 kB\u001b[0m \u001b[31m29.5 MB/s\u001b[0m eta \u001b[36m0:00:00\u001b[0m\n",
      "\u001b[?25hDownloading pyclipper-1.3.0.post6-cp311-cp311-manylinux_2_17_x86_64.manylinux2014_x86_64.whl (969 kB)\n",
      "\u001b[2K   \u001b[90m━━━━━━━━━━━━━━━━━━━━━━━━━━━━━━━━━━━━━━━━\u001b[0m \u001b[32m969.6/969.6 kB\u001b[0m \u001b[31m48.5 MB/s\u001b[0m eta \u001b[36m0:00:00\u001b[0m\n",
      "\u001b[?25hDownloading python_bidi-0.6.3-cp311-cp311-manylinux_2_17_x86_64.manylinux2014_x86_64.whl (286 kB)\n",
      "\u001b[2K   \u001b[90m━━━━━━━━━━━━━━━━━━━━━━━━━━━━━━━━━━━━━━━━\u001b[0m \u001b[32m286.6/286.6 kB\u001b[0m \u001b[31m21.4 MB/s\u001b[0m eta \u001b[36m0:00:00\u001b[0m\n",
      "\u001b[?25hInstalling collected packages: python-bidi, pyclipper, ninja, easyocr\n",
      "Successfully installed easyocr-1.7.2 ninja-1.11.1.3 pyclipper-1.3.0.post6 python-bidi-0.6.3\n"
     ]
    }
   ],
   "source": [
    "!pip install easyocr"
   ]
  },
  {
   "cell_type": "code",
   "execution_count": 4,
   "id": "336d370a-22d3-419d-b388-f16b0449e452",
   "metadata": {
    "colab": {
     "base_uri": "https://localhost:8080/"
    },
    "id": "336d370a-22d3-419d-b388-f16b0449e452",
    "outputId": "39eed017-a1e8-41bc-ff93-bbe6995d9add"
   },
   "outputs": [
    {
     "name": "stdout",
     "output_type": "stream",
     "text": [
      "Requirement already satisfied: spacy in /usr/local/lib/python3.11/dist-packages (3.7.5)\n",
      "Requirement already satisfied: spacy-legacy<3.1.0,>=3.0.11 in /usr/local/lib/python3.11/dist-packages (from spacy) (3.0.12)\n",
      "Requirement already satisfied: spacy-loggers<2.0.0,>=1.0.0 in /usr/local/lib/python3.11/dist-packages (from spacy) (1.0.5)\n",
      "Requirement already satisfied: murmurhash<1.1.0,>=0.28.0 in /usr/local/lib/python3.11/dist-packages (from spacy) (1.0.12)\n",
      "Requirement already satisfied: cymem<2.1.0,>=2.0.2 in /usr/local/lib/python3.11/dist-packages (from spacy) (2.0.11)\n",
      "Requirement already satisfied: preshed<3.1.0,>=3.0.2 in /usr/local/lib/python3.11/dist-packages (from spacy) (3.0.9)\n",
      "Requirement already satisfied: thinc<8.3.0,>=8.2.2 in /usr/local/lib/python3.11/dist-packages (from spacy) (8.2.5)\n",
      "Requirement already satisfied: wasabi<1.2.0,>=0.9.1 in /usr/local/lib/python3.11/dist-packages (from spacy) (1.1.3)\n",
      "Requirement already satisfied: srsly<3.0.0,>=2.4.3 in /usr/local/lib/python3.11/dist-packages (from spacy) (2.5.1)\n",
      "Requirement already satisfied: catalogue<2.1.0,>=2.0.6 in /usr/local/lib/python3.11/dist-packages (from spacy) (2.0.10)\n",
      "Requirement already satisfied: weasel<0.5.0,>=0.1.0 in /usr/local/lib/python3.11/dist-packages (from spacy) (0.4.1)\n",
      "Requirement already satisfied: typer<1.0.0,>=0.3.0 in /usr/local/lib/python3.11/dist-packages (from spacy) (0.15.1)\n",
      "Requirement already satisfied: tqdm<5.0.0,>=4.38.0 in /usr/local/lib/python3.11/dist-packages (from spacy) (4.67.1)\n",
      "Requirement already satisfied: requests<3.0.0,>=2.13.0 in /usr/local/lib/python3.11/dist-packages (from spacy) (2.32.3)\n",
      "Requirement already satisfied: pydantic!=1.8,!=1.8.1,<3.0.0,>=1.7.4 in /usr/local/lib/python3.11/dist-packages (from spacy) (2.10.5)\n",
      "Requirement already satisfied: jinja2 in /usr/local/lib/python3.11/dist-packages (from spacy) (3.1.5)\n",
      "Requirement already satisfied: setuptools in /usr/local/lib/python3.11/dist-packages (from spacy) (75.1.0)\n",
      "Requirement already satisfied: packaging>=20.0 in /usr/local/lib/python3.11/dist-packages (from spacy) (24.2)\n",
      "Requirement already satisfied: langcodes<4.0.0,>=3.2.0 in /usr/local/lib/python3.11/dist-packages (from spacy) (3.5.0)\n",
      "Requirement already satisfied: numpy>=1.19.0 in /usr/local/lib/python3.11/dist-packages (from spacy) (1.26.4)\n",
      "Requirement already satisfied: language-data>=1.2 in /usr/local/lib/python3.11/dist-packages (from langcodes<4.0.0,>=3.2.0->spacy) (1.3.0)\n",
      "Requirement already satisfied: annotated-types>=0.6.0 in /usr/local/lib/python3.11/dist-packages (from pydantic!=1.8,!=1.8.1,<3.0.0,>=1.7.4->spacy) (0.7.0)\n",
      "Requirement already satisfied: pydantic-core==2.27.2 in /usr/local/lib/python3.11/dist-packages (from pydantic!=1.8,!=1.8.1,<3.0.0,>=1.7.4->spacy) (2.27.2)\n",
      "Requirement already satisfied: typing-extensions>=4.12.2 in /usr/local/lib/python3.11/dist-packages (from pydantic!=1.8,!=1.8.1,<3.0.0,>=1.7.4->spacy) (4.12.2)\n",
      "Requirement already satisfied: charset-normalizer<4,>=2 in /usr/local/lib/python3.11/dist-packages (from requests<3.0.0,>=2.13.0->spacy) (3.4.1)\n",
      "Requirement already satisfied: idna<4,>=2.5 in /usr/local/lib/python3.11/dist-packages (from requests<3.0.0,>=2.13.0->spacy) (3.10)\n",
      "Requirement already satisfied: urllib3<3,>=1.21.1 in /usr/local/lib/python3.11/dist-packages (from requests<3.0.0,>=2.13.0->spacy) (2.3.0)\n",
      "Requirement already satisfied: certifi>=2017.4.17 in /usr/local/lib/python3.11/dist-packages (from requests<3.0.0,>=2.13.0->spacy) (2024.12.14)\n",
      "Requirement already satisfied: blis<0.8.0,>=0.7.8 in /usr/local/lib/python3.11/dist-packages (from thinc<8.3.0,>=8.2.2->spacy) (0.7.11)\n",
      "Requirement already satisfied: confection<1.0.0,>=0.0.1 in /usr/local/lib/python3.11/dist-packages (from thinc<8.3.0,>=8.2.2->spacy) (0.1.5)\n",
      "Requirement already satisfied: click>=8.0.0 in /usr/local/lib/python3.11/dist-packages (from typer<1.0.0,>=0.3.0->spacy) (8.1.8)\n",
      "Requirement already satisfied: shellingham>=1.3.0 in /usr/local/lib/python3.11/dist-packages (from typer<1.0.0,>=0.3.0->spacy) (1.5.4)\n",
      "Requirement already satisfied: rich>=10.11.0 in /usr/local/lib/python3.11/dist-packages (from typer<1.0.0,>=0.3.0->spacy) (13.9.4)\n",
      "Requirement already satisfied: cloudpathlib<1.0.0,>=0.7.0 in /usr/local/lib/python3.11/dist-packages (from weasel<0.5.0,>=0.1.0->spacy) (0.20.0)\n",
      "Requirement already satisfied: smart-open<8.0.0,>=5.2.1 in /usr/local/lib/python3.11/dist-packages (from weasel<0.5.0,>=0.1.0->spacy) (7.1.0)\n",
      "Requirement already satisfied: MarkupSafe>=2.0 in /usr/local/lib/python3.11/dist-packages (from jinja2->spacy) (3.0.2)\n",
      "Requirement already satisfied: marisa-trie>=1.1.0 in /usr/local/lib/python3.11/dist-packages (from language-data>=1.2->langcodes<4.0.0,>=3.2.0->spacy) (1.2.1)\n",
      "Requirement already satisfied: markdown-it-py>=2.2.0 in /usr/local/lib/python3.11/dist-packages (from rich>=10.11.0->typer<1.0.0,>=0.3.0->spacy) (3.0.0)\n",
      "Requirement already satisfied: pygments<3.0.0,>=2.13.0 in /usr/local/lib/python3.11/dist-packages (from rich>=10.11.0->typer<1.0.0,>=0.3.0->spacy) (2.18.0)\n",
      "Requirement already satisfied: wrapt in /usr/local/lib/python3.11/dist-packages (from smart-open<8.0.0,>=5.2.1->weasel<0.5.0,>=0.1.0->spacy) (1.17.2)\n",
      "Requirement already satisfied: mdurl~=0.1 in /usr/local/lib/python3.11/dist-packages (from markdown-it-py>=2.2.0->rich>=10.11.0->typer<1.0.0,>=0.3.0->spacy) (0.1.2)\n"
     ]
    }
   ],
   "source": [
    "!pip install spacy"
   ]
  },
  {
   "cell_type": "code",
   "execution_count": 5,
   "id": "df4cee83-dfe0-4d41-b61a-8f46cb51e80e",
   "metadata": {
    "colab": {
     "base_uri": "https://localhost:8080/"
    },
    "id": "df4cee83-dfe0-4d41-b61a-8f46cb51e80e",
    "outputId": "bedc0189-7b80-4f85-b464-0724ee79ade9"
   },
   "outputs": [
    {
     "name": "stdout",
     "output_type": "stream",
     "text": [
      "Collecting en-core-web-sm==3.7.1\n",
      "  Downloading https://github.com/explosion/spacy-models/releases/download/en_core_web_sm-3.7.1/en_core_web_sm-3.7.1-py3-none-any.whl (12.8 MB)\n",
      "\u001b[2K     \u001b[90m━━━━━━━━━━━━━━━━━━━━━━━━━━━━━━━━━━━━━━━━\u001b[0m \u001b[32m12.8/12.8 MB\u001b[0m \u001b[31m58.7 MB/s\u001b[0m eta \u001b[36m0:00:00\u001b[0m\n",
      "\u001b[?25hRequirement already satisfied: spacy<3.8.0,>=3.7.2 in /usr/local/lib/python3.11/dist-packages (from en-core-web-sm==3.7.1) (3.7.5)\n",
      "Requirement already satisfied: spacy-legacy<3.1.0,>=3.0.11 in /usr/local/lib/python3.11/dist-packages (from spacy<3.8.0,>=3.7.2->en-core-web-sm==3.7.1) (3.0.12)\n",
      "Requirement already satisfied: spacy-loggers<2.0.0,>=1.0.0 in /usr/local/lib/python3.11/dist-packages (from spacy<3.8.0,>=3.7.2->en-core-web-sm==3.7.1) (1.0.5)\n",
      "Requirement already satisfied: murmurhash<1.1.0,>=0.28.0 in /usr/local/lib/python3.11/dist-packages (from spacy<3.8.0,>=3.7.2->en-core-web-sm==3.7.1) (1.0.12)\n",
      "Requirement already satisfied: cymem<2.1.0,>=2.0.2 in /usr/local/lib/python3.11/dist-packages (from spacy<3.8.0,>=3.7.2->en-core-web-sm==3.7.1) (2.0.11)\n",
      "Requirement already satisfied: preshed<3.1.0,>=3.0.2 in /usr/local/lib/python3.11/dist-packages (from spacy<3.8.0,>=3.7.2->en-core-web-sm==3.7.1) (3.0.9)\n",
      "Requirement already satisfied: thinc<8.3.0,>=8.2.2 in /usr/local/lib/python3.11/dist-packages (from spacy<3.8.0,>=3.7.2->en-core-web-sm==3.7.1) (8.2.5)\n",
      "Requirement already satisfied: wasabi<1.2.0,>=0.9.1 in /usr/local/lib/python3.11/dist-packages (from spacy<3.8.0,>=3.7.2->en-core-web-sm==3.7.1) (1.1.3)\n",
      "Requirement already satisfied: srsly<3.0.0,>=2.4.3 in /usr/local/lib/python3.11/dist-packages (from spacy<3.8.0,>=3.7.2->en-core-web-sm==3.7.1) (2.5.1)\n",
      "Requirement already satisfied: catalogue<2.1.0,>=2.0.6 in /usr/local/lib/python3.11/dist-packages (from spacy<3.8.0,>=3.7.2->en-core-web-sm==3.7.1) (2.0.10)\n",
      "Requirement already satisfied: weasel<0.5.0,>=0.1.0 in /usr/local/lib/python3.11/dist-packages (from spacy<3.8.0,>=3.7.2->en-core-web-sm==3.7.1) (0.4.1)\n",
      "Requirement already satisfied: typer<1.0.0,>=0.3.0 in /usr/local/lib/python3.11/dist-packages (from spacy<3.8.0,>=3.7.2->en-core-web-sm==3.7.1) (0.15.1)\n",
      "Requirement already satisfied: tqdm<5.0.0,>=4.38.0 in /usr/local/lib/python3.11/dist-packages (from spacy<3.8.0,>=3.7.2->en-core-web-sm==3.7.1) (4.67.1)\n",
      "Requirement already satisfied: requests<3.0.0,>=2.13.0 in /usr/local/lib/python3.11/dist-packages (from spacy<3.8.0,>=3.7.2->en-core-web-sm==3.7.1) (2.32.3)\n",
      "Requirement already satisfied: pydantic!=1.8,!=1.8.1,<3.0.0,>=1.7.4 in /usr/local/lib/python3.11/dist-packages (from spacy<3.8.0,>=3.7.2->en-core-web-sm==3.7.1) (2.10.5)\n",
      "Requirement already satisfied: jinja2 in /usr/local/lib/python3.11/dist-packages (from spacy<3.8.0,>=3.7.2->en-core-web-sm==3.7.1) (3.1.5)\n",
      "Requirement already satisfied: setuptools in /usr/local/lib/python3.11/dist-packages (from spacy<3.8.0,>=3.7.2->en-core-web-sm==3.7.1) (75.1.0)\n",
      "Requirement already satisfied: packaging>=20.0 in /usr/local/lib/python3.11/dist-packages (from spacy<3.8.0,>=3.7.2->en-core-web-sm==3.7.1) (24.2)\n",
      "Requirement already satisfied: langcodes<4.0.0,>=3.2.0 in /usr/local/lib/python3.11/dist-packages (from spacy<3.8.0,>=3.7.2->en-core-web-sm==3.7.1) (3.5.0)\n",
      "Requirement already satisfied: numpy>=1.19.0 in /usr/local/lib/python3.11/dist-packages (from spacy<3.8.0,>=3.7.2->en-core-web-sm==3.7.1) (1.26.4)\n",
      "Requirement already satisfied: language-data>=1.2 in /usr/local/lib/python3.11/dist-packages (from langcodes<4.0.0,>=3.2.0->spacy<3.8.0,>=3.7.2->en-core-web-sm==3.7.1) (1.3.0)\n",
      "Requirement already satisfied: annotated-types>=0.6.0 in /usr/local/lib/python3.11/dist-packages (from pydantic!=1.8,!=1.8.1,<3.0.0,>=1.7.4->spacy<3.8.0,>=3.7.2->en-core-web-sm==3.7.1) (0.7.0)\n",
      "Requirement already satisfied: pydantic-core==2.27.2 in /usr/local/lib/python3.11/dist-packages (from pydantic!=1.8,!=1.8.1,<3.0.0,>=1.7.4->spacy<3.8.0,>=3.7.2->en-core-web-sm==3.7.1) (2.27.2)\n",
      "Requirement already satisfied: typing-extensions>=4.12.2 in /usr/local/lib/python3.11/dist-packages (from pydantic!=1.8,!=1.8.1,<3.0.0,>=1.7.4->spacy<3.8.0,>=3.7.2->en-core-web-sm==3.7.1) (4.12.2)\n",
      "Requirement already satisfied: charset-normalizer<4,>=2 in /usr/local/lib/python3.11/dist-packages (from requests<3.0.0,>=2.13.0->spacy<3.8.0,>=3.7.2->en-core-web-sm==3.7.1) (3.4.1)\n",
      "Requirement already satisfied: idna<4,>=2.5 in /usr/local/lib/python3.11/dist-packages (from requests<3.0.0,>=2.13.0->spacy<3.8.0,>=3.7.2->en-core-web-sm==3.7.1) (3.10)\n",
      "Requirement already satisfied: urllib3<3,>=1.21.1 in /usr/local/lib/python3.11/dist-packages (from requests<3.0.0,>=2.13.0->spacy<3.8.0,>=3.7.2->en-core-web-sm==3.7.1) (2.3.0)\n",
      "Requirement already satisfied: certifi>=2017.4.17 in /usr/local/lib/python3.11/dist-packages (from requests<3.0.0,>=2.13.0->spacy<3.8.0,>=3.7.2->en-core-web-sm==3.7.1) (2024.12.14)\n",
      "Requirement already satisfied: blis<0.8.0,>=0.7.8 in /usr/local/lib/python3.11/dist-packages (from thinc<8.3.0,>=8.2.2->spacy<3.8.0,>=3.7.2->en-core-web-sm==3.7.1) (0.7.11)\n",
      "Requirement already satisfied: confection<1.0.0,>=0.0.1 in /usr/local/lib/python3.11/dist-packages (from thinc<8.3.0,>=8.2.2->spacy<3.8.0,>=3.7.2->en-core-web-sm==3.7.1) (0.1.5)\n",
      "Requirement already satisfied: click>=8.0.0 in /usr/local/lib/python3.11/dist-packages (from typer<1.0.0,>=0.3.0->spacy<3.8.0,>=3.7.2->en-core-web-sm==3.7.1) (8.1.8)\n",
      "Requirement already satisfied: shellingham>=1.3.0 in /usr/local/lib/python3.11/dist-packages (from typer<1.0.0,>=0.3.0->spacy<3.8.0,>=3.7.2->en-core-web-sm==3.7.1) (1.5.4)\n",
      "Requirement already satisfied: rich>=10.11.0 in /usr/local/lib/python3.11/dist-packages (from typer<1.0.0,>=0.3.0->spacy<3.8.0,>=3.7.2->en-core-web-sm==3.7.1) (13.9.4)\n",
      "Requirement already satisfied: cloudpathlib<1.0.0,>=0.7.0 in /usr/local/lib/python3.11/dist-packages (from weasel<0.5.0,>=0.1.0->spacy<3.8.0,>=3.7.2->en-core-web-sm==3.7.1) (0.20.0)\n",
      "Requirement already satisfied: smart-open<8.0.0,>=5.2.1 in /usr/local/lib/python3.11/dist-packages (from weasel<0.5.0,>=0.1.0->spacy<3.8.0,>=3.7.2->en-core-web-sm==3.7.1) (7.1.0)\n",
      "Requirement already satisfied: MarkupSafe>=2.0 in /usr/local/lib/python3.11/dist-packages (from jinja2->spacy<3.8.0,>=3.7.2->en-core-web-sm==3.7.1) (3.0.2)\n",
      "Requirement already satisfied: marisa-trie>=1.1.0 in /usr/local/lib/python3.11/dist-packages (from language-data>=1.2->langcodes<4.0.0,>=3.2.0->spacy<3.8.0,>=3.7.2->en-core-web-sm==3.7.1) (1.2.1)\n",
      "Requirement already satisfied: markdown-it-py>=2.2.0 in /usr/local/lib/python3.11/dist-packages (from rich>=10.11.0->typer<1.0.0,>=0.3.0->spacy<3.8.0,>=3.7.2->en-core-web-sm==3.7.1) (3.0.0)\n",
      "Requirement already satisfied: pygments<3.0.0,>=2.13.0 in /usr/local/lib/python3.11/dist-packages (from rich>=10.11.0->typer<1.0.0,>=0.3.0->spacy<3.8.0,>=3.7.2->en-core-web-sm==3.7.1) (2.18.0)\n",
      "Requirement already satisfied: wrapt in /usr/local/lib/python3.11/dist-packages (from smart-open<8.0.0,>=5.2.1->weasel<0.5.0,>=0.1.0->spacy<3.8.0,>=3.7.2->en-core-web-sm==3.7.1) (1.17.2)\n",
      "Requirement already satisfied: mdurl~=0.1 in /usr/local/lib/python3.11/dist-packages (from markdown-it-py>=2.2.0->rich>=10.11.0->typer<1.0.0,>=0.3.0->spacy<3.8.0,>=3.7.2->en-core-web-sm==3.7.1) (0.1.2)\n",
      "\u001b[38;5;2m✔ Download and installation successful\u001b[0m\n",
      "You can now load the package via spacy.load('en_core_web_sm')\n",
      "\u001b[38;5;3m⚠ Restart to reload dependencies\u001b[0m\n",
      "If you are in a Jupyter or Colab notebook, you may need to restart Python in\n",
      "order to load all the package's dependencies. You can do this by selecting the\n",
      "'Restart kernel' or 'Restart runtime' option.\n"
     ]
    }
   ],
   "source": [
    "!python -m spacy download en_core_web_sm"
   ]
  },
  {
   "cell_type": "code",
   "execution_count": 6,
   "id": "db77847b-5be5-48ec-9a74-6079f9b008ab",
   "metadata": {
    "colab": {
     "base_uri": "https://localhost:8080/"
    },
    "id": "db77847b-5be5-48ec-9a74-6079f9b008ab",
    "outputId": "05d7a27f-190a-44a4-9457-c4388fb81499"
   },
   "outputs": [
    {
     "name": "stdout",
     "output_type": "stream",
     "text": [
      "Requirement already satisfied: nltk in /usr/local/lib/python3.11/dist-packages (3.9.1)\n",
      "Requirement already satisfied: click in /usr/local/lib/python3.11/dist-packages (from nltk) (8.1.8)\n",
      "Requirement already satisfied: joblib in /usr/local/lib/python3.11/dist-packages (from nltk) (1.4.2)\n",
      "Requirement already satisfied: regex>=2021.8.3 in /usr/local/lib/python3.11/dist-packages (from nltk) (2024.11.6)\n",
      "Requirement already satisfied: tqdm in /usr/local/lib/python3.11/dist-packages (from nltk) (4.67.1)\n"
     ]
    }
   ],
   "source": [
    "!pip install nltk"
   ]
  },
  {
   "cell_type": "code",
   "execution_count": 2,
   "id": "7506c9fa-ffa6-4d17-b36c-d0d0134f67a5",
   "metadata": {
    "colab": {
     "base_uri": "https://localhost:8080/"
    },
    "id": "7506c9fa-ffa6-4d17-b36c-d0d0134f67a5",
    "outputId": "9e151dcd-6cac-471c-f9dd-a23b525563bf"
   },
   "outputs": [
    {
     "name": "stdout",
     "output_type": "stream",
     "text": [
      "Collecting pdf2image\n",
      "  Downloading pdf2image-1.17.0-py3-none-any.whl.metadata (6.2 kB)\n",
      "Requirement already satisfied: pillow in /usr/local/lib/python3.11/dist-packages (from pdf2image) (11.1.0)\n",
      "Downloading pdf2image-1.17.0-py3-none-any.whl (11 kB)\n",
      "Installing collected packages: pdf2image\n",
      "Successfully installed pdf2image-1.17.0\n"
     ]
    }
   ],
   "source": [
    "!pip install pdf2image"
   ]
  },
  {
   "cell_type": "code",
   "execution_count": 3,
   "id": "RF-2_fTWHElO",
   "metadata": {
    "colab": {
     "base_uri": "https://localhost:8080/"
    },
    "id": "RF-2_fTWHElO",
    "outputId": "58716d2b-78ac-4ab8-ba11-013ac8d48860"
   },
   "outputs": [
    {
     "name": "stdout",
     "output_type": "stream",
     "text": [
      "Collecting pdfminer.six\n",
      "  Downloading pdfminer.six-20240706-py3-none-any.whl.metadata (4.1 kB)\n",
      "Requirement already satisfied: charset-normalizer>=2.0.0 in /usr/local/lib/python3.11/dist-packages (from pdfminer.six) (3.4.1)\n",
      "Requirement already satisfied: cryptography>=36.0.0 in /usr/local/lib/python3.11/dist-packages (from pdfminer.six) (43.0.3)\n",
      "Requirement already satisfied: cffi>=1.12 in /usr/local/lib/python3.11/dist-packages (from cryptography>=36.0.0->pdfminer.six) (1.17.1)\n",
      "Requirement already satisfied: pycparser in /usr/local/lib/python3.11/dist-packages (from cffi>=1.12->cryptography>=36.0.0->pdfminer.six) (2.22)\n",
      "Downloading pdfminer.six-20240706-py3-none-any.whl (5.6 MB)\n",
      "\u001b[2K   \u001b[90m━━━━━━━━━━━━━━━━━━━━━━━━━━━━━━━━━━━━━━━━\u001b[0m \u001b[32m5.6/5.6 MB\u001b[0m \u001b[31m23.9 MB/s\u001b[0m eta \u001b[36m0:00:00\u001b[0m\n",
      "\u001b[?25hInstalling collected packages: pdfminer.six\n",
      "Successfully installed pdfminer.six-20240706\n"
     ]
    }
   ],
   "source": [
    "!pip install pdfminer.six"
   ]
  },
  {
   "cell_type": "code",
   "execution_count": 6,
   "id": "6920f0ff-ea16-44c6-8cf7-32b49192bfee",
   "metadata": {
    "id": "6920f0ff-ea16-44c6-8cf7-32b49192bfee"
   },
   "outputs": [],
   "source": [
    "import os\n",
    "from pdfminer.high_level import extract_text\n",
    "from pdf2image import convert_from_path\n",
    "import easyocr\n",
    "import cv2\n",
    "import nltk\n",
    "import seaborn as sns\n",
    "from matplotlib import pyplot as plt"
   ]
  },
  {
   "cell_type": "markdown",
   "id": "3269e01e-1a8c-4020-a1f6-4458e6de6643",
   "metadata": {
    "id": "3269e01e-1a8c-4020-a1f6-4458e6de6643"
   },
   "source": [
    "# Path to PDF"
   ]
  },
  {
   "cell_type": "code",
   "execution_count": null,
   "id": "098dc606-81b8-4ecb-ba08-3c74baa1c064",
   "metadata": {
    "id": "098dc606-81b8-4ecb-ba08-3c74baa1c064"
   },
   "outputs": [],
   "source": [
    "PDF_PATH = 'DATA/pic_jd.pdf'\n",
    "OUTPUT_DIR = 'output_images'\n",
    "os.makedirs(OUTPUT_DIR, exist_ok=True)"
   ]
  },
  {
   "cell_type": "code",
   "execution_count": null,
   "id": "a28485f8-59e5-45dd-99b6-e4a78df9ea49",
   "metadata": {
    "id": "a28485f8-59e5-45dd-99b6-e4a78df9ea49"
   },
   "outputs": [],
   "source": [
    "# Step 1: Try to extract text using pdfminer.six\n",
    "extracted_text = extract_text(PDF_PATH)"
   ]
  },
  {
   "cell_type": "code",
   "execution_count": null,
   "id": "df55a3dc-f035-41fd-a83b-3341a7aadfbc",
   "metadata": {
    "id": "df55a3dc-f035-41fd-a83b-3341a7aadfbc",
    "outputId": "205ea73e-5b2c-4473-a072-2124f061edff"
   },
   "outputs": [
    {
     "name": "stdout",
     "output_type": "stream",
     "text": [
      "No text found, proceeding with OCR...\n"
     ]
    },
    {
     "name": "stderr",
     "output_type": "stream",
     "text": [
      "Using CPU. Note: This module is much faster with a GPU.\n"
     ]
    }
   ],
   "source": [
    "if extracted_text.strip():  # Check if there is any extracted text\n",
    "    pass\n",
    "else:\n",
    "    print(\"No text found, proceeding with OCR...\")\n",
    "    # Step 2: Convert PDF pages to images using pdf2image for OCR\n",
    "    image_paths = []\n",
    "    pages = convert_from_path(PDF_PATH, dpi=300)  # Converts each page of the PDF to an image at a resolution of 300 DPI (dots per inch)\n",
    "\n",
    "    for i, page in enumerate(pages):\n",
    "        image_path = os.path.join(OUTPUT_DIR, f'page_{i + 1}.jpeg')\n",
    "        page.save(image_path, 'JPEG')  # Save each page as JPEG\n",
    "        image_paths.append(image_path)\n",
    "\n",
    "    # Initialize EasyOCR reader  without  gpu  make true or remove the line\n",
    "    reader = easyocr.Reader(['en'], gpu=False)"
   ]
  },
  {
   "cell_type": "markdown",
   "id": "66eb649a-1947-432b-ac5f-f81c810e4381",
   "metadata": {
    "id": "66eb649a-1947-432b-ac5f-f81c810e4381"
   },
   "source": [
    "# Process each image and extract text using OCR"
   ]
  },
  {
   "cell_type": "code",
   "execution_count": null,
   "id": "cc212261-9b7c-4339-8c63-708eefbfe69a",
   "metadata": {
    "id": "cc212261-9b7c-4339-8c63-708eefbfe69a",
    "outputId": "d08ec296-b9df-492c-ae68-aa9636ad30a9"
   },
   "outputs": [
    {
     "data": {
      "image/png": "[encoded data removed]",
      "text/plain": [
       "<Figure size 640x480 with 1 Axes>"
      ]
     },
     "metadata": {},
     "output_type": "display_data"
    }
   ],
   "source": [
    "final_detected_text = \"\"\n",
    "if(extracted_text.strip()):\n",
    "    final_detected_text = \"\".join(extracted_text)\n",
    "else :\n",
    "    all_detected_text = []  # Store text from all pages\n",
    "    for image_path in image_paths:\n",
    "        # Read the image\n",
    "        img = cv2.imread(image_path)\n",
    "\n",
    "        # Preprocess the image\n",
    "        gray = cv2.cvtColor(img, cv2.COLOR_BGR2GRAY)  # Convert to grayscale\n",
    "        _, binary = cv2.threshold(gray, 128, 255, cv2.THRESH_BINARY | cv2.THRESH_OTSU)  # Binarization\n",
    "        denoised = cv2.medianBlur(binary, 3)  # Noise removal using median blur\n",
    "\n",
    "        # Perform OCR on the preprocessed image\n",
    "        result = reader.readtext(denoised)\n",
    "\n",
    "        detected_text = []  # Text for the current page\n",
    "        font = cv2.FONT_HERSHEY_SIMPLEX\n",
    "        spacer = 100\n",
    "\n",
    "        # Draw boxes and extract text\n",
    "        for detection in result:\n",
    "            # Convert coordinates to integers\n",
    "            top_left = tuple(map(int, detection[0][0]))\n",
    "            bottom_right = tuple(map(int, detection[0][2]))\n",
    "            text = detection[1]  # Extract detected text\n",
    "\n",
    "            # Append detected text to the list\n",
    "            detected_text.append(text)\n",
    "\n",
    "            # Draw rectangle and put text\n",
    "            img = cv2.rectangle(img, top_left, bottom_right, (0, 255, 0), 3)\n",
    "            img = cv2.putText(img, text, (20, spacer), font, 0.5, (0, 255, 0), 2, cv2.LINE_AA)\n",
    "            spacer += 15\n",
    "\n",
    "        # Save detected text for the current page\n",
    "        all_detected_text.append(\"\\n\".join(detected_text))\n",
    "\n",
    "        # Display the image with detected text\n",
    "        plt.imshow(cv2.cvtColor(img, cv2.COLOR_BGR2RGB))\n",
    "        plt.axis('off')\n",
    "        plt.title(f\"Page {image_paths.index(image_path) + 1}\")\n",
    "        plt.show()\n",
    "        # all_detected_text.append(\"\\n\".join(detected_text))\n",
    "        final_detected_text = \"\".join(all_detected_text)\n"
   ]
  },
  {
   "cell_type": "markdown",
   "id": "17d87271-7bf4-421e-86ca-c14b3a97222f",
   "metadata": {
    "id": "17d87271-7bf4-421e-86ca-c14b3a97222f"
   },
   "source": [
    "# Combine all detected text into a single string"
   ]
  },
  {
   "cell_type": "code",
   "execution_count": null,
   "id": "2ad68ccd-2b6b-4137-b1bc-b3f1cd7639cf",
   "metadata": {
    "id": "2ad68ccd-2b6b-4137-b1bc-b3f1cd7639cf"
   },
   "outputs": [],
   "source": [
    "# all_detected_text.append(\"\\n\".join(detected_text))\n",
    "# final_detected_text = \"\\n\\n\".join(all_detected_text)"
   ]
  },
  {
   "cell_type": "markdown",
   "id": "bcb97b18-86ee-4697-aa1e-3122576caab4",
   "metadata": {
    "id": "bcb97b18-86ee-4697-aa1e-3122576caab4"
   },
   "source": [
    "# Print the final detected text"
   ]
  },
  {
   "cell_type": "code",
   "execution_count": null,
   "id": "182fe081-c962-4ad3-a3d0-1b381584da17",
   "metadata": {
    "id": "182fe081-c962-4ad3-a3d0-1b381584da17",
    "outputId": "5a419467-b230-4f4b-90f1-c6810b8fc3aa"
   },
   "outputs": [
    {
     "name": "stdout",
     "output_type": "stream",
     "text": [
      "Final Detected Text from OCR:\n",
      "Data Scientist\n",
      "Arlington, Virginia, USA\n",
      "Updated: 26/11/2024\n",
      "Are you looking to work at the forefront of Machine Learning and AI? Would you be excited to apply cutting edge\n",
      "Generative AI algorithms to solve real world problems with significant impact? The AWS Industries Team at AWS helps\n",
      "AWS customers implement Generative AI solutions and realize transformational business opportunities for AWS customers\n",
      "in the most strategic industry verticals. This is a team of data scientists, engineers, and architects working step-by-step\n",
      "with customers to build bespoke solutions that harness the power of generative AI.\n",
      "The team helps customers imagine and scope the use cases that will create the greatest value for their businesses, select\n",
      "and train and fine tune the right models, define paths to navigate technical or business challenges, develop proof-of-\n",
      "concepts, and build applications to launch these solutions at scale.\n",
      "The AWS Industries team provides guidance and\n",
      "implements best practices for applying generative AI responsibly and cost efficiently:\n",
      "You will work directly with customers and innovate in a fast-paced organization that contributes to game-changing\n",
      "projects and technologies You will design and run experiments, research new algorithms, and find new ways of\n",
      "optimizing risk, profitability, and customer experience:\n",
      "In this Data Scientist role you will be capable of using GenAI and other techniques to design, evangelize, and implement\n",
      "and scale cutting-edge solutions for never-before-solved problems:\n",
      "Key job responsibilities\n",
      "As a Data Scientist, you will-\n",
      "Collaborate with AI/ML scientists, engineers, and architects to research, design, develop, and evaluate cutting-edge\n",
      "generative AI algorithms and build ML systems to address real-world challenges\n",
      "Interact with customers directly to understand the business problem, help and aid them in implementation of generative\n",
      "AI solutions, deliver briefing and deep dive sessions to customers and\n",
      "customer on adoption patterns and\n",
      "to\n",
      "production\n",
      "Create and deliver best practice recommendations, tutorials,\n",
      "posts, publications, sample code, and presentations\n",
      "adapted to technical, business, and executive stakeholder\n",
      "Provide customer and market feedback to Product and Engineering teams to help define product direction\n",
      "About the team\n",
      "ABOUT AWS:\n",
      "Diverse Experiences\n",
      "Amazon values diverse experiences. Even if you do not meet all of the preferred qualifications and skills listed in the job\n",
      "description, we encourage candidates to apply: If your career is just starting, hasn't followed a traditional path, or includes\n",
      "alternative experiences, don't let it stop you from applying:\n",
      "Why AWS\n",
      "Amazon Web Services (AWS) is the world's most comprehensive and broadly adopted cloud platform. We pioneered cloud\n",
      "computing and never stopped innovating\n",
      "that's why customers from the most successful startups to Global 500\n",
      "companies trust our robust suite of products and services to power their businesses.\n",
      "Work/Life Balance\n",
      "We value work-life harmony: Achieving success at work should never come at the expense of sacrifices at home, which is\n",
      "why we strive for flexibility as part of our working culture. When we feel supported in the workplace and at home, there's\n",
      "nothing we can't achieve in the cloud.\n",
      "Inclusive Team Culture\n",
      "Here at AWS, it's in our nature to learn and be curious. Our employee-led affinity groups foster a culture of inclusion that\n",
      "empower us to be proud of our differences. Ongoing events and learning experiences, including our Conversations on\n",
      "Race and Ethnicity (CORE):\n",
      "guide\n",
      "paths\n",
      "blog\n"
     ]
    }
   ],
   "source": [
    "print(\"Final Detected Text from OCR:\")\n",
    "print(final_detected_text)"
   ]
  },
  {
   "cell_type": "markdown",
   "id": "a3b3e86f-2dae-47a5-bf44-599b69fdbea9",
   "metadata": {
    "id": "a3b3e86f-2dae-47a5-bf44-599b69fdbea9"
   },
   "source": [
    "# Now extraction important details"
   ]
  },
  {
   "cell_type": "code",
   "execution_count": 30,
   "id": "f35fcf96-1653-4cf7-a6a0-65edcb55b22b",
   "metadata": {
    "id": "f35fcf96-1653-4cf7-a6a0-65edcb55b22b"
   },
   "outputs": [],
   "source": [
    "import spacy\n",
    "\n",
    "nlp = spacy.load(\"en_core_web_sm\")\n",
    "skill_path = 'skills.jsonl'"
   ]
  },
  {
   "cell_type": "code",
   "execution_count": 31,
   "id": "f9bbebc8-636a-4925-82a4-3a5032b96472",
   "metadata": {
    "colab": {
     "base_uri": "https://localhost:8080/"
    },
    "id": "f9bbebc8-636a-4925-82a4-3a5032b96472",
    "outputId": "7472bb11-f343-43c0-c2b1-107a16ba00d7"
   },
   "outputs": [
    {
     "data": {
      "text/plain": [
       "['tok2vec',\n",
       " 'tagger',\n",
       " 'parser',\n",
       " 'attribute_ruler',\n",
       " 'lemmatizer',\n",
       " 'ner',\n",
       " 'entity_ruler']"
      ]
     },
     "execution_count": 31,
     "metadata": {},
     "output_type": "execute_result"
    }
   ],
   "source": [
    "ruler = nlp.add_pipe(\"entity_ruler\")\n",
    "ruler.from_disk(skill_path)\n",
    "nlp.pipe_names"
   ]
  },
  {
   "cell_type": "code",
   "execution_count": 32,
   "id": "4db0e1ab-880f-47cf-8b00-6a6732ce62bc",
   "metadata": {
    "colab": {
     "base_uri": "https://localhost:8080/"
    },
    "id": "4db0e1ab-880f-47cf-8b00-6a6732ce62bc",
    "outputId": "0921bd2a-e5df-4c69-ce8f-890ae20e5b18"
   },
   "outputs": [
    {
     "data": {
      "text/plain": [
       "(Adnan Nazir, NLP, python)"
      ]
     },
     "execution_count": 32,
     "metadata": {},
     "output_type": "execute_result"
    }
   ],
   "source": [
    "doc = nlp(\"My name is Adnan Nazir and i am working on NLP and python project\")\n",
    "doc.ents"
   ]
  },
  {
   "cell_type": "markdown",
   "id": "196828c2-abc8-47ff-ac45-bfa013bb9db8",
   "metadata": {
    "id": "196828c2-abc8-47ff-ac45-bfa013bb9db8"
   },
   "source": [
    "# clean our data"
   ]
  },
  {
   "cell_type": "code",
   "execution_count": 9,
   "id": "0bf70580-4f10-4077-a3f3-7f64a69a201c",
   "metadata": {
    "id": "0bf70580-4f10-4077-a3f3-7f64a69a201c"
   },
   "outputs": [],
   "source": [
    "from spacy.lang.en.stop_words import STOP_WORDS\n",
    "import re\n",
    "\n",
    "def preprocessing(sentence):\n",
    "    stopwords = list(STOP_WORDS)\n",
    "     # Remove unwanted characters: ., -, |, •, etc.\n",
    "    sentence = re.sub(r\"[.,\\-|•]\", \" \", sentence)\n",
    "    # Remove extra whitespace\n",
    "    sentence = re.sub(r\"\\s+\", \" \", sentence).strip()\n",
    "    # Tokenize and process with spaCy\n",
    "    doc = nlp(sentence)\n",
    "    clean_tokens = []\n",
    "\n",
    "    for token in doc:\n",
    "        if token.text not in stopwords and token.pos_ != 'PUNCT' and token.pos_ != 'SYM' and \\\n",
    "           token.pos_ != 'SPACE':\n",
    "            clean_tokens.append(token.lemma_.lower().strip())\n",
    "\n",
    "    return \" \".join(clean_tokens)"
   ]
  },
  {
   "cell_type": "code",
   "execution_count": null,
   "id": "193d9a5c-497f-456b-88ae-e5bce5e899f1",
   "metadata": {
    "id": "193d9a5c-497f-456b-88ae-e5bce5e899f1",
    "outputId": "70f07c11-a583-4fe3-c19d-b0df0b038408"
   },
   "outputs": [
    {
     "data": {
      "text/plain": [
       "'data scientist arlington virginia usa updated 26/11/2024 be look work forefront machine learning ai would excited apply cut edge generative ai algorithm solve real world problem significant impact the aws industries team aws help aws customer implement generative ai solution realize transformational business opportunity aws customer strategic industry vertical this team data scientist engineer architect work step step customer build bespoke solution harness power generative ai the team help customer imagine scope use case create great value business select train fine tune right model define path navigate technical business challenge develop proof concept build application launch solution scale the aws industries team provide guidance implement good practice apply generative ai responsibly cost efficiently you work directly customer innovate fast pace organization contribute game change project technology you design run experiment research new algorithm find new way optimize risk profitability customer experience in data scientist role capable genai technique design evangelize implement scale cutting edge solution solved problem key job responsibility as data scientist collaborate ai ml scientist engineer architect research design develop evaluate cutting edge generative ai algorithm build ml system address real world challenge interact customer directly understand business problem help aid implementation generative ai solution deliver briefing deep dive session customer customer adoption pattern production create deliver good practice recommendation tutorial post publication sample code presentation adapt technical business executive stakeholder provide customer market feedback product engineering team help define product direction about team about aws diverse experiences amazon value diverse experience even meet prefer qualification skill list job description encourage candidate apply if career start follow traditional path include alternative experience let stop apply why aws amazon web services aws world comprehensive broadly adopt cloud platform we pioneer cloud computing stop innovate customer successful startup global 500 company trust robust suite product service power business work life balance we value work life harmony achieve success work come expense sacrifice home strive flexibility working culture when feel support workplace home achieve cloud inclusive team culture here aws nature learn curious our employee lead affinity group foster culture inclusion empower proud difference ongoing event learn experience include conversation race ethnicity core guide path blog'"
      ]
     },
     "execution_count": 21,
     "metadata": {},
     "output_type": "execute_result"
    }
   ],
   "source": [
    "preprocess_text = preprocessing(final_detected_text)\n",
    "preprocess_text"
   ]
  },
  {
   "cell_type": "markdown",
   "id": "655b5c02-5795-4527-997a-a010092bde79",
   "metadata": {
    "id": "655b5c02-5795-4527-997a-a010092bde79"
   },
   "source": [
    "# Extracting skills"
   ]
  },
  {
   "cell_type": "code",
   "execution_count": 33,
   "id": "61fac1ee-295e-4dd1-a0f8-f3b172ec86fd",
   "metadata": {
    "id": "61fac1ee-295e-4dd1-a0f8-f3b172ec86fd"
   },
   "outputs": [],
   "source": [
    "def get_skills(text):\n",
    "  doc = nlp(text)\n",
    "\n",
    "  skills = []\n",
    "\n",
    "  for ent in doc.ents:\n",
    "    if ent.label_ == 'SKILL':\n",
    "      skills.append(ent.text)\n",
    "\n",
    "  return list(set(skills))"
   ]
  },
  {
   "cell_type": "code",
   "execution_count": 34,
   "id": "bbea15f4-b7a8-4f4e-9731-f9909a2e86bd",
   "metadata": {
    "colab": {
     "base_uri": "https://localhost:8080/",
     "height": 159
    },
    "id": "bbea15f4-b7a8-4f4e-9731-f9909a2e86bd",
    "outputId": "59af6d13-1534-426d-a853-1e186ce74b81"
   },
   "outputs": [
    {
     "ename": "NameError",
     "evalue": "name 'preprocess_text' is not defined",
     "output_type": "error",
     "traceback": [
      "\u001b[0;31m---------------------------------------------------------------------------\u001b[0m",
      "\u001b[0;31mNameError\u001b[0m                                 Traceback (most recent call last)",
      "\u001b[0;32m<ipython-input-34-9b6b9c01de5a>\u001b[0m in \u001b[0;36m<cell line: 0>\u001b[0;34m()\u001b[0m\n\u001b[0;32m----> 1\u001b[0;31m \u001b[0mop_skills\u001b[0m \u001b[0;34m=\u001b[0m \u001b[0mget_skills\u001b[0m\u001b[0;34m(\u001b[0m\u001b[0mpreprocess_text\u001b[0m\u001b[0;34m)\u001b[0m\u001b[0;34m\u001b[0m\u001b[0;34m\u001b[0m\u001b[0m\n\u001b[0m\u001b[1;32m      2\u001b[0m \u001b[0mset\u001b[0m\u001b[0;34m(\u001b[0m\u001b[0mop_skills\u001b[0m\u001b[0;34m)\u001b[0m\u001b[0;34m\u001b[0m\u001b[0;34m\u001b[0m\u001b[0m\n",
      "\u001b[0;31mNameError\u001b[0m: name 'preprocess_text' is not defined"
     ]
    }
   ],
   "source": [
    "op_skills = get_skills(preprocess_text)\n",
    "set(op_skills)"
   ]
  },
  {
   "cell_type": "markdown",
   "id": "42abc3fd-ea7a-412d-b407-76fdb26e567d",
   "metadata": {
    "id": "42abc3fd-ea7a-412d-b407-76fdb26e567d"
   },
   "source": [
    "# Extract adjectives and adverbs"
   ]
  },
  {
   "cell_type": "code",
   "execution_count": 1,
   "id": "52e3747d-5532-4d44-9267-5633034ba94a",
   "metadata": {
    "colab": {
     "base_uri": "https://localhost:8080/"
    },
    "id": "52e3747d-5532-4d44-9267-5633034ba94a",
    "outputId": "00f0b908-e8f4-4340-c47f-c228a6049f39"
   },
   "outputs": [
    {
     "name": "stderr",
     "output_type": "stream",
     "text": [
      "[nltk_data] Downloading package words to C:\\Users\\Adnan\n",
      "[nltk_data]     Nazir\\AppData\\Roaming\\nltk_data...\n",
      "[nltk_data]   Package words is already up-to-date!\n"
     ]
    }
   ],
   "source": [
    "import nltk\n",
    "from nltk.corpus import words\n",
    "nltk.download('words')\n",
    "valid_words = set(words.words())"
   ]
  },
  {
   "cell_type": "code",
   "execution_count": 2,
   "id": "aVkyFIN8KyT2",
   "metadata": {
    "id": "aVkyFIN8KyT2"
   },
   "outputs": [],
   "source": [
    "def get_adjectives(text):\n",
    "    doc = nlp(text)\n",
    "\n",
    "    # Extract adjectives\n",
    "    doc = nlp(text)\n",
    "    adjectives = []\n",
    "\n",
    "    for token in doc:\n",
    "        # Check if the token's POS is 'ADJ' (adjective)\n",
    "        if token.pos_ == \"ADJ\":\n",
    "            lemma = token.lemma_.lower()\n",
    "            # Only include valid English words\n",
    "            if lemma in valid_words:\n",
    "                adjectives.append(lemma)\n",
    "\n",
    "    return adjectives"
   ]
  },
  {
   "cell_type": "code",
   "execution_count": 3,
   "id": "gThzNTY_K2IC",
   "metadata": {
    "id": "gThzNTY_K2IC"
   },
   "outputs": [],
   "source": [
    "def get_adverbs(text):\n",
    "    doc = nlp(text)\n",
    "\n",
    "    # Extract adverbs\n",
    "    adverbs = [\n",
    "        token.lemma_.lower()\n",
    "        for token in doc\n",
    "        if token.pos_ == \"ADV\" and token.lemma_.lower() in valid_words\n",
    "    ]\n",
    "\n",
    "    return adverbs"
   ]
  },
  {
   "cell_type": "code",
   "execution_count": null,
   "id": "b76d348b-ead5-4c27-91ae-97381e454ad1",
   "metadata": {
    "id": "b76d348b-ead5-4c27-91ae-97381e454ad1"
   },
   "outputs": [],
   "source": [
    "adjectives = get_adjectives(preprocess_text)\n",
    "adverbs = get_adverbs(preprocess_text)"
   ]
  },
  {
   "cell_type": "code",
   "execution_count": null,
   "id": "482b7beb-591b-47f8-a279-c79402f7a815",
   "metadata": {
    "id": "482b7beb-591b-47f8-a279-c79402f7a815",
    "outputId": "6a9b866b-a5fb-46f2-a534-92c49590425a"
   },
   "outputs": [
    {
     "data": {
      "text/plain": [
       "['forefront',\n",
       " 'generative',\n",
       " 'real',\n",
       " 'significant',\n",
       " 'generative',\n",
       " 'strategic',\n",
       " 'great',\n",
       " 'fine',\n",
       " 'right',\n",
       " 'technical',\n",
       " 'proof',\n",
       " 'good',\n",
       " 'generative',\n",
       " 'fast',\n",
       " 'new',\n",
       " 'new',\n",
       " 'capable',\n",
       " 'key',\n",
       " 'generative',\n",
       " 'real',\n",
       " 'deep',\n",
       " 'good',\n",
       " 'technical',\n",
       " 'diverse',\n",
       " 'diverse',\n",
       " 'traditional',\n",
       " 'alternative',\n",
       " 'cloud',\n",
       " 'successful',\n",
       " 'global',\n",
       " 'robust',\n",
       " 'strive',\n",
       " 'cloud',\n",
       " 'inclusive',\n",
       " 'curious',\n",
       " 'ongoing']"
      ]
     },
     "execution_count": 28,
     "metadata": {},
     "output_type": "execute_result"
    }
   ],
   "source": [
    "adjectives"
   ]
  },
  {
   "cell_type": "code",
   "execution_count": null,
   "id": "986ccacb-24f4-45c7-a664-1e6b0476f0a2",
   "metadata": {
    "id": "986ccacb-24f4-45c7-a664-1e6b0476f0a2",
    "outputId": "369226b7-aed6-4d5e-f06b-1e701be4a9c5"
   },
   "outputs": [
    {
     "data": {
      "text/plain": [
       "['responsibly',\n",
       " 'efficiently',\n",
       " 'directly',\n",
       " 'directly',\n",
       " 'even',\n",
       " 'broadly',\n",
       " 'here']"
      ]
     },
     "execution_count": 29,
     "metadata": {},
     "output_type": "execute_result"
    }
   ],
   "source": [
    "adverbs"
   ]
  },
  {
   "cell_type": "markdown",
   "id": "776d1de1-90a7-4bd4-b0a1-b256722ddb35",
   "metadata": {
    "id": "776d1de1-90a7-4bd4-b0a1-b256722ddb35"
   },
   "source": [
    "# visualize"
   ]
  },
  {
   "cell_type": "code",
   "execution_count": 13,
   "id": "8194fb3f-6cd1-449c-a0ae-9337367e83d8",
   "metadata": {
    "id": "8194fb3f-6cd1-449c-a0ae-9337367e83d8"
   },
   "outputs": [],
   "source": [
    "from spacy import displacy"
   ]
  },
  {
   "cell_type": "code",
   "execution_count": null,
   "id": "3c2371ec-195a-4ba8-9d50-3647e0fcbdd6",
   "metadata": {
    "id": "3c2371ec-195a-4ba8-9d50-3647e0fcbdd6"
   },
   "outputs": [],
   "source": [
    "doc = nlp(preprocess_text)"
   ]
  },
  {
   "cell_type": "code",
   "execution_count": null,
   "id": "e8b1ce3f-db44-44a6-8f7d-bacbd59717ab",
   "metadata": {
    "id": "e8b1ce3f-db44-44a6-8f7d-bacbd59717ab",
    "outputId": "167ca00c-b027-45fa-abb1-188600887fdd"
   },
   "outputs": [
    {
     "data": {
      "text/html": [
       "<span class=\"tex2jax_ignore\"><div class=\"entities\" style=\"line-height: 2.5; direction: ltr\">\n",
       "<mark class=\"entity\" style=\"background: #7aecec; padding: 0.45em 0.6em; margin: 0 0.25em; line-height: 1; border-radius: 0.35em;\">\n",
       "    data scientist\n",
       "    <span style=\"font-size: 0.8em; font-weight: bold; line-height: 1; border-radius: 0.35em; vertical-align: middle; margin-left: 0.5rem\">ORG</span>\n",
       "</mark>\n",
       " arlington \n",
       "<mark class=\"entity\" style=\"background: #7aecec; padding: 0.45em 0.6em; margin: 0 0.25em; line-height: 1; border-radius: 0.35em;\">\n",
       "    virginia usa\n",
       "    <span style=\"font-size: 0.8em; font-weight: bold; line-height: 1; border-radius: 0.35em; vertical-align: middle; margin-left: 0.5rem\">ORG</span>\n",
       "</mark>\n",
       " updated 26/11/2024 be look work forefront \n",
       "<mark class=\"entity\" style=\"background: #ddd; padding: 0.45em 0.6em; margin: 0 0.25em; line-height: 1; border-radius: 0.35em;\">\n",
       "    machine learning\n",
       "    <span style=\"font-size: 0.8em; font-weight: bold; line-height: 1; border-radius: 0.35em; vertical-align: middle; margin-left: 0.5rem\">SKILL</span>\n",
       "</mark>\n",
       " \n",
       "<mark class=\"entity\" style=\"background: #ddd; padding: 0.45em 0.6em; margin: 0 0.25em; line-height: 1; border-radius: 0.35em;\">\n",
       "    ai\n",
       "    <span style=\"font-size: 0.8em; font-weight: bold; line-height: 1; border-radius: 0.35em; vertical-align: middle; margin-left: 0.5rem\">SKILL</span>\n",
       "</mark>\n",
       " would excited apply cut edge generative \n",
       "<mark class=\"entity\" style=\"background: #ddd; padding: 0.45em 0.6em; margin: 0 0.25em; line-height: 1; border-radius: 0.35em;\">\n",
       "    ai\n",
       "    <span style=\"font-size: 0.8em; font-weight: bold; line-height: 1; border-radius: 0.35em; vertical-align: middle; margin-left: 0.5rem\">SKILL</span>\n",
       "</mark>\n",
       " \n",
       "<mark class=\"entity\" style=\"background: #ddd; padding: 0.45em 0.6em; margin: 0 0.25em; line-height: 1; border-radius: 0.35em;\">\n",
       "    algorithm\n",
       "    <span style=\"font-size: 0.8em; font-weight: bold; line-height: 1; border-radius: 0.35em; vertical-align: middle; margin-left: 0.5rem\">SKILL</span>\n",
       "</mark>\n",
       " solve real world problem significant impact the \n",
       "<mark class=\"entity\" style=\"background: #ddd; padding: 0.45em 0.6em; margin: 0 0.25em; line-height: 1; border-radius: 0.35em;\">\n",
       "    aws\n",
       "    <span style=\"font-size: 0.8em; font-weight: bold; line-height: 1; border-radius: 0.35em; vertical-align: middle; margin-left: 0.5rem\">SKILL</span>\n",
       "</mark>\n",
       " industries team \n",
       "<mark class=\"entity\" style=\"background: #ddd; padding: 0.45em 0.6em; margin: 0 0.25em; line-height: 1; border-radius: 0.35em;\">\n",
       "    aws\n",
       "    <span style=\"font-size: 0.8em; font-weight: bold; line-height: 1; border-radius: 0.35em; vertical-align: middle; margin-left: 0.5rem\">SKILL</span>\n",
       "</mark>\n",
       " help \n",
       "<mark class=\"entity\" style=\"background: #ddd; padding: 0.45em 0.6em; margin: 0 0.25em; line-height: 1; border-radius: 0.35em;\">\n",
       "    aws\n",
       "    <span style=\"font-size: 0.8em; font-weight: bold; line-height: 1; border-radius: 0.35em; vertical-align: middle; margin-left: 0.5rem\">SKILL</span>\n",
       "</mark>\n",
       " customer implement generative \n",
       "<mark class=\"entity\" style=\"background: #ddd; padding: 0.45em 0.6em; margin: 0 0.25em; line-height: 1; border-radius: 0.35em;\">\n",
       "    ai\n",
       "    <span style=\"font-size: 0.8em; font-weight: bold; line-height: 1; border-radius: 0.35em; vertical-align: middle; margin-left: 0.5rem\">SKILL</span>\n",
       "</mark>\n",
       " solution realize transformational \n",
       "<mark class=\"entity\" style=\"background: #ddd; padding: 0.45em 0.6em; margin: 0 0.25em; line-height: 1; border-radius: 0.35em;\">\n",
       "    business\n",
       "    <span style=\"font-size: 0.8em; font-weight: bold; line-height: 1; border-radius: 0.35em; vertical-align: middle; margin-left: 0.5rem\">SKILL</span>\n",
       "</mark>\n",
       " opportunity \n",
       "<mark class=\"entity\" style=\"background: #ddd; padding: 0.45em 0.6em; margin: 0 0.25em; line-height: 1; border-radius: 0.35em;\">\n",
       "    aws\n",
       "    <span style=\"font-size: 0.8em; font-weight: bold; line-height: 1; border-radius: 0.35em; vertical-align: middle; margin-left: 0.5rem\">SKILL</span>\n",
       "</mark>\n",
       " customer strategic industry vertical this team \n",
       "<mark class=\"entity\" style=\"background: #ddd; padding: 0.45em 0.6em; margin: 0 0.25em; line-height: 1; border-radius: 0.35em;\">\n",
       "    data scientist\n",
       "    <span style=\"font-size: 0.8em; font-weight: bold; line-height: 1; border-radius: 0.35em; vertical-align: middle; margin-left: 0.5rem\">SKILL</span>\n",
       "</mark>\n",
       " engineer \n",
       "<mark class=\"entity\" style=\"background: #ddd; padding: 0.45em 0.6em; margin: 0 0.25em; line-height: 1; border-radius: 0.35em;\">\n",
       "    architect\n",
       "    <span style=\"font-size: 0.8em; font-weight: bold; line-height: 1; border-radius: 0.35em; vertical-align: middle; margin-left: 0.5rem\">SKILL</span>\n",
       "</mark>\n",
       " work step step customer build bespoke solution harness power generative \n",
       "<mark class=\"entity\" style=\"background: #ddd; padding: 0.45em 0.6em; margin: 0 0.25em; line-height: 1; border-radius: 0.35em;\">\n",
       "    ai\n",
       "    <span style=\"font-size: 0.8em; font-weight: bold; line-height: 1; border-radius: 0.35em; vertical-align: middle; margin-left: 0.5rem\">SKILL</span>\n",
       "</mark>\n",
       " the team help customer imagine scope use case create great value \n",
       "<mark class=\"entity\" style=\"background: #ddd; padding: 0.45em 0.6em; margin: 0 0.25em; line-height: 1; border-radius: 0.35em;\">\n",
       "    business\n",
       "    <span style=\"font-size: 0.8em; font-weight: bold; line-height: 1; border-radius: 0.35em; vertical-align: middle; margin-left: 0.5rem\">SKILL</span>\n",
       "</mark>\n",
       " select train fine tune right model define path navigate technical \n",
       "<mark class=\"entity\" style=\"background: #ddd; padding: 0.45em 0.6em; margin: 0 0.25em; line-height: 1; border-radius: 0.35em;\">\n",
       "    business\n",
       "    <span style=\"font-size: 0.8em; font-weight: bold; line-height: 1; border-radius: 0.35em; vertical-align: middle; margin-left: 0.5rem\">SKILL</span>\n",
       "</mark>\n",
       " challenge develop proof concept build application launch solution scale the \n",
       "<mark class=\"entity\" style=\"background: #ddd; padding: 0.45em 0.6em; margin: 0 0.25em; line-height: 1; border-radius: 0.35em;\">\n",
       "    aws\n",
       "    <span style=\"font-size: 0.8em; font-weight: bold; line-height: 1; border-radius: 0.35em; vertical-align: middle; margin-left: 0.5rem\">SKILL</span>\n",
       "</mark>\n",
       " industries team provide guidance implement good practice apply generative \n",
       "<mark class=\"entity\" style=\"background: #ddd; padding: 0.45em 0.6em; margin: 0 0.25em; line-height: 1; border-radius: 0.35em;\">\n",
       "    ai\n",
       "    <span style=\"font-size: 0.8em; font-weight: bold; line-height: 1; border-radius: 0.35em; vertical-align: middle; margin-left: 0.5rem\">SKILL</span>\n",
       "</mark>\n",
       " responsibly cost efficiently you work directly customer innovate fast pace organization contribute game change project technology you \n",
       "<mark class=\"entity\" style=\"background: #ddd; padding: 0.45em 0.6em; margin: 0 0.25em; line-height: 1; border-radius: 0.35em;\">\n",
       "    design\n",
       "    <span style=\"font-size: 0.8em; font-weight: bold; line-height: 1; border-radius: 0.35em; vertical-align: middle; margin-left: 0.5rem\">SKILL</span>\n",
       "</mark>\n",
       " run experiment \n",
       "<mark class=\"entity\" style=\"background: #ddd; padding: 0.45em 0.6em; margin: 0 0.25em; line-height: 1; border-radius: 0.35em;\">\n",
       "    research\n",
       "    <span style=\"font-size: 0.8em; font-weight: bold; line-height: 1; border-radius: 0.35em; vertical-align: middle; margin-left: 0.5rem\">SKILL</span>\n",
       "</mark>\n",
       " new \n",
       "<mark class=\"entity\" style=\"background: #ddd; padding: 0.45em 0.6em; margin: 0 0.25em; line-height: 1; border-radius: 0.35em;\">\n",
       "    algorithm\n",
       "    <span style=\"font-size: 0.8em; font-weight: bold; line-height: 1; border-radius: 0.35em; vertical-align: middle; margin-left: 0.5rem\">SKILL</span>\n",
       "</mark>\n",
       " find new way optimize risk profitability customer experience in \n",
       "<mark class=\"entity\" style=\"background: #ddd; padding: 0.45em 0.6em; margin: 0 0.25em; line-height: 1; border-radius: 0.35em;\">\n",
       "    data scientist\n",
       "    <span style=\"font-size: 0.8em; font-weight: bold; line-height: 1; border-radius: 0.35em; vertical-align: middle; margin-left: 0.5rem\">SKILL</span>\n",
       "</mark>\n",
       " role capable genai technique \n",
       "<mark class=\"entity\" style=\"background: #ddd; padding: 0.45em 0.6em; margin: 0 0.25em; line-height: 1; border-radius: 0.35em;\">\n",
       "    design\n",
       "    <span style=\"font-size: 0.8em; font-weight: bold; line-height: 1; border-radius: 0.35em; vertical-align: middle; margin-left: 0.5rem\">SKILL</span>\n",
       "</mark>\n",
       " evangelize implement scale cutting edge solution solved problem key job responsibility as \n",
       "<mark class=\"entity\" style=\"background: #ddd; padding: 0.45em 0.6em; margin: 0 0.25em; line-height: 1; border-radius: 0.35em;\">\n",
       "    data scientist\n",
       "    <span style=\"font-size: 0.8em; font-weight: bold; line-height: 1; border-radius: 0.35em; vertical-align: middle; margin-left: 0.5rem\">SKILL</span>\n",
       "</mark>\n",
       " collaborate \n",
       "<mark class=\"entity\" style=\"background: #ddd; padding: 0.45em 0.6em; margin: 0 0.25em; line-height: 1; border-radius: 0.35em;\">\n",
       "    ai\n",
       "    <span style=\"font-size: 0.8em; font-weight: bold; line-height: 1; border-radius: 0.35em; vertical-align: middle; margin-left: 0.5rem\">SKILL</span>\n",
       "</mark>\n",
       " \n",
       "<mark class=\"entity\" style=\"background: #ddd; padding: 0.45em 0.6em; margin: 0 0.25em; line-height: 1; border-radius: 0.35em;\">\n",
       "    ml\n",
       "    <span style=\"font-size: 0.8em; font-weight: bold; line-height: 1; border-radius: 0.35em; vertical-align: middle; margin-left: 0.5rem\">SKILL</span>\n",
       "</mark>\n",
       " scientist engineer \n",
       "<mark class=\"entity\" style=\"background: #ddd; padding: 0.45em 0.6em; margin: 0 0.25em; line-height: 1; border-radius: 0.35em;\">\n",
       "    architect\n",
       "    <span style=\"font-size: 0.8em; font-weight: bold; line-height: 1; border-radius: 0.35em; vertical-align: middle; margin-left: 0.5rem\">SKILL</span>\n",
       "</mark>\n",
       " \n",
       "<mark class=\"entity\" style=\"background: #ddd; padding: 0.45em 0.6em; margin: 0 0.25em; line-height: 1; border-radius: 0.35em;\">\n",
       "    research\n",
       "    <span style=\"font-size: 0.8em; font-weight: bold; line-height: 1; border-radius: 0.35em; vertical-align: middle; margin-left: 0.5rem\">SKILL</span>\n",
       "</mark>\n",
       " \n",
       "<mark class=\"entity\" style=\"background: #ddd; padding: 0.45em 0.6em; margin: 0 0.25em; line-height: 1; border-radius: 0.35em;\">\n",
       "    design\n",
       "    <span style=\"font-size: 0.8em; font-weight: bold; line-height: 1; border-radius: 0.35em; vertical-align: middle; margin-left: 0.5rem\">SKILL</span>\n",
       "</mark>\n",
       " develop evaluate cutting edge generative \n",
       "<mark class=\"entity\" style=\"background: #ddd; padding: 0.45em 0.6em; margin: 0 0.25em; line-height: 1; border-radius: 0.35em;\">\n",
       "    ai\n",
       "    <span style=\"font-size: 0.8em; font-weight: bold; line-height: 1; border-radius: 0.35em; vertical-align: middle; margin-left: 0.5rem\">SKILL</span>\n",
       "</mark>\n",
       " \n",
       "<mark class=\"entity\" style=\"background: #ddd; padding: 0.45em 0.6em; margin: 0 0.25em; line-height: 1; border-radius: 0.35em;\">\n",
       "    algorithm\n",
       "    <span style=\"font-size: 0.8em; font-weight: bold; line-height: 1; border-radius: 0.35em; vertical-align: middle; margin-left: 0.5rem\">SKILL</span>\n",
       "</mark>\n",
       " build \n",
       "<mark class=\"entity\" style=\"background: #ddd; padding: 0.45em 0.6em; margin: 0 0.25em; line-height: 1; border-radius: 0.35em;\">\n",
       "    ml\n",
       "    <span style=\"font-size: 0.8em; font-weight: bold; line-height: 1; border-radius: 0.35em; vertical-align: middle; margin-left: 0.5rem\">SKILL</span>\n",
       "</mark>\n",
       " system address real world challenge interact customer directly understand \n",
       "<mark class=\"entity\" style=\"background: #ddd; padding: 0.45em 0.6em; margin: 0 0.25em; line-height: 1; border-radius: 0.35em;\">\n",
       "    business\n",
       "    <span style=\"font-size: 0.8em; font-weight: bold; line-height: 1; border-radius: 0.35em; vertical-align: middle; margin-left: 0.5rem\">SKILL</span>\n",
       "</mark>\n",
       " problem help aid implementation generative \n",
       "<mark class=\"entity\" style=\"background: #ddd; padding: 0.45em 0.6em; margin: 0 0.25em; line-height: 1; border-radius: 0.35em;\">\n",
       "    ai\n",
       "    <span style=\"font-size: 0.8em; font-weight: bold; line-height: 1; border-radius: 0.35em; vertical-align: middle; margin-left: 0.5rem\">SKILL</span>\n",
       "</mark>\n",
       " solution deliver briefing deep dive session customer customer adoption pattern production create deliver good practice recommendation tutorial post publication sample code presentation adapt technical \n",
       "<mark class=\"entity\" style=\"background: #ddd; padding: 0.45em 0.6em; margin: 0 0.25em; line-height: 1; border-radius: 0.35em;\">\n",
       "    business\n",
       "    <span style=\"font-size: 0.8em; font-weight: bold; line-height: 1; border-radius: 0.35em; vertical-align: middle; margin-left: 0.5rem\">SKILL</span>\n",
       "</mark>\n",
       " executive stakeholder provide customer market feedback product \n",
       "<mark class=\"entity\" style=\"background: #ddd; padding: 0.45em 0.6em; margin: 0 0.25em; line-height: 1; border-radius: 0.35em;\">\n",
       "    engineering\n",
       "    <span style=\"font-size: 0.8em; font-weight: bold; line-height: 1; border-radius: 0.35em; vertical-align: middle; margin-left: 0.5rem\">SKILL</span>\n",
       "</mark>\n",
       " team help define product direction about team about \n",
       "<mark class=\"entity\" style=\"background: #ddd; padding: 0.45em 0.6em; margin: 0 0.25em; line-height: 1; border-radius: 0.35em;\">\n",
       "    aws\n",
       "    <span style=\"font-size: 0.8em; font-weight: bold; line-height: 1; border-radius: 0.35em; vertical-align: middle; margin-left: 0.5rem\">SKILL</span>\n",
       "</mark>\n",
       " diverse experiences amazon value diverse experience even meet prefer qualification skill list job description encourage candidate apply if career start follow traditional path include alternative experience let stop apply why \n",
       "<mark class=\"entity\" style=\"background: #ddd; padding: 0.45em 0.6em; margin: 0 0.25em; line-height: 1; border-radius: 0.35em;\">\n",
       "    aws\n",
       "    <span style=\"font-size: 0.8em; font-weight: bold; line-height: 1; border-radius: 0.35em; vertical-align: middle; margin-left: 0.5rem\">SKILL</span>\n",
       "</mark>\n",
       " \n",
       "<mark class=\"entity\" style=\"background: #ddd; padding: 0.45em 0.6em; margin: 0 0.25em; line-height: 1; border-radius: 0.35em;\">\n",
       "    amazon web services\n",
       "    <span style=\"font-size: 0.8em; font-weight: bold; line-height: 1; border-radius: 0.35em; vertical-align: middle; margin-left: 0.5rem\">SKILL</span>\n",
       "</mark>\n",
       " \n",
       "<mark class=\"entity\" style=\"background: #ddd; padding: 0.45em 0.6em; margin: 0 0.25em; line-height: 1; border-radius: 0.35em;\">\n",
       "    aws\n",
       "    <span style=\"font-size: 0.8em; font-weight: bold; line-height: 1; border-radius: 0.35em; vertical-align: middle; margin-left: 0.5rem\">SKILL</span>\n",
       "</mark>\n",
       " world comprehensive broadly adopt \n",
       "<mark class=\"entity\" style=\"background: #ddd; padding: 0.45em 0.6em; margin: 0 0.25em; line-height: 1; border-radius: 0.35em;\">\n",
       "    cloud\n",
       "    <span style=\"font-size: 0.8em; font-weight: bold; line-height: 1; border-radius: 0.35em; vertical-align: middle; margin-left: 0.5rem\">SKILL</span>\n",
       "</mark>\n",
       " platform we pioneer \n",
       "<mark class=\"entity\" style=\"background: #ddd; padding: 0.45em 0.6em; margin: 0 0.25em; line-height: 1; border-radius: 0.35em;\">\n",
       "    cloud computing\n",
       "    <span style=\"font-size: 0.8em; font-weight: bold; line-height: 1; border-radius: 0.35em; vertical-align: middle; margin-left: 0.5rem\">SKILL</span>\n",
       "</mark>\n",
       " stop innovate customer successful startup global \n",
       "<mark class=\"entity\" style=\"background: #e4e7d2; padding: 0.45em 0.6em; margin: 0 0.25em; line-height: 1; border-radius: 0.35em;\">\n",
       "    500\n",
       "    <span style=\"font-size: 0.8em; font-weight: bold; line-height: 1; border-radius: 0.35em; vertical-align: middle; margin-left: 0.5rem\">CARDINAL</span>\n",
       "</mark>\n",
       " company trust robust suite product service power \n",
       "<mark class=\"entity\" style=\"background: #ddd; padding: 0.45em 0.6em; margin: 0 0.25em; line-height: 1; border-radius: 0.35em;\">\n",
       "    business\n",
       "    <span style=\"font-size: 0.8em; font-weight: bold; line-height: 1; border-radius: 0.35em; vertical-align: middle; margin-left: 0.5rem\">SKILL</span>\n",
       "</mark>\n",
       " work life balance we value work life harmony achieve success work come expense sacrifice home strive flexibility working culture when feel support workplace home achieve \n",
       "<mark class=\"entity\" style=\"background: #ddd; padding: 0.45em 0.6em; margin: 0 0.25em; line-height: 1; border-radius: 0.35em;\">\n",
       "    cloud\n",
       "    <span style=\"font-size: 0.8em; font-weight: bold; line-height: 1; border-radius: 0.35em; vertical-align: middle; margin-left: 0.5rem\">SKILL</span>\n",
       "</mark>\n",
       " inclusive team culture here \n",
       "<mark class=\"entity\" style=\"background: #ddd; padding: 0.45em 0.6em; margin: 0 0.25em; line-height: 1; border-radius: 0.35em;\">\n",
       "    aws\n",
       "    <span style=\"font-size: 0.8em; font-weight: bold; line-height: 1; border-radius: 0.35em; vertical-align: middle; margin-left: 0.5rem\">SKILL</span>\n",
       "</mark>\n",
       " nature learn curious our employee lead affinity group foster culture inclusion empower proud difference ongoing event learn experience include conversation race ethnicity core guide path blog</div></span>"
      ],
      "text/plain": [
       "<IPython.core.display.HTML object>"
      ]
     },
     "metadata": {},
     "output_type": "display_data"
    }
   ],
   "source": [
    "displacy.render(doc , style = 'ent')"
   ]
  },
  {
   "cell_type": "code",
   "execution_count": null,
   "id": "3328d268-0ebf-4f5d-94a3-965f59adf972",
   "metadata": {
    "id": "3328d268-0ebf-4f5d-94a3-965f59adf972"
   },
   "outputs": [],
   "source": []
  },
  {
   "cell_type": "code",
   "execution_count": null,
   "id": "ccab7e91-38be-4688-84bf-12c13a8842c2",
   "metadata": {
    "id": "ccab7e91-38be-4688-84bf-12c13a8842c2"
   },
   "outputs": [],
   "source": []
  },
  {
   "cell_type": "markdown",
   "id": "215bfcc7-a8f5-4437-8770-bfa764a8935e",
   "metadata": {
    "id": "215bfcc7-a8f5-4437-8770-bfa764a8935e"
   },
   "source": [
    "# Loading the DATA set"
   ]
  },
  {
   "cell_type": "code",
   "execution_count": 17,
   "id": "X35IvNBgID2F",
   "metadata": {
    "id": "X35IvNBgID2F"
   },
   "outputs": [],
   "source": [
    "! pip install datasets"
   ]
  },
  {
   "cell_type": "code",
   "execution_count": 16,
   "id": "4f63bd5c-c344-4829-8130-2669aa3f3a12",
   "metadata": {
    "colab": {
     "base_uri": "https://localhost:8080/",
     "height": 269,
     "referenced_widgets": [
      "de154ad94fda41fe8c05a1e789bc3b83",
      "89bbe318fcd04fd4a22cb8848516ac0a",
      "c586b7ed4e35483ab861ec1a41a7753d",
      "2a002571bb4e4923be84862d11fad147",
      "b136517faa124b739c0b7d731be34d1a",
      "c17faf0d106d4f0684d5b197649ead82",
      "24c5b9fe55ae431587b0240c978e8754",
      "1b960de946e04a2cb5aff9dd53881e6c",
      "946f82207019415d9b4b8010730345da",
      "8f8efad2de494f0382ffc0e5898adb26",
      "20fc990712444f139485043ded87e347",
      "c46c94dd1eff4f0fb410ad229f4f33c5",
      "e16f0b646f504af7827da41078d8598b",
      "be8d7f51da1d4fec9f5f43ef5b74ed14",
      "fbcd464a5c2d4319aa6e594e086faceb",
      "5549f361313e4859af5f897940ed174f",
      "09738cc507db4d8296d09ee589b32231",
      "534ce365980b4749a73059ab3aefd217",
      "00517590275f4db2b1ea0191e6a18f60",
      "dc7ccc48763e43078932b2e3d8ff7df3",
      "e9570ac0f1e7406eb8840bb1611da3f8",
      "c3fafb2913974182a832755d38149943",
      "075f17277cf64f4689f5ac8a0493a17d",
      "41fb1ecc21b24ee2a9066c643250520f",
      "8d765514b9714a13b303d59f3261a55b",
      "face3617e90347109aa51e9a912d77ee",
      "69cbaac18be244189a15e429ac5bec7d",
      "8ef51b5d74dd48dda691274b8c57137e",
      "3debc65fd7cd4bb2971d7eb013ae2174",
      "e478df13d1164a5886c3640bf60a682d",
      "be146ba3908a4e10a44bcddf14b95c24",
      "1c11ea70318b46aea107b9d0642dcc01",
      "044aa5c6174d4727bb503325dd9d31e3",
      "5e02224ad4ee4d048e3039526f9bcbd6",
      "600985f57389462e97043b47389e124d",
      "c7434905ebb14732b8682ee109efd1f3",
      "b809090c872747f3b4d9a8c6c6481b4b",
      "3a06a03ada884559859982db527ba292",
      "311819d78fba4f10a3d55da78702bba9",
      "c8e2dc6a24af488cacb50665ebe9bb21",
      "8ea4c2d19cf9449eb5df9f6690ad792b",
      "daab2a8b7fc940108a34255e61b4ee34",
      "f5a7b657032a49eba98a3e0a13e49a94",
      "33734ccac855446daf0b9a317ff64f94"
     ]
    },
    "id": "4f63bd5c-c344-4829-8130-2669aa3f3a12",
    "outputId": "540a4223-bedc-43ee-9ed7-6def8adee645"
   },
   "outputs": [
    {
     "name": "stderr",
     "output_type": "stream",
     "text": [
      "/usr/local/lib/python3.11/dist-packages/huggingface_hub/utils/_auth.py:94: UserWarning: \n",
      "The secret `HF_TOKEN` does not exist in your Colab secrets.\n",
      "To authenticate with the Hugging Face Hub, create a token in your settings tab (https://huggingface.co/settings/tokens), set it as secret in your Google Colab and restart your session.\n",
      "You will be able to reuse this secret in all of your notebooks.\n",
      "Please note that authentication is recommended but still optional to access public models or datasets.\n",
      "  warnings.warn(\n"
     ]
    },
    {
     "data": {
      "application/vnd.jupyter.widget-view+json": {
       "model_id": "de154ad94fda41fe8c05a1e789bc3b83",
       "version_major": 2,
       "version_minor": 0
      },
      "text/plain": [
       "train.csv:   0%|          | 0.00/53.4M [00:00<?, ?B/s]"
      ]
     },
     "metadata": {},
     "output_type": "display_data"
    },
    {
     "data": {
      "application/vnd.jupyter.widget-view+json": {
       "model_id": "c46c94dd1eff4f0fb410ad229f4f33c5",
       "version_major": 2,
       "version_minor": 0
      },
      "text/plain": [
       "test.csv:   0%|          | 0.00/15.2M [00:00<?, ?B/s]"
      ]
     },
     "metadata": {},
     "output_type": "display_data"
    },
    {
     "data": {
      "application/vnd.jupyter.widget-view+json": {
       "model_id": "075f17277cf64f4689f5ac8a0493a17d",
       "version_major": 2,
       "version_minor": 0
      },
      "text/plain": [
       "Generating train split:   0%|          | 0/6241 [00:00<?, ? examples/s]"
      ]
     },
     "metadata": {},
     "output_type": "display_data"
    },
    {
     "data": {
      "application/vnd.jupyter.widget-view+json": {
       "model_id": "5e02224ad4ee4d048e3039526f9bcbd6",
       "version_major": 2,
       "version_minor": 0
      },
      "text/plain": [
       "Generating test split:   0%|          | 0/1759 [00:00<?, ? examples/s]"
      ]
     },
     "metadata": {},
     "output_type": "display_data"
    }
   ],
   "source": [
    "from datasets import load_dataset\n",
    "\n",
    "dataset = load_dataset(\"cnamuangtoun/resume-job-description-fit\")"
   ]
  },
  {
   "cell_type": "code",
   "execution_count": 18,
   "id": "12b6623f-45c6-4df2-985d-10055d35db65",
   "metadata": {
    "colab": {
     "base_uri": "https://localhost:8080/"
    },
    "id": "12b6623f-45c6-4df2-985d-10055d35db65",
    "outputId": "35db17a9-2222-475f-b8a4-83e092484f25"
   },
   "outputs": [
    {
     "data": {
      "text/plain": [
       "Dataset({\n",
       "    features: ['resume_text', 'job_description_text', 'label'],\n",
       "    num_rows: 6241\n",
       "})"
      ]
     },
     "execution_count": 18,
     "metadata": {},
     "output_type": "execute_result"
    }
   ],
   "source": [
    "dataset[\"train\"]"
   ]
  },
  {
   "cell_type": "code",
   "execution_count": 19,
   "id": "86043648-a7de-4f39-9a9d-904dc6eafea4",
   "metadata": {
    "colab": {
     "base_uri": "https://localhost:8080/"
    },
    "id": "86043648-a7de-4f39-9a9d-904dc6eafea4",
    "outputId": "aa96bda1-2333-4a1d-edda-3580362c6ba9"
   },
   "outputs": [
    {
     "data": {
      "text/plain": [
       "Dataset({\n",
       "    features: ['resume_text', 'job_description_text', 'label'],\n",
       "    num_rows: 1759\n",
       "})"
      ]
     },
     "execution_count": 19,
     "metadata": {},
     "output_type": "execute_result"
    }
   ],
   "source": [
    "dataset[\"test\"]"
   ]
  },
  {
   "cell_type": "code",
   "execution_count": null,
   "id": "b8e40711-325e-498c-a433-e15abea5a355",
   "metadata": {
    "id": "b8e40711-325e-498c-a433-e15abea5a355"
   },
   "outputs": [],
   "source": [
    "resume_data_train = dataset[\"train\"]\n",
    "\n",
    "# Convert to Pandas DataFrame\n",
    "import pandas as pd\n",
    "df = resume_data_train.to_pandas()"
   ]
  },
  {
   "cell_type": "code",
   "execution_count": null,
   "id": "3d170616-047b-4598-8f9e-f1b59b36a766",
   "metadata": {
    "id": "3d170616-047b-4598-8f9e-f1b59b36a766",
    "outputId": "1dce3299-dbc9-427d-d790-2243624993d3"
   },
   "outputs": [
    {
     "data": {
      "text/html": [
       "<div>\n",
       "<style scoped>\n",
       "    .dataframe tbody tr th:only-of-type {\n",
       "        vertical-align: middle;\n",
       "    }\n",
       "\n",
       "    .dataframe tbody tr th {\n",
       "        vertical-align: top;\n",
       "    }\n",
       "\n",
       "    .dataframe thead th {\n",
       "        text-align: right;\n",
       "    }\n",
       "</style>\n",
       "<table border=\"1\" class=\"dataframe\">\n",
       "  <thead>\n",
       "    <tr style=\"text-align: right;\">\n",
       "      <th></th>\n",
       "      <th>resume_text</th>\n",
       "      <th>job_description_text</th>\n",
       "      <th>label</th>\n",
       "    </tr>\n",
       "  </thead>\n",
       "  <tbody>\n",
       "    <tr>\n",
       "      <th>0</th>\n",
       "      <td>SummaryHighly motivated Sales Associate with e...</td>\n",
       "      <td>Net2Source Inc. is an award-winning total work...</td>\n",
       "      <td>No Fit</td>\n",
       "    </tr>\n",
       "    <tr>\n",
       "      <th>1</th>\n",
       "      <td>Professional SummaryCurrently working with Cat...</td>\n",
       "      <td>At Salas OBrien we tell our clients that were ...</td>\n",
       "      <td>No Fit</td>\n",
       "    </tr>\n",
       "    <tr>\n",
       "      <th>2</th>\n",
       "      <td>SummaryI started my construction career in Jun...</td>\n",
       "      <td>Schweitzer Engineering Laboratories (SEL) Infr...</td>\n",
       "      <td>No Fit</td>\n",
       "    </tr>\n",
       "    <tr>\n",
       "      <th>3</th>\n",
       "      <td>SummaryCertified Electrical Foremanwith thirte...</td>\n",
       "      <td>Mizick Miller &amp; Company, Inc. is looking for a...</td>\n",
       "      <td>No Fit</td>\n",
       "    </tr>\n",
       "    <tr>\n",
       "      <th>4</th>\n",
       "      <td>SummaryWith extensive experience in business/r...</td>\n",
       "      <td>Life at Capgemini\\nCapgemini supports all aspe...</td>\n",
       "      <td>No Fit</td>\n",
       "    </tr>\n",
       "  </tbody>\n",
       "</table>\n",
       "</div>"
      ],
      "text/plain": [
       "                                         resume_text  \\\n",
       "0  SummaryHighly motivated Sales Associate with e...   \n",
       "1  Professional SummaryCurrently working with Cat...   \n",
       "2  SummaryI started my construction career in Jun...   \n",
       "3  SummaryCertified Electrical Foremanwith thirte...   \n",
       "4  SummaryWith extensive experience in business/r...   \n",
       "\n",
       "                                job_description_text   label  \n",
       "0  Net2Source Inc. is an award-winning total work...  No Fit  \n",
       "1  At Salas OBrien we tell our clients that were ...  No Fit  \n",
       "2  Schweitzer Engineering Laboratories (SEL) Infr...  No Fit  \n",
       "3  Mizick Miller & Company, Inc. is looking for a...  No Fit  \n",
       "4  Life at Capgemini\\nCapgemini supports all aspe...  No Fit  "
      ]
     },
     "execution_count": 102,
     "metadata": {},
     "output_type": "execute_result"
    }
   ],
   "source": [
    "df.head()"
   ]
  },
  {
   "cell_type": "code",
   "execution_count": null,
   "id": "48b4a3d4-d553-4087-8f39-719c7b6effbd",
   "metadata": {
    "id": "48b4a3d4-d553-4087-8f39-719c7b6effbd",
    "outputId": "ee2190ab-a4da-4caf-c247-33c84f6f6a64"
   },
   "outputs": [
    {
     "name": "stdout",
     "output_type": "stream",
     "text": [
      "SummaryHighly motivated Sales Associate with extensive customer service and sales experience. Outgoing sales professional with track record of driving increased sales, improving buying experience and elevating company profile with target market.\n",
      "Highlights-Soft Skills: Public Speaking, Public Relations, Team Building, Project Management, Procedure writing, Staff Supervision and Management, Ability to interface with professionals on all levels. Accomplishments, Honors, and Activities -Board of Directors Member for the Food Bank of Corpus Christi from November 2010 to April 2013. -Held Life Insurance License -Basketball Official (Referee) High School Varsity Level.\n",
      "ExperienceAccountant,08/2014-05/2015Aspirus–Owen,WI,Perform daily and routine accounting functions for two main companies and five small royalty companies. Responsibilities include but are not limited to the following: Accounts Payable, Accounts Receivable, Manage and reconcile funds for multiple banks accounts, Payroll, Perform detail audits and adjustments of Balance sheet and Income Statement accounts, Audit and pay monthly Sales Tax, Inventory Reconciliations, and Budgeting.District Administrative Manager,02/2014-06/2014Tradeweb Markets Inc.–New York,NY,Managed and assisted the Accounts Receivable, Accounts Payable, and HR/Payroll staff for our district, with daily entrees, follow-up, and reporting as needed. Prepared and presented daily reports to various departments for more accurate management of the financial areas of their operations, such as inventory, Purchase Orders, and Bill of Lading. Performed accounting functions in On-Base, AX, Avantis, and Microsoft Office software.Business Manager,01/2005-02/2014Leidos–Clinton,MS,Managed the operations for a $1.2 million dollar partnership. Duties included planning, overseeing and directing accounting, logistics, and production functions, direct sales and customer service. Accounting functions:Managed over $500K of Fixed Assets, and inventories also valued over $500K.Administered Government contracts for USDA Food Aid with gross revenue up to $1.5 million annually (net income $500K).Upgraded company's software to integrate bill of assembly to interface with accounting software.Performed month end reconciliations, audits, closings, and financial statement reporting.Performed regular physical inventory audits.Supervised bookkeeper all aspects of the accounting cycle including Payroll, AR, and AP. Operations functions:Oversaw and directed the warehouse supervisor, warehouse maintenance supervisor and up to 20 employees to assure optimum production of personnel and facility.Communicated with logistics suppliers such as the Railroads and various trucking companies, governmental agencies (such as the USDA), customers and vendors to assure on time receiving, production, and shipping of goods.Created, implemented and managed our company's Food Safety and Quality Assurance Programs, including a fifty page Food Safety Guide. 2383 Suwanee Pointe DriveLawrenceville, GA 30043(555) 432-1000resumesample@example.comStaffing Manager,01/2003-01/2004Advantage Solutions–Chesapeake,VA,Provided personnel solutions to various organizations for their Accounting and Administrative needs. Interviewed and advised employees in various aspects of their professional career process. Earned sales bonuses within my first three months with the company.Accounting Manager,01/2002-01/2002Kroger–Westerville,OH,Assisted Controller in various aspects of the accounting cycle. Supervised new member billing clerk and cash receipts clerk. Helped with computer and networking issues in a Windows NT/XP environment. Implemented changes and procedures through two software upgrades in CSI software. Trained various staff in effective use of MS Excel. Audited Corporate-billing accounts.General Merchandise Department Manager,01/2000-01/2002Cargas Systems Inc–Lancaster,PA,Supervised and trained employees for strategic ordering and merchandising product for optimal sales, and in standard operating procedures. Created weekly schedule and departmental reports. Prepared for physical inventory every 6 months.Accounting Software Consultant,01/1998-01/2000Aspirus–Prentice,WI,Consulted users of DacEasy accounting applications in Software training, troubleshooting, setting up their entire automated accounting system, and establishing accounting procedures for their business. Trained other departments in proper accounting procedures, worked closely with CPA's for all tax related issues and coordinated payroll processing with an automated payroll system.Accountant,01/1999-01/2000CentreCom, Incorporated–City,STATE,Full Charge Bookkeeper/Accountant for a start-up Internet Telephone Company. Entered daily GL transactions. Supervised the Accounts Payable clerk. Worked with the Assistant Controller to establish and manage the Accounting functions related to all Sales aspects of the business. Assisted with month end reconciliations. Reconciled cash balance reports for five bank accounts on a daily basis and assisted in the managing of these accounts. Other duties included writing Accounting procedures for Accounts Payable and Cash Management.\n",
      "EducationMaster of Arts:Christian Education,Expected in-Dallas Theological Seminary-Dallas,TXGPA:Status-Master of Arts in Christian Education - Dallas Theological Seminary, Dallas, TXBachelor of Arts:Economics,Expected in-Marshall University-Huntington,WVGPA:Status-Bachelor of Arts in Economics - Marshall University, Huntington, WVAssociates of Applied Science:Accounting,Expected in-Hocking Technical College-Nelsonville,OHGPA:Status-Associates of Applied Science in Accounting - Hocking Technical College, Nelsonville, OH Maintained a 4.0 GPA while completing 12 hours of upper level accounting courses.\n",
      "SkillsAccounting, Sales, Inventory, Payroll, The Accounting, Reconciliations, Bookkeeper, Audits, Operations, Ap, Ar, Assembly, Closings, Contracts, Customer Service, Direct Sales, Fixed Assets, Food Safety, Government Contracts, Logistics, Maintenance, Million, Quality Assurance, Receptionist, Retail Sales, Sales And, Shipping, Usda, Accounts Payable, Solutions, Staffing, Cash, Clerk, Merchandising, Ordering, Automated Payroll, Payroll Processing, Software Training, Training, Accountant, The Accounts, Accounts Receivable, Credit, Billing, Csi, Excel, Ms Excel, Networking, All Sales, Basis, Cash Management, Forecasting, Gl, Telephone, Adjustments, Audit, Balance Sheet, Budgeting, Monthly Sales, Sales Tax, Annuities, Cpa, Life Insurance, Procedure Writing, Project Management, Public Relations, Team Building, Administrative Manager, Entrees, Entrées, Hr, Microsoft Office, Ms Office, Purchase Orders\n"
     ]
    }
   ],
   "source": [
    "#resuma type\n",
    "print(df[\"resume_text\"][0])"
   ]
  },
  {
   "cell_type": "code",
   "execution_count": null,
   "id": "a77fcd45-2d29-49d8-b266-23fd13b9ca88",
   "metadata": {
    "id": "a77fcd45-2d29-49d8-b266-23fd13b9ca88",
    "outputId": "ce90159e-f76b-4629-84ba-f067337d5cc5"
   },
   "outputs": [
    {
     "name": "stdout",
     "output_type": "stream",
     "text": [
      "Net2Source Inc. is an award-winning total workforce solutions company recognized by Staffing Industry Analysts for our accelerated growth of 300% in the last 3 years with over 5500+ employees globally, with over 30+ locations in the US and global operations in 32 countries. We believe in providing staffing solutions to address the current talent gap  Right Talent  Right Time  Right Place  Right Price and acting as a Career Coach to our consultants.  \n",
      "Role: Basel Business AnalystLocation: Washington, D.C.Work Mode: HybridHire Type: 6+ Month Contract (extendable)\n",
      "JD: Role Specific Experience: 6+ years of relevant technical and business work experience The Candidates who have worked on Basel related projects in Credit risks or at least are aware of credit risk.  Banking & Financial domain experience, along with knowledge of risk management, familiarity with concepts of finance and accounting  Proficiency in MS Excel  Experience in defining and implementing technology solutions for a major financial institution  Extensive experience as a Business Analyst for a large financial institution  Extensive experience in gathering business requirements and developing functional specifications with special emphasis on use cases, defining test cases, and providing user training and support Extensive experience with various system development lifecycle methodologies and tailoring the artifacts to those methodologies Solution-oriented, detailed-focused, showing strong analytical and organization skills Familiarity with relational databases  RDMS Experience with writing simple SQL statements (mostly SELECT  with aim to analyze datasets)\n",
      "\n",
      "\n",
      "Regards,Prashant SinghSr. Account Manager - Enterprise BusinessNet2Source Inc.prashant.singh@net2source.comDirect # (201) 285-5087  Board # (201) 340-8700 Ext. 509  Fax: (201) 221-8131Corp. HQs : 317 George St., Suite 220, New Brunswick, NJ 08901LinkedIn: https:www.linkedin.cominprashant-singh-b1b23526Website: www.net2source.com\n",
      "Why work with us - At Net2Source, we believe everyone has an opportunity to lead. We see the importance of your perspective and your ability to create value. We want you to fit inwith an inclusive culture, focus on work-life fit and well-being, and a supportive, connected environment; but we also want you to stand outwith opportunities to have a strategic impact, innovate, and take necessary steps to make your mark. We help clients with new skilling, talent strategy, leadership development, employee experience, transformational change management and beyond.\n",
      "Equal Employment Opportunity Statement:Net2Source is an Equal Opportunity Employer. We believe that no one should be discriminated against because of their differences, such as age, disability, ethnicity, gender, gender identity and expression, religion or sexual orientation. Our rich diversity makes us more innovative, more competitive, and more creative, which helps us better serve our clients and our communities. All employment decisions shall be made without regard to age, race, creed, color, religion, sex, national origin, ancestry, disability status, veteran status, sexual orientation, gender identity or expression, genetic information, marital status, citizenship status or any other basis as protected by federal, state, or local law.\n",
      "Awards and Accolades: America's Most Honored Businesses (Top 10%)Awarded by USPAAC for Fastest Growing Business in the US12th Fastest Growing Staffing Company in USA by Staffing industry Analysts in the US (2020, 2019, 2020)Fastest 50 by NJ Biz (2020, 2019, 2020)INC 5000 Fastest growing for 8 consecutive years in a row (only 1.26% companies make it to this list)Top 100 by Dallas Business Journal (2020 and 2019)Proven Supplier of the Year by Workforce Logiq (2020 and 2019)2019 Spirit of Alliance Award by Agile12018 Best of the Best Platinum Award by Agile12018 TechServe Alliance Excellence Awards Winner2017 Best of the Best Gold Award by Agile1(Act1 Group)\n"
     ]
    }
   ],
   "source": [
    "# job discription type\n",
    "print(df[\"job_description_text\"][0])"
   ]
  },
  {
   "cell_type": "code",
   "execution_count": null,
   "id": "72fefab9-728d-4f79-9d20-33e8c6cda79e",
   "metadata": {
    "id": "72fefab9-728d-4f79-9d20-33e8c6cda79e",
    "outputId": "15b841d4-7393-4a12-e470-1b5e31084dad"
   },
   "outputs": [
    {
     "data": {
      "text/plain": [
       "array(['No Fit', 'Potential Fit', 'Good Fit'], dtype=object)"
      ]
     },
     "execution_count": 105,
     "metadata": {},
     "output_type": "execute_result"
    }
   ],
   "source": [
    "# types of lables\n",
    "df[\"label\"].unique()"
   ]
  },
  {
   "cell_type": "markdown",
   "id": "1038c8a7-7057-44a8-85a4-d06bdf8077c2",
   "metadata": {
    "id": "1038c8a7-7057-44a8-85a4-d06bdf8077c2"
   },
   "source": [
    "# Applying preprocessing and important info extraction on all resumes and jds"
   ]
  },
  {
   "cell_type": "code",
   "execution_count": null,
   "id": "3e9d4c5e-d77d-464e-bfe3-a473b3e35dfb",
   "metadata": {
    "id": "3e9d4c5e-d77d-464e-bfe3-a473b3e35dfb"
   },
   "outputs": [],
   "source": [
    "df[\"pre_resume\"]= df[\"resume_text\"].apply(preprocessing)"
   ]
  },
  {
   "cell_type": "code",
   "execution_count": null,
   "id": "159cfd26-4829-46b2-9ba3-a476dc6b81e7",
   "metadata": {
    "id": "159cfd26-4829-46b2-9ba3-a476dc6b81e7"
   },
   "outputs": [],
   "source": [
    "df[\"pre_jd\"]= df[\"job_description_text\"].apply(preprocessing)"
   ]
  },
  {
   "cell_type": "code",
   "execution_count": null,
   "id": "101c6abc-891b-478c-ac62-860ffc4e8b76",
   "metadata": {
    "id": "101c6abc-891b-478c-ac62-860ffc4e8b76",
    "outputId": "2fb03e83-5a39-44e4-e821-ccc92949f3e2"
   },
   "outputs": [
    {
     "data": {
      "text/html": [
       "<div>\n",
       "<style scoped>\n",
       "    .dataframe tbody tr th:only-of-type {\n",
       "        vertical-align: middle;\n",
       "    }\n",
       "\n",
       "    .dataframe tbody tr th {\n",
       "        vertical-align: top;\n",
       "    }\n",
       "\n",
       "    .dataframe thead th {\n",
       "        text-align: right;\n",
       "    }\n",
       "</style>\n",
       "<table border=\"1\" class=\"dataframe\">\n",
       "  <thead>\n",
       "    <tr style=\"text-align: right;\">\n",
       "      <th></th>\n",
       "      <th>resume_text</th>\n",
       "      <th>job_description_text</th>\n",
       "      <th>label</th>\n",
       "      <th>pre_resume</th>\n",
       "      <th>pre_jd</th>\n",
       "    </tr>\n",
       "  </thead>\n",
       "  <tbody>\n",
       "    <tr>\n",
       "      <th>0</th>\n",
       "      <td>SummaryHighly motivated Sales Associate with e...</td>\n",
       "      <td>Net2Source Inc. is an award-winning total work...</td>\n",
       "      <td>No Fit</td>\n",
       "      <td>summaryhighly motivate sale associate extensiv...</td>\n",
       "      <td>net2source inc. award win total workforce solu...</td>\n",
       "    </tr>\n",
       "    <tr>\n",
       "      <th>1</th>\n",
       "      <td>Professional SummaryCurrently working with Cat...</td>\n",
       "      <td>At Salas OBrien we tell our clients that were ...</td>\n",
       "      <td>No Fit</td>\n",
       "      <td>professional summarycurrently work caterpillar...</td>\n",
       "      <td>at salas obrien tell client engineer impact th...</td>\n",
       "    </tr>\n",
       "    <tr>\n",
       "      <th>2</th>\n",
       "      <td>SummaryI started my construction career in Jun...</td>\n",
       "      <td>Schweitzer Engineering Laboratories (SEL) Infr...</td>\n",
       "      <td>No Fit</td>\n",
       "      <td>summaryi start construction career june 2017 j...</td>\n",
       "      <td>schweitzer engineering laboratories sel infras...</td>\n",
       "    </tr>\n",
       "    <tr>\n",
       "      <th>3</th>\n",
       "      <td>SummaryCertified Electrical Foremanwith thirte...</td>\n",
       "      <td>Mizick Miller &amp; Company, Inc. is looking for a...</td>\n",
       "      <td>No Fit</td>\n",
       "      <td>summarycertified electrical foremanwith thirte...</td>\n",
       "      <td>mizick miller &amp; company inc. look dynamic indi...</td>\n",
       "    </tr>\n",
       "    <tr>\n",
       "      <th>4</th>\n",
       "      <td>SummaryWith extensive experience in business/r...</td>\n",
       "      <td>Life at Capgemini\\nCapgemini supports all aspe...</td>\n",
       "      <td>No Fit</td>\n",
       "      <td>summarywith extensive experience business requ...</td>\n",
       "      <td>life capgemini capgemini support aspect change...</td>\n",
       "    </tr>\n",
       "  </tbody>\n",
       "</table>\n",
       "</div>"
      ],
      "text/plain": [
       "                                         resume_text  \\\n",
       "0  SummaryHighly motivated Sales Associate with e...   \n",
       "1  Professional SummaryCurrently working with Cat...   \n",
       "2  SummaryI started my construction career in Jun...   \n",
       "3  SummaryCertified Electrical Foremanwith thirte...   \n",
       "4  SummaryWith extensive experience in business/r...   \n",
       "\n",
       "                                job_description_text   label  \\\n",
       "0  Net2Source Inc. is an award-winning total work...  No Fit   \n",
       "1  At Salas OBrien we tell our clients that were ...  No Fit   \n",
       "2  Schweitzer Engineering Laboratories (SEL) Infr...  No Fit   \n",
       "3  Mizick Miller & Company, Inc. is looking for a...  No Fit   \n",
       "4  Life at Capgemini\\nCapgemini supports all aspe...  No Fit   \n",
       "\n",
       "                                          pre_resume  \\\n",
       "0  summaryhighly motivate sale associate extensiv...   \n",
       "1  professional summarycurrently work caterpillar...   \n",
       "2  summaryi start construction career june 2017 j...   \n",
       "3  summarycertified electrical foremanwith thirte...   \n",
       "4  summarywith extensive experience business requ...   \n",
       "\n",
       "                                              pre_jd  \n",
       "0  net2source inc. award win total workforce solu...  \n",
       "1  at salas obrien tell client engineer impact th...  \n",
       "2  schweitzer engineering laboratories sel infras...  \n",
       "3  mizick miller & company inc. look dynamic indi...  \n",
       "4  life capgemini capgemini support aspect change...  "
      ]
     },
     "execution_count": 6,
     "metadata": {},
     "output_type": "execute_result"
    }
   ],
   "source": [
    "df.head()"
   ]
  },
  {
   "cell_type": "markdown",
   "id": "15bfde58-8172-4042-a288-2c856ca579bc",
   "metadata": {
    "id": "15bfde58-8172-4042-a288-2c856ca579bc"
   },
   "source": [
    "# Creating Featuers"
   ]
  },
  {
   "cell_type": "markdown",
   "id": "9eecd93b-9fbc-4642-bbcf-59c9619ee56f",
   "metadata": {
    "id": "9eecd93b-9fbc-4642-bbcf-59c9619ee56f"
   },
   "source": [
    "**skills Feature extraction**"
   ]
  },
  {
   "cell_type": "code",
   "execution_count": null,
   "id": "65b05a4c-4b3f-4995-a8dc-e3867e68bcab",
   "metadata": {
    "id": "65b05a4c-4b3f-4995-a8dc-e3867e68bcab"
   },
   "outputs": [],
   "source": [
    "df['resume_skills'] = df['pre_resume'].apply(get_skills)"
   ]
  },
  {
   "cell_type": "code",
   "execution_count": null,
   "id": "1f84b43e-3519-48f4-a82f-47fe62a16c41",
   "metadata": {
    "id": "1f84b43e-3519-48f4-a82f-47fe62a16c41"
   },
   "outputs": [],
   "source": [
    "df['jd_skills'] = df['pre_jd'].apply(get_skills)"
   ]
  },
  {
   "cell_type": "code",
   "execution_count": null,
   "id": "a09a8883-ff69-4be3-b5c7-242b322df04c",
   "metadata": {
    "id": "a09a8883-ff69-4be3-b5c7-242b322df04c",
    "outputId": "111b7e2d-1b4f-4f60-f9ce-e366b06a152c"
   },
   "outputs": [
    {
     "data": {
      "text/html": [
       "<div>\n",
       "<style scoped>\n",
       "    .dataframe tbody tr th:only-of-type {\n",
       "        vertical-align: middle;\n",
       "    }\n",
       "\n",
       "    .dataframe tbody tr th {\n",
       "        vertical-align: top;\n",
       "    }\n",
       "\n",
       "    .dataframe thead th {\n",
       "        text-align: right;\n",
       "    }\n",
       "</style>\n",
       "<table border=\"1\" class=\"dataframe\">\n",
       "  <thead>\n",
       "    <tr style=\"text-align: right;\">\n",
       "      <th></th>\n",
       "      <th>resume_text</th>\n",
       "      <th>job_description_text</th>\n",
       "      <th>label</th>\n",
       "      <th>pre_resume</th>\n",
       "      <th>pre_jd</th>\n",
       "      <th>resume_skills</th>\n",
       "      <th>jd_skills</th>\n",
       "    </tr>\n",
       "  </thead>\n",
       "  <tbody>\n",
       "    <tr>\n",
       "      <th>0</th>\n",
       "      <td>SummaryHighly motivated Sales Associate with e...</td>\n",
       "      <td>Net2Source Inc. is an award-winning total work...</td>\n",
       "      <td>No Fit</td>\n",
       "      <td>summaryhighly motivate sale associate extensiv...</td>\n",
       "      <td>net2source inc. award win total workforce solu...</td>\n",
       "      <td>[windows, business, accounting, project manage...</td>\n",
       "      <td>[business, finance, accounting, mode, specific...</td>\n",
       "    </tr>\n",
       "    <tr>\n",
       "      <th>1</th>\n",
       "      <td>Professional SummaryCurrently working with Cat...</td>\n",
       "      <td>At Salas OBrien we tell our clients that were ...</td>\n",
       "      <td>No Fit</td>\n",
       "      <td>professional summarycurrently work caterpillar...</td>\n",
       "      <td>at salas obrien tell client engineer impact th...</td>\n",
       "      <td>[business, workload, electrical engineering, p...</td>\n",
       "      <td>[business, finance, play, electrical engineeri...</td>\n",
       "    </tr>\n",
       "    <tr>\n",
       "      <th>2</th>\n",
       "      <td>SummaryI started my construction career in Jun...</td>\n",
       "      <td>Schweitzer Engineering Laboratories (SEL) Infr...</td>\n",
       "      <td>No Fit</td>\n",
       "      <td>summaryi start construction career june 2017 j...</td>\n",
       "      <td>schweitzer engineering laboratories sel infras...</td>\n",
       "      <td>[business, play, material, component, diagram,...</td>\n",
       "      <td>[interaction, engineering, box, specification,...</td>\n",
       "    </tr>\n",
       "    <tr>\n",
       "      <th>3</th>\n",
       "      <td>SummaryCertified Electrical Foremanwith thirte...</td>\n",
       "      <td>Mizick Miller &amp; Company, Inc. is looking for a...</td>\n",
       "      <td>No Fit</td>\n",
       "      <td>summarycertified electrical foremanwith thirte...</td>\n",
       "      <td>mizick miller &amp; company inc. look dynamic indi...</td>\n",
       "      <td>[medium, controls, component, diagram, softwar...</td>\n",
       "      <td>[business, box, accounting]</td>\n",
       "    </tr>\n",
       "    <tr>\n",
       "      <th>4</th>\n",
       "      <td>SummaryWith extensive experience in business/r...</td>\n",
       "      <td>Life at Capgemini\\nCapgemini supports all aspe...</td>\n",
       "      <td>No Fit</td>\n",
       "      <td>summarywith extensive experience business requ...</td>\n",
       "      <td>life capgemini capgemini support aspect change...</td>\n",
       "      <td>[monitoring, help desk, computer program, diag...</td>\n",
       "      <td>[ai, engineering, software engineering, design...</td>\n",
       "    </tr>\n",
       "  </tbody>\n",
       "</table>\n",
       "</div>"
      ],
      "text/plain": [
       "                                         resume_text  \\\n",
       "0  SummaryHighly motivated Sales Associate with e...   \n",
       "1  Professional SummaryCurrently working with Cat...   \n",
       "2  SummaryI started my construction career in Jun...   \n",
       "3  SummaryCertified Electrical Foremanwith thirte...   \n",
       "4  SummaryWith extensive experience in business/r...   \n",
       "\n",
       "                                job_description_text   label  \\\n",
       "0  Net2Source Inc. is an award-winning total work...  No Fit   \n",
       "1  At Salas OBrien we tell our clients that were ...  No Fit   \n",
       "2  Schweitzer Engineering Laboratories (SEL) Infr...  No Fit   \n",
       "3  Mizick Miller & Company, Inc. is looking for a...  No Fit   \n",
       "4  Life at Capgemini\\nCapgemini supports all aspe...  No Fit   \n",
       "\n",
       "                                          pre_resume  \\\n",
       "0  summaryhighly motivate sale associate extensiv...   \n",
       "1  professional summarycurrently work caterpillar...   \n",
       "2  summaryi start construction career june 2017 j...   \n",
       "3  summarycertified electrical foremanwith thirte...   \n",
       "4  summarywith extensive experience business requ...   \n",
       "\n",
       "                                              pre_jd  \\\n",
       "0  net2source inc. award win total workforce solu...   \n",
       "1  at salas obrien tell client engineer impact th...   \n",
       "2  schweitzer engineering laboratories sel infras...   \n",
       "3  mizick miller & company inc. look dynamic indi...   \n",
       "4  life capgemini capgemini support aspect change...   \n",
       "\n",
       "                                       resume_skills  \\\n",
       "0  [windows, business, accounting, project manage...   \n",
       "1  [business, workload, electrical engineering, p...   \n",
       "2  [business, play, material, component, diagram,...   \n",
       "3  [medium, controls, component, diagram, softwar...   \n",
       "4  [monitoring, help desk, computer program, diag...   \n",
       "\n",
       "                                           jd_skills  \n",
       "0  [business, finance, accounting, mode, specific...  \n",
       "1  [business, finance, play, electrical engineeri...  \n",
       "2  [interaction, engineering, box, specification,...  \n",
       "3                        [business, box, accounting]  \n",
       "4  [ai, engineering, software engineering, design...  "
      ]
     },
     "execution_count": 7,
     "metadata": {},
     "output_type": "execute_result"
    }
   ],
   "source": [
    "df.head()"
   ]
  },
  {
   "cell_type": "markdown",
   "id": "f237f380-02f3-4886-885d-d58ae2b514dc",
   "metadata": {
    "id": "f237f380-02f3-4886-885d-d58ae2b514dc"
   },
   "source": [
    "**Doing same process for adverbs and adjectives**"
   ]
  },
  {
   "cell_type": "code",
   "execution_count": null,
   "id": "b361898e-0533-467d-a445-a47c5e053b7e",
   "metadata": {
    "id": "b361898e-0533-467d-a445-a47c5e053b7e"
   },
   "outputs": [],
   "source": [
    "df['resume_adj'] = df['resume_text'].apply(get_adjectives)"
   ]
  },
  {
   "cell_type": "code",
   "execution_count": null,
   "id": "31ef44e9-ae22-4e5f-9454-bc8dadcca3a4",
   "metadata": {
    "id": "31ef44e9-ae22-4e5f-9454-bc8dadcca3a4"
   },
   "outputs": [],
   "source": [
    "df['resume_adv'] = df['resume_text'].apply(get_adverbs)"
   ]
  },
  {
   "cell_type": "code",
   "execution_count": null,
   "id": "3c774bb3-3355-4b24-9c87-f198dfdd0a44",
   "metadata": {
    "id": "3c774bb3-3355-4b24-9c87-f198dfdd0a44"
   },
   "outputs": [],
   "source": [
    "df['jd_adj']     = df['job_description_text'].apply(get_adjectives)"
   ]
  },
  {
   "cell_type": "code",
   "execution_count": null,
   "id": "e44d16d3-7e95-41b0-bedd-9ea666c61a82",
   "metadata": {
    "id": "e44d16d3-7e95-41b0-bedd-9ea666c61a82"
   },
   "outputs": [],
   "source": [
    "df['jd_adv']     = df['job_description_text'].apply(get_adverbs)"
   ]
  },
  {
   "cell_type": "code",
   "execution_count": null,
   "id": "e2c29c41-2efd-4787-aa05-84a7cf6e0438",
   "metadata": {
    "id": "e2c29c41-2efd-4787-aa05-84a7cf6e0438",
    "outputId": "3508854e-0a45-442a-b093-178372a7453d"
   },
   "outputs": [
    {
     "data": {
      "text/html": [
       "<div>\n",
       "<style scoped>\n",
       "    .dataframe tbody tr th:only-of-type {\n",
       "        vertical-align: middle;\n",
       "    }\n",
       "\n",
       "    .dataframe tbody tr th {\n",
       "        vertical-align: top;\n",
       "    }\n",
       "\n",
       "    .dataframe thead th {\n",
       "        text-align: right;\n",
       "    }\n",
       "</style>\n",
       "<table border=\"1\" class=\"dataframe\">\n",
       "  <thead>\n",
       "    <tr style=\"text-align: right;\">\n",
       "      <th></th>\n",
       "      <th>resume_text</th>\n",
       "      <th>job_description_text</th>\n",
       "      <th>label</th>\n",
       "      <th>pre_resume</th>\n",
       "      <th>pre_jd</th>\n",
       "      <th>resume_skills</th>\n",
       "      <th>jd_skills</th>\n",
       "      <th>resume_adj</th>\n",
       "      <th>resume_adv</th>\n",
       "      <th>jd_adj</th>\n",
       "      <th>jd_adv</th>\n",
       "    </tr>\n",
       "  </thead>\n",
       "  <tbody>\n",
       "    <tr>\n",
       "      <th>0</th>\n",
       "      <td>SummaryHighly motivated Sales Associate with e...</td>\n",
       "      <td>Net2Source Inc. is an award-winning total work...</td>\n",
       "      <td>No Fit</td>\n",
       "      <td>summaryhighly motivate sale associate extensiv...</td>\n",
       "      <td>net2source inc. award win total workforce solu...</td>\n",
       "      <td>[windows, business, accounting, project manage...</td>\n",
       "      <td>[business, finance, accounting, mode, specific...</td>\n",
       "      <td>[extensive, outgoing, professional, daily, rou...</td>\n",
       "      <td>[more, also, annually, closely]</td>\n",
       "      <td>[total, accelerated, last, global, current, re...</td>\n",
       "      <td>[globally, mostly, well, also, more, more, mor...</td>\n",
       "    </tr>\n",
       "    <tr>\n",
       "      <th>1</th>\n",
       "      <td>Professional SummaryCurrently working with Cat...</td>\n",
       "      <td>At Salas OBrien we tell our clients that were ...</td>\n",
       "      <td>No Fit</td>\n",
       "      <td>professional summarycurrently work caterpillar...</td>\n",
       "      <td>at salas obrien tell client engineer impact th...</td>\n",
       "      <td>[business, workload, electrical engineering, p...</td>\n",
       "      <td>[business, finance, play, electrical engineeri...</td>\n",
       "      <td>[active, several, technical, willing, familiar...</td>\n",
       "      <td>[most, highly, directly, personally, safely]</td>\n",
       "      <td>[much, inspiring, sustainable, long, amazing, ...</td>\n",
       "      <td>[just, as, also, truly, here, as, well, here, ...</td>\n",
       "    </tr>\n",
       "    <tr>\n",
       "      <th>2</th>\n",
       "      <td>SummaryI started my construction career in Jun...</td>\n",
       "      <td>Schweitzer Engineering Laboratories (SEL) Infr...</td>\n",
       "      <td>No Fit</td>\n",
       "      <td>summaryi start construction career june 2017 j...</td>\n",
       "      <td>schweitzer engineering laboratories sel infras...</td>\n",
       "      <td>[business, play, material, component, diagram,...</td>\n",
       "      <td>[interaction, engineering, box, specification,...</td>\n",
       "      <td>[full, invaluable, electrical, related, knowle...</td>\n",
       "      <td>[consistently, highly, more, fully, fully, mor...</td>\n",
       "      <td>[talented, fascinating, rewarding, white, blac...</td>\n",
       "      <td>[most, typically, as, well]</td>\n",
       "    </tr>\n",
       "    <tr>\n",
       "      <th>3</th>\n",
       "      <td>SummaryCertified Electrical Foremanwith thirte...</td>\n",
       "      <td>Mizick Miller &amp; Company, Inc. is looking for a...</td>\n",
       "      <td>No Fit</td>\n",
       "      <td>summarycertified electrical foremanwith thirte...</td>\n",
       "      <td>mizick miller &amp; company inc. look dynamic indi...</td>\n",
       "      <td>[medium, controls, component, diagram, softwar...</td>\n",
       "      <td>[business, box, accounting]</td>\n",
       "      <td>[electrical, commercial, industrial, valuable,...</td>\n",
       "      <td>[highly, successfully, successfully, successfu...</td>\n",
       "      <td>[dynamic, great, right, strong, oral, equivale...</td>\n",
       "      <td>[rapidly, fast, excellent, only]</td>\n",
       "    </tr>\n",
       "    <tr>\n",
       "      <th>4</th>\n",
       "      <td>SummaryWith extensive experience in business/r...</td>\n",
       "      <td>Life at Capgemini\\nCapgemini supports all aspe...</td>\n",
       "      <td>No Fit</td>\n",
       "      <td>summarywith extensive experience business requ...</td>\n",
       "      <td>life capgemini capgemini support aspect change...</td>\n",
       "      <td>[monitoring, help desk, computer program, diag...</td>\n",
       "      <td>[ai, engineering, software engineering, design...</td>\n",
       "      <td>[extensive, industry, professional, technical,...</td>\n",
       "      <td>[also, also, outside, prior, well, more, also,...</td>\n",
       "      <td>[eligible, flexible, dental, mental, financial...</td>\n",
       "      <td>[well, well, ultimately, no, long, strongly, t...</td>\n",
       "    </tr>\n",
       "  </tbody>\n",
       "</table>\n",
       "</div>"
      ],
      "text/plain": [
       "                                         resume_text  \\\n",
       "0  SummaryHighly motivated Sales Associate with e...   \n",
       "1  Professional SummaryCurrently working with Cat...   \n",
       "2  SummaryI started my construction career in Jun...   \n",
       "3  SummaryCertified Electrical Foremanwith thirte...   \n",
       "4  SummaryWith extensive experience in business/r...   \n",
       "\n",
       "                                job_description_text   label  \\\n",
       "0  Net2Source Inc. is an award-winning total work...  No Fit   \n",
       "1  At Salas OBrien we tell our clients that were ...  No Fit   \n",
       "2  Schweitzer Engineering Laboratories (SEL) Infr...  No Fit   \n",
       "3  Mizick Miller & Company, Inc. is looking for a...  No Fit   \n",
       "4  Life at Capgemini\\nCapgemini supports all aspe...  No Fit   \n",
       "\n",
       "                                          pre_resume  \\\n",
       "0  summaryhighly motivate sale associate extensiv...   \n",
       "1  professional summarycurrently work caterpillar...   \n",
       "2  summaryi start construction career june 2017 j...   \n",
       "3  summarycertified electrical foremanwith thirte...   \n",
       "4  summarywith extensive experience business requ...   \n",
       "\n",
       "                                              pre_jd  \\\n",
       "0  net2source inc. award win total workforce solu...   \n",
       "1  at salas obrien tell client engineer impact th...   \n",
       "2  schweitzer engineering laboratories sel infras...   \n",
       "3  mizick miller & company inc. look dynamic indi...   \n",
       "4  life capgemini capgemini support aspect change...   \n",
       "\n",
       "                                       resume_skills  \\\n",
       "0  [windows, business, accounting, project manage...   \n",
       "1  [business, workload, electrical engineering, p...   \n",
       "2  [business, play, material, component, diagram,...   \n",
       "3  [medium, controls, component, diagram, softwar...   \n",
       "4  [monitoring, help desk, computer program, diag...   \n",
       "\n",
       "                                           jd_skills  \\\n",
       "0  [business, finance, accounting, mode, specific...   \n",
       "1  [business, finance, play, electrical engineeri...   \n",
       "2  [interaction, engineering, box, specification,...   \n",
       "3                        [business, box, accounting]   \n",
       "4  [ai, engineering, software engineering, design...   \n",
       "\n",
       "                                          resume_adj  \\\n",
       "0  [extensive, outgoing, professional, daily, rou...   \n",
       "1  [active, several, technical, willing, familiar...   \n",
       "2  [full, invaluable, electrical, related, knowle...   \n",
       "3  [electrical, commercial, industrial, valuable,...   \n",
       "4  [extensive, industry, professional, technical,...   \n",
       "\n",
       "                                          resume_adv  \\\n",
       "0                    [more, also, annually, closely]   \n",
       "1       [most, highly, directly, personally, safely]   \n",
       "2  [consistently, highly, more, fully, fully, mor...   \n",
       "3  [highly, successfully, successfully, successfu...   \n",
       "4  [also, also, outside, prior, well, more, also,...   \n",
       "\n",
       "                                              jd_adj  \\\n",
       "0  [total, accelerated, last, global, current, re...   \n",
       "1  [much, inspiring, sustainable, long, amazing, ...   \n",
       "2  [talented, fascinating, rewarding, white, blac...   \n",
       "3  [dynamic, great, right, strong, oral, equivale...   \n",
       "4  [eligible, flexible, dental, mental, financial...   \n",
       "\n",
       "                                              jd_adv  \n",
       "0  [globally, mostly, well, also, more, more, mor...  \n",
       "1  [just, as, also, truly, here, as, well, here, ...  \n",
       "2                        [most, typically, as, well]  \n",
       "3                   [rapidly, fast, excellent, only]  \n",
       "4  [well, well, ultimately, no, long, strongly, t...  "
      ]
     },
     "execution_count": 8,
     "metadata": {},
     "output_type": "execute_result"
    }
   ],
   "source": [
    "df.head()"
   ]
  },
  {
   "cell_type": "markdown",
   "id": "2c52c29c-0b6e-454e-9112-6b1df0305b1d",
   "metadata": {
    "id": "2c52c29c-0b6e-454e-9112-6b1df0305b1d"
   },
   "source": [
    "**Saving the dataset so we dont have to do these things again**"
   ]
  },
  {
   "cell_type": "code",
   "execution_count": null,
   "id": "21b7db17-f19b-47d5-bb52-19f22800b5d6",
   "metadata": {
    "id": "21b7db17-f19b-47d5-bb52-19f22800b5d6",
    "outputId": "07cdaa8b-6328-465e-9232-9f8a5446d3a6"
   },
   "outputs": [
    {
     "ename": "NameError",
     "evalue": "name 'df' is not defined",
     "output_type": "error",
     "traceback": [
      "\u001b[1;31m---------------------------------------------------------------------------\u001b[0m",
      "\u001b[1;31mNameError\u001b[0m                                 Traceback (most recent call last)",
      "Cell \u001b[1;32mIn[2], line 1\u001b[0m\n\u001b[1;32m----> 1\u001b[0m \u001b[43mdf\u001b[49m\u001b[38;5;241m.\u001b[39mto_pickle(\u001b[38;5;124m\"\u001b[39m\u001b[38;5;124mprocessed_resumes.pkl\u001b[39m\u001b[38;5;124m\"\u001b[39m)\n\u001b[0;32m      2\u001b[0m \u001b[38;5;28mprint\u001b[39m(\u001b[38;5;124m\"\u001b[39m\u001b[38;5;124mDataFrame saved as processed_resumes.pkl\u001b[39m\u001b[38;5;124m\"\u001b[39m)\n",
      "\u001b[1;31mNameError\u001b[0m: name 'df' is not defined"
     ]
    }
   ],
   "source": [
    "df.to_pickle(\"processed_resumes.pkl\")\n",
    "print(\"DataFrame saved as processed_resumes.pkl\")"
   ]
  },
  {
   "cell_type": "code",
   "execution_count": null,
   "id": "333ee101-c83f-48fa-a865-1a81f6d167ae",
   "metadata": {
    "id": "333ee101-c83f-48fa-a865-1a81f6d167ae"
   },
   "outputs": [],
   "source": []
  },
  {
   "cell_type": "markdown",
   "id": "8abbfed7-e394-4ebe-995c-6c6919161318",
   "metadata": {
    "id": "8abbfed7-e394-4ebe-995c-6c6919161318"
   },
   "source": [
    "# Loading the dataset with skills column and preprocessed resumes and jds and adjectives and adverbs column"
   ]
  },
  {
   "cell_type": "code",
   "execution_count": 4,
   "id": "6fe40949-8285-4557-83a7-57cf2214cb63",
   "metadata": {
    "id": "6fe40949-8285-4557-83a7-57cf2214cb63",
    "outputId": "ca193fd6-081a-4938-b74a-ff7808985392"
   },
   "outputs": [
    {
     "name": "stdout",
     "output_type": "stream",
     "text": [
      "Preprocessed DataFrame 'df' loaded from processed_resumes.pkl\n"
     ]
    }
   ],
   "source": [
    "import pandas as pd\n",
    "df = pd.read_pickle(\"processed_resumes.pkl\")\n",
    "print(\"Preprocessed DataFrame 'df' loaded from processed_resumes.pkl\")"
   ]
  },
  {
   "cell_type": "code",
   "execution_count": 5,
   "id": "80b33299-e161-45c0-9e8e-04879b6b0ee3",
   "metadata": {
    "id": "80b33299-e161-45c0-9e8e-04879b6b0ee3",
    "outputId": "a19320b3-190d-48e5-aaa9-971130f7d49a"
   },
   "outputs": [
    {
     "data": {
      "text/html": [
       "<div>\n",
       "<style scoped>\n",
       "    .dataframe tbody tr th:only-of-type {\n",
       "        vertical-align: middle;\n",
       "    }\n",
       "\n",
       "    .dataframe tbody tr th {\n",
       "        vertical-align: top;\n",
       "    }\n",
       "\n",
       "    .dataframe thead th {\n",
       "        text-align: right;\n",
       "    }\n",
       "</style>\n",
       "<table border=\"1\" class=\"dataframe\">\n",
       "  <thead>\n",
       "    <tr style=\"text-align: right;\">\n",
       "      <th></th>\n",
       "      <th>resume_text</th>\n",
       "      <th>job_description_text</th>\n",
       "      <th>label</th>\n",
       "      <th>pre_resume</th>\n",
       "      <th>pre_jd</th>\n",
       "      <th>resume_skills</th>\n",
       "      <th>jd_skills</th>\n",
       "      <th>resume_adj</th>\n",
       "      <th>resume_adv</th>\n",
       "      <th>jd_adj</th>\n",
       "      <th>jd_adv</th>\n",
       "    </tr>\n",
       "  </thead>\n",
       "  <tbody>\n",
       "    <tr>\n",
       "      <th>0</th>\n",
       "      <td>SummaryHighly motivated Sales Associate with e...</td>\n",
       "      <td>Net2Source Inc. is an award-winning total work...</td>\n",
       "      <td>No Fit</td>\n",
       "      <td>summaryhighly motivate sale associate extensiv...</td>\n",
       "      <td>net2source inc. award win total workforce solu...</td>\n",
       "      <td>[windows, business, accounting, project manage...</td>\n",
       "      <td>[business, finance, accounting, mode, specific...</td>\n",
       "      <td>[extensive, outgoing, professional, daily, rou...</td>\n",
       "      <td>[more, also, annually, closely]</td>\n",
       "      <td>[total, accelerated, last, global, current, re...</td>\n",
       "      <td>[globally, mostly, well, also, more, more, mor...</td>\n",
       "    </tr>\n",
       "    <tr>\n",
       "      <th>1</th>\n",
       "      <td>Professional SummaryCurrently working with Cat...</td>\n",
       "      <td>At Salas OBrien we tell our clients that were ...</td>\n",
       "      <td>No Fit</td>\n",
       "      <td>professional summarycurrently work caterpillar...</td>\n",
       "      <td>at salas obrien tell client engineer impact th...</td>\n",
       "      <td>[business, workload, electrical engineering, p...</td>\n",
       "      <td>[business, finance, play, electrical engineeri...</td>\n",
       "      <td>[active, several, technical, willing, familiar...</td>\n",
       "      <td>[most, highly, directly, personally, safely]</td>\n",
       "      <td>[much, inspiring, sustainable, long, amazing, ...</td>\n",
       "      <td>[just, as, also, truly, here, as, well, here, ...</td>\n",
       "    </tr>\n",
       "    <tr>\n",
       "      <th>2</th>\n",
       "      <td>SummaryI started my construction career in Jun...</td>\n",
       "      <td>Schweitzer Engineering Laboratories (SEL) Infr...</td>\n",
       "      <td>No Fit</td>\n",
       "      <td>summaryi start construction career june 2017 j...</td>\n",
       "      <td>schweitzer engineering laboratories sel infras...</td>\n",
       "      <td>[business, play, material, component, diagram,...</td>\n",
       "      <td>[interaction, engineering, box, specification,...</td>\n",
       "      <td>[full, invaluable, electrical, related, knowle...</td>\n",
       "      <td>[consistently, highly, more, fully, fully, mor...</td>\n",
       "      <td>[talented, fascinating, rewarding, white, blac...</td>\n",
       "      <td>[most, typically, as, well]</td>\n",
       "    </tr>\n",
       "    <tr>\n",
       "      <th>3</th>\n",
       "      <td>SummaryCertified Electrical Foremanwith thirte...</td>\n",
       "      <td>Mizick Miller &amp; Company, Inc. is looking for a...</td>\n",
       "      <td>No Fit</td>\n",
       "      <td>summarycertified electrical foremanwith thirte...</td>\n",
       "      <td>mizick miller &amp; company inc. look dynamic indi...</td>\n",
       "      <td>[medium, controls, component, diagram, softwar...</td>\n",
       "      <td>[business, box, accounting]</td>\n",
       "      <td>[electrical, commercial, industrial, valuable,...</td>\n",
       "      <td>[highly, successfully, successfully, successfu...</td>\n",
       "      <td>[dynamic, great, right, strong, oral, equivale...</td>\n",
       "      <td>[rapidly, fast, excellent, only]</td>\n",
       "    </tr>\n",
       "    <tr>\n",
       "      <th>4</th>\n",
       "      <td>SummaryWith extensive experience in business/r...</td>\n",
       "      <td>Life at Capgemini\\nCapgemini supports all aspe...</td>\n",
       "      <td>No Fit</td>\n",
       "      <td>summarywith extensive experience business requ...</td>\n",
       "      <td>life capgemini capgemini support aspect change...</td>\n",
       "      <td>[monitoring, help desk, computer program, diag...</td>\n",
       "      <td>[ai, engineering, software engineering, design...</td>\n",
       "      <td>[extensive, industry, professional, technical,...</td>\n",
       "      <td>[also, also, outside, prior, well, more, also,...</td>\n",
       "      <td>[eligible, flexible, dental, mental, financial...</td>\n",
       "      <td>[well, well, ultimately, no, long, strongly, t...</td>\n",
       "    </tr>\n",
       "  </tbody>\n",
       "</table>\n",
       "</div>"
      ],
      "text/plain": [
       "                                         resume_text  \\\n",
       "0  SummaryHighly motivated Sales Associate with e...   \n",
       "1  Professional SummaryCurrently working with Cat...   \n",
       "2  SummaryI started my construction career in Jun...   \n",
       "3  SummaryCertified Electrical Foremanwith thirte...   \n",
       "4  SummaryWith extensive experience in business/r...   \n",
       "\n",
       "                                job_description_text   label  \\\n",
       "0  Net2Source Inc. is an award-winning total work...  No Fit   \n",
       "1  At Salas OBrien we tell our clients that were ...  No Fit   \n",
       "2  Schweitzer Engineering Laboratories (SEL) Infr...  No Fit   \n",
       "3  Mizick Miller & Company, Inc. is looking for a...  No Fit   \n",
       "4  Life at Capgemini\\nCapgemini supports all aspe...  No Fit   \n",
       "\n",
       "                                          pre_resume  \\\n",
       "0  summaryhighly motivate sale associate extensiv...   \n",
       "1  professional summarycurrently work caterpillar...   \n",
       "2  summaryi start construction career june 2017 j...   \n",
       "3  summarycertified electrical foremanwith thirte...   \n",
       "4  summarywith extensive experience business requ...   \n",
       "\n",
       "                                              pre_jd  \\\n",
       "0  net2source inc. award win total workforce solu...   \n",
       "1  at salas obrien tell client engineer impact th...   \n",
       "2  schweitzer engineering laboratories sel infras...   \n",
       "3  mizick miller & company inc. look dynamic indi...   \n",
       "4  life capgemini capgemini support aspect change...   \n",
       "\n",
       "                                       resume_skills  \\\n",
       "0  [windows, business, accounting, project manage...   \n",
       "1  [business, workload, electrical engineering, p...   \n",
       "2  [business, play, material, component, diagram,...   \n",
       "3  [medium, controls, component, diagram, softwar...   \n",
       "4  [monitoring, help desk, computer program, diag...   \n",
       "\n",
       "                                           jd_skills  \\\n",
       "0  [business, finance, accounting, mode, specific...   \n",
       "1  [business, finance, play, electrical engineeri...   \n",
       "2  [interaction, engineering, box, specification,...   \n",
       "3                        [business, box, accounting]   \n",
       "4  [ai, engineering, software engineering, design...   \n",
       "\n",
       "                                          resume_adj  \\\n",
       "0  [extensive, outgoing, professional, daily, rou...   \n",
       "1  [active, several, technical, willing, familiar...   \n",
       "2  [full, invaluable, electrical, related, knowle...   \n",
       "3  [electrical, commercial, industrial, valuable,...   \n",
       "4  [extensive, industry, professional, technical,...   \n",
       "\n",
       "                                          resume_adv  \\\n",
       "0                    [more, also, annually, closely]   \n",
       "1       [most, highly, directly, personally, safely]   \n",
       "2  [consistently, highly, more, fully, fully, mor...   \n",
       "3  [highly, successfully, successfully, successfu...   \n",
       "4  [also, also, outside, prior, well, more, also,...   \n",
       "\n",
       "                                              jd_adj  \\\n",
       "0  [total, accelerated, last, global, current, re...   \n",
       "1  [much, inspiring, sustainable, long, amazing, ...   \n",
       "2  [talented, fascinating, rewarding, white, blac...   \n",
       "3  [dynamic, great, right, strong, oral, equivale...   \n",
       "4  [eligible, flexible, dental, mental, financial...   \n",
       "\n",
       "                                              jd_adv  \n",
       "0  [globally, mostly, well, also, more, more, mor...  \n",
       "1  [just, as, also, truly, here, as, well, here, ...  \n",
       "2                        [most, typically, as, well]  \n",
       "3                   [rapidly, fast, excellent, only]  \n",
       "4  [well, well, ultimately, no, long, strongly, t...  "
      ]
     },
     "execution_count": 5,
     "metadata": {},
     "output_type": "execute_result"
    }
   ],
   "source": [
    "df.head()"
   ]
  },
  {
   "cell_type": "code",
   "execution_count": 6,
   "id": "7ee6f8b7-901e-4275-9529-ef2e2bb675e8",
   "metadata": {
    "id": "7ee6f8b7-901e-4275-9529-ef2e2bb675e8",
    "outputId": "c438b46c-c8f4-4973-ec62-8bfc53320735"
   },
   "outputs": [
    {
     "data": {
      "text/plain": [
       "Index(['resume_text', 'job_description_text', 'label', 'pre_resume', 'pre_jd',\n",
       "       'resume_skills', 'jd_skills', 'resume_adj', 'resume_adv', 'jd_adj',\n",
       "       'jd_adv'],\n",
       "      dtype='object')"
      ]
     },
     "execution_count": 6,
     "metadata": {},
     "output_type": "execute_result"
    }
   ],
   "source": [
    "df.columns"
   ]
  },
  {
   "cell_type": "code",
   "execution_count": null,
   "id": "1507ca37-4baf-4f99-92f4-49bbba2c2c7f",
   "metadata": {
    "id": "1507ca37-4baf-4f99-92f4-49bbba2c2c7f",
    "outputId": "43dc8f3b-18c9-434b-e7c0-6ebab045bca2"
   },
   "outputs": [
    {
     "name": "stdout",
     "output_type": "stream",
     "text": [
      "<class 'pandas.core.frame.DataFrame'>\n",
      "RangeIndex: 6241 entries, 0 to 6240\n",
      "Data columns (total 11 columns):\n",
      " #   Column                Non-Null Count  Dtype \n",
      "---  ------                --------------  ----- \n",
      " 0   resume_text           6241 non-null   object\n",
      " 1   job_description_text  6241 non-null   object\n",
      " 2   label                 6241 non-null   object\n",
      " 3   pre_resume            6241 non-null   object\n",
      " 4   pre_jd                6241 non-null   object\n",
      " 5   resume_skills         6241 non-null   object\n",
      " 6   jd_skills             6241 non-null   object\n",
      " 7   resume_adj            6241 non-null   object\n",
      " 8   resume_adv            6241 non-null   object\n",
      " 9   jd_adj                6241 non-null   object\n",
      " 10  jd_adv                6241 non-null   object\n",
      "dtypes: object(11)\n",
      "memory usage: 536.5+ KB\n"
     ]
    }
   ],
   "source": [
    "df.info()"
   ]
  },
  {
   "cell_type": "code",
   "execution_count": null,
   "id": "be184aa3-95ae-4ef8-ad18-d4509c011622",
   "metadata": {
    "id": "be184aa3-95ae-4ef8-ad18-d4509c011622",
    "outputId": "9d2502e3-db49-419a-e416-76c4125a679b"
   },
   "outputs": [
    {
     "data": {
      "text/html": [
       "<div>\n",
       "<style scoped>\n",
       "    .dataframe tbody tr th:only-of-type {\n",
       "        vertical-align: middle;\n",
       "    }\n",
       "\n",
       "    .dataframe tbody tr th {\n",
       "        vertical-align: top;\n",
       "    }\n",
       "\n",
       "    .dataframe thead th {\n",
       "        text-align: right;\n",
       "    }\n",
       "</style>\n",
       "<table border=\"1\" class=\"dataframe\">\n",
       "  <thead>\n",
       "    <tr style=\"text-align: right;\">\n",
       "      <th></th>\n",
       "      <th>resume_text</th>\n",
       "      <th>job_description_text</th>\n",
       "      <th>label</th>\n",
       "      <th>pre_resume</th>\n",
       "      <th>pre_jd</th>\n",
       "      <th>resume_skills</th>\n",
       "      <th>jd_skills</th>\n",
       "      <th>resume_adj</th>\n",
       "      <th>resume_adv</th>\n",
       "      <th>jd_adj</th>\n",
       "      <th>jd_adv</th>\n",
       "    </tr>\n",
       "  </thead>\n",
       "  <tbody>\n",
       "    <tr>\n",
       "      <th>count</th>\n",
       "      <td>6241</td>\n",
       "      <td>6241</td>\n",
       "      <td>6241</td>\n",
       "      <td>6241</td>\n",
       "      <td>6241</td>\n",
       "      <td>6241</td>\n",
       "      <td>6241</td>\n",
       "      <td>6241</td>\n",
       "      <td>6241</td>\n",
       "      <td>6241</td>\n",
       "      <td>6241</td>\n",
       "    </tr>\n",
       "    <tr>\n",
       "      <th>unique</th>\n",
       "      <td>642</td>\n",
       "      <td>280</td>\n",
       "      <td>3</td>\n",
       "      <td>642</td>\n",
       "      <td>280</td>\n",
       "      <td>604</td>\n",
       "      <td>260</td>\n",
       "      <td>604</td>\n",
       "      <td>545</td>\n",
       "      <td>278</td>\n",
       "      <td>248</td>\n",
       "    </tr>\n",
       "    <tr>\n",
       "      <th>top</th>\n",
       "      <td>SummaryFinancial Accountant specializing in fi...</td>\n",
       "      <td>Calling all innovators  find your future at Fi...</td>\n",
       "      <td>No Fit</td>\n",
       "      <td>summaryfinancial accountant specialize financi...</td>\n",
       "      <td>call innovator find future fiserv be fiserv gl...</td>\n",
       "      <td>[business, certificate, finance, accounting, r...</td>\n",
       "      <td>[cloud, business, amp, deployment, software, c...</td>\n",
       "      <td>[financial, private, public, adept, quick, fin...</td>\n",
       "      <td>[]</td>\n",
       "      <td>[global, financial, mobile, global, successful...</td>\n",
       "      <td>[]</td>\n",
       "    </tr>\n",
       "    <tr>\n",
       "      <th>freq</th>\n",
       "      <td>71</td>\n",
       "      <td>111</td>\n",
       "      <td>3143</td>\n",
       "      <td>71</td>\n",
       "      <td>111</td>\n",
       "      <td>71</td>\n",
       "      <td>152</td>\n",
       "      <td>71</td>\n",
       "      <td>360</td>\n",
       "      <td>111</td>\n",
       "      <td>480</td>\n",
       "    </tr>\n",
       "  </tbody>\n",
       "</table>\n",
       "</div>"
      ],
      "text/plain": [
       "                                              resume_text  \\\n",
       "count                                                6241   \n",
       "unique                                                642   \n",
       "top     SummaryFinancial Accountant specializing in fi...   \n",
       "freq                                                   71   \n",
       "\n",
       "                                     job_description_text   label  \\\n",
       "count                                                6241    6241   \n",
       "unique                                                280       3   \n",
       "top     Calling all innovators  find your future at Fi...  No Fit   \n",
       "freq                                                  111    3143   \n",
       "\n",
       "                                               pre_resume  \\\n",
       "count                                                6241   \n",
       "unique                                                642   \n",
       "top     summaryfinancial accountant specialize financi...   \n",
       "freq                                                   71   \n",
       "\n",
       "                                                   pre_jd  \\\n",
       "count                                                6241   \n",
       "unique                                                280   \n",
       "top     call innovator find future fiserv be fiserv gl...   \n",
       "freq                                                  111   \n",
       "\n",
       "                                            resume_skills  \\\n",
       "count                                                6241   \n",
       "unique                                                604   \n",
       "top     [business, certificate, finance, accounting, r...   \n",
       "freq                                                   71   \n",
       "\n",
       "                                                jd_skills  \\\n",
       "count                                                6241   \n",
       "unique                                                260   \n",
       "top     [cloud, business, amp, deployment, software, c...   \n",
       "freq                                                  152   \n",
       "\n",
       "                                               resume_adj resume_adv  \\\n",
       "count                                                6241       6241   \n",
       "unique                                                604        545   \n",
       "top     [financial, private, public, adept, quick, fin...         []   \n",
       "freq                                                   71        360   \n",
       "\n",
       "                                                   jd_adj jd_adv  \n",
       "count                                                6241   6241  \n",
       "unique                                                278    248  \n",
       "top     [global, financial, mobile, global, successful...     []  \n",
       "freq                                                  111    480  "
      ]
     },
     "execution_count": 9,
     "metadata": {},
     "output_type": "execute_result"
    }
   ],
   "source": [
    "df.describe()"
   ]
  },
  {
   "cell_type": "code",
   "execution_count": null,
   "id": "70d43a85-9c4e-49db-8241-695cdc6338d4",
   "metadata": {
    "id": "70d43a85-9c4e-49db-8241-695cdc6338d4",
    "outputId": "3ff707fd-b44a-4bc2-afc4-068f88092f3e"
   },
   "outputs": [
    {
     "data": {
      "text/plain": [
       "resume_text             SummaryHighly motivated Sales Associate with e...\n",
       "job_description_text    Net2Source Inc. is an award-winning total work...\n",
       "label                                                              No Fit\n",
       "pre_resume              summaryhighly motivate sale associate extensiv...\n",
       "pre_jd                  net2source inc. award win total workforce solu...\n",
       "resume_skills           [windows, business, accounting, project manage...\n",
       "jd_skills               [business, finance, accounting, mode, specific...\n",
       "resume_adj              [extensive, outgoing, professional, daily, rou...\n",
       "resume_adv                                [more, also, annually, closely]\n",
       "jd_adj                  [total, accelerated, last, global, current, re...\n",
       "jd_adv                  [globally, mostly, well, also, more, more, mor...\n",
       "Name: 0, dtype: object"
      ]
     },
     "execution_count": 5,
     "metadata": {},
     "output_type": "execute_result"
    }
   ],
   "source": [
    "df.iloc[0]"
   ]
  },
  {
   "cell_type": "code",
   "execution_count": null,
   "id": "d554340a-cc2e-43f5-b637-3883174dac44",
   "metadata": {
    "id": "d554340a-cc2e-43f5-b637-3883174dac44",
    "outputId": "1beb1daa-888b-45f5-c5b6-9a929e1c9118"
   },
   "outputs": [
    {
     "data": {
      "image/png": "[encoded data removed]",
      "text/plain": [
       "<Figure size 1000x400 with 1 Axes>"
      ]
     },
     "metadata": {},
     "output_type": "display_data"
    }
   ],
   "source": [
    "plt.figure(figsize=(10,4))\n",
    "sns.countplot(x= 'label', data=df ,hue = 'label', palette = 'Set1')\n",
    "plt.xticks(rotation=90)\n",
    "plt.show();"
   ]
  },
  {
   "cell_type": "markdown",
   "id": "c15a5b74-4f9d-41c8-a58e-607b7236f177",
   "metadata": {
    "id": "c15a5b74-4f9d-41c8-a58e-607b7236f177"
   },
   "source": [
    "**remove reduntant terms from columns**"
   ]
  },
  {
   "cell_type": "code",
   "execution_count": 7,
   "id": "1e9482d0-1713-4dcf-9687-8faa6877f6a4",
   "metadata": {
    "id": "1e9482d0-1713-4dcf-9687-8faa6877f6a4"
   },
   "outputs": [],
   "source": [
    "def make_unq(list1):\n",
    "    return list(set(list1))"
   ]
  },
  {
   "cell_type": "code",
   "execution_count": 8,
   "id": "cd10a258-8eee-4ce7-9b33-eec1b663a714",
   "metadata": {
    "id": "cd10a258-8eee-4ce7-9b33-eec1b663a714"
   },
   "outputs": [],
   "source": [
    "df['resume_adj'] = df['resume_adj'].apply(make_unq)\n",
    "df['resume_adv'] = df['resume_adv'].apply(make_unq)\n",
    "df['jd_adj']     = df['jd_adj'].apply(make_unq)\n",
    "df['jd_adv']     = df['jd_adj'].apply(make_unq)"
   ]
  },
  {
   "cell_type": "markdown",
   "id": "f41103d0-29dd-402c-891a-c5472ccb33f3",
   "metadata": {
    "id": "f41103d0-29dd-402c-891a-c5472ccb33f3"
   },
   "source": [
    "# Function to calculate Jaccard similarity between columns"
   ]
  },
  {
   "cell_type": "code",
   "execution_count": 9,
   "id": "b974170c-19e9-49c2-b7db-10d1b5265024",
   "metadata": {
    "id": "b974170c-19e9-49c2-b7db-10d1b5265024"
   },
   "outputs": [],
   "source": [
    "# Function to calculate Jaccard similarity\n",
    "def jaccard_similarity(set1, set2):\n",
    "    intersection = len(set1.intersection(set2))\n",
    "    union = len(set1)*len(set2)\n",
    "    return intersection / union if union else 0"
   ]
  },
  {
   "cell_type": "code",
   "execution_count": 10,
   "id": "a19c224e-8062-4f59-8c1d-de46354b2d2d",
   "metadata": {
    "id": "a19c224e-8062-4f59-8c1d-de46354b2d2d"
   },
   "outputs": [],
   "source": [
    "def calculate_jaccard_for_columns(df, col1, col2):\n",
    "    similarities = []\n",
    "    for index, row in df.iterrows():\n",
    "        # Convert the columns to sets of words (assuming they are strings)\n",
    "        set1 = set(row[col1])\n",
    "        set2 = set(row[col2])\n",
    "\n",
    "        # Calculate Jaccard similarity\n",
    "        similarity = jaccard_similarity(set1, set2)\n",
    "        similarities.append(similarity)\n",
    "\n",
    "    return similarities"
   ]
  },
  {
   "cell_type": "markdown",
   "id": "ab2ebe73-3a12-4ae8-bc4d-e7d435356572",
   "metadata": {
    "id": "ab2ebe73-3a12-4ae8-bc4d-e7d435356572"
   },
   "source": [
    "**Example usage: Calculate Jaccard similarity between 'resume_skills' and 'jd_skills'**"
   ]
  },
  {
   "cell_type": "code",
   "execution_count": 11,
   "id": "a463473e-03fd-4b6c-971e-780d787a9c69",
   "metadata": {
    "id": "a463473e-03fd-4b6c-971e-780d787a9c69"
   },
   "outputs": [],
   "source": [
    "df['jaccard_skills'] = calculate_jaccard_for_columns(df, 'resume_skills', 'jd_skills')"
   ]
  },
  {
   "cell_type": "markdown",
   "id": "95a79e88-a902-4c35-be9e-52dfd635d0c5",
   "metadata": {
    "id": "95a79e88-a902-4c35-be9e-52dfd635d0c5"
   },
   "source": [
    "**Similarly, calculate for other pairs of columns**"
   ]
  },
  {
   "cell_type": "code",
   "execution_count": 12,
   "id": "2bb65da3-8e66-490f-9712-68779b018e43",
   "metadata": {
    "id": "2bb65da3-8e66-490f-9712-68779b018e43"
   },
   "outputs": [],
   "source": [
    "df['jaccard_adj'] = calculate_jaccard_for_columns(df, 'resume_adj', 'jd_adj')"
   ]
  },
  {
   "cell_type": "code",
   "execution_count": 13,
   "id": "7bf78b6d-612f-40d6-a97e-618d254f9f62",
   "metadata": {
    "id": "7bf78b6d-612f-40d6-a97e-618d254f9f62"
   },
   "outputs": [],
   "source": [
    "df['jaccard_adv'] = calculate_jaccard_for_columns(df, 'resume_adv', 'jd_adv')"
   ]
  },
  {
   "cell_type": "code",
   "execution_count": 14,
   "id": "cba9d08e-abe4-4b10-9907-024ec23e5cd8",
   "metadata": {
    "id": "cba9d08e-abe4-4b10-9907-024ec23e5cd8",
    "outputId": "94b426a3-7885-4fa0-8a4e-a6fafa052d49"
   },
   "outputs": [
    {
     "data": {
      "text/html": [
       "<div>\n",
       "<style scoped>\n",
       "    .dataframe tbody tr th:only-of-type {\n",
       "        vertical-align: middle;\n",
       "    }\n",
       "\n",
       "    .dataframe tbody tr th {\n",
       "        vertical-align: top;\n",
       "    }\n",
       "\n",
       "    .dataframe thead th {\n",
       "        text-align: right;\n",
       "    }\n",
       "</style>\n",
       "<table border=\"1\" class=\"dataframe\">\n",
       "  <thead>\n",
       "    <tr style=\"text-align: right;\">\n",
       "      <th></th>\n",
       "      <th>resume_text</th>\n",
       "      <th>job_description_text</th>\n",
       "      <th>label</th>\n",
       "      <th>pre_resume</th>\n",
       "      <th>pre_jd</th>\n",
       "      <th>resume_skills</th>\n",
       "      <th>jd_skills</th>\n",
       "      <th>resume_adj</th>\n",
       "      <th>resume_adv</th>\n",
       "      <th>jd_adj</th>\n",
       "      <th>jd_adv</th>\n",
       "      <th>jaccard_skills</th>\n",
       "      <th>jaccard_adj</th>\n",
       "      <th>jaccard_adv</th>\n",
       "    </tr>\n",
       "  </thead>\n",
       "  <tbody>\n",
       "    <tr>\n",
       "      <th>0</th>\n",
       "      <td>SummaryHighly motivated Sales Associate with e...</td>\n",
       "      <td>Net2Source Inc. is an award-winning total work...</td>\n",
       "      <td>No Fit</td>\n",
       "      <td>summaryhighly motivate sale associate extensiv...</td>\n",
       "      <td>net2source inc. award win total workforce solu...</td>\n",
       "      <td>[windows, business, accounting, project manage...</td>\n",
       "      <td>[business, finance, accounting, mode, specific...</td>\n",
       "      <td>[monthly, prepared, direct, financial, profess...</td>\n",
       "      <td>[also, more, annually, closely]</td>\n",
       "      <td>[supportive, consecutive, financial, national,...</td>\n",
       "      <td>[supportive, financial, national, good, sexual...</td>\n",
       "      <td>0.041667</td>\n",
       "      <td>0.004204</td>\n",
       "      <td>0.000000</td>\n",
       "    </tr>\n",
       "    <tr>\n",
       "      <th>1</th>\n",
       "      <td>Professional SummaryCurrently working with Cat...</td>\n",
       "      <td>At Salas OBrien we tell our clients that were ...</td>\n",
       "      <td>No Fit</td>\n",
       "      <td>professional summarycurrently work caterpillar...</td>\n",
       "      <td>at salas obrien tell client engineer impact th...</td>\n",
       "      <td>[business, workload, electrical engineering, p...</td>\n",
       "      <td>[business, finance, play, electrical engineeri...</td>\n",
       "      <td>[correct, financial, electrical, good, primary...</td>\n",
       "      <td>[highly, directly, personally, most, safely]</td>\n",
       "      <td>[inspiring, unique, organized, long, professio...</td>\n",
       "      <td>[inspiring, unique, organized, long, professio...</td>\n",
       "      <td>0.029762</td>\n",
       "      <td>0.002467</td>\n",
       "      <td>0.000000</td>\n",
       "    </tr>\n",
       "    <tr>\n",
       "      <th>2</th>\n",
       "      <td>SummaryI started my construction career in Jun...</td>\n",
       "      <td>Schweitzer Engineering Laboratories (SEL) Infr...</td>\n",
       "      <td>No Fit</td>\n",
       "      <td>summaryi start construction career june 2017 j...</td>\n",
       "      <td>schweitzer engineering laboratories sel infras...</td>\n",
       "      <td>[business, play, material, component, diagram,...</td>\n",
       "      <td>[interaction, engineering, box, specification,...</td>\n",
       "      <td>[prepared, long, professional, electrician, el...</td>\n",
       "      <td>[successfully, more, consistently, highly, eff...</td>\n",
       "      <td>[healthy, superior, rewarding, nearby, equival...</td>\n",
       "      <td>[healthy, superior, rewarding, nearby, equival...</td>\n",
       "      <td>0.012500</td>\n",
       "      <td>0.001923</td>\n",
       "      <td>0.002222</td>\n",
       "    </tr>\n",
       "    <tr>\n",
       "      <th>3</th>\n",
       "      <td>SummaryCertified Electrical Foremanwith thirte...</td>\n",
       "      <td>Mizick Miller &amp; Company, Inc. is looking for a...</td>\n",
       "      <td>No Fit</td>\n",
       "      <td>summarycertified electrical foremanwith thirte...</td>\n",
       "      <td>mizick miller &amp; company inc. look dynamic indi...</td>\n",
       "      <td>[medium, controls, component, diagram, softwar...</td>\n",
       "      <td>[business, box, accounting]</td>\n",
       "      <td>[rigorous, consecutive, medium, robust, electr...</td>\n",
       "      <td>[successfully, highly]</td>\n",
       "      <td>[oral, great, strict, other, flexible, strong,...</td>\n",
       "      <td>[other, flexible, oral, strict, great, strong,...</td>\n",
       "      <td>0.000000</td>\n",
       "      <td>0.002262</td>\n",
       "      <td>0.000000</td>\n",
       "    </tr>\n",
       "    <tr>\n",
       "      <th>4</th>\n",
       "      <td>SummaryWith extensive experience in business/r...</td>\n",
       "      <td>Life at Capgemini\\nCapgemini supports all aspe...</td>\n",
       "      <td>No Fit</td>\n",
       "      <td>summarywith extensive experience business requ...</td>\n",
       "      <td>life capgemini capgemini support aspect change...</td>\n",
       "      <td>[monitoring, help desk, computer program, diag...</td>\n",
       "      <td>[ai, engineering, software engineering, design...</td>\n",
       "      <td>[industry, monthly, correct, waterfall, financ...</td>\n",
       "      <td>[more, well, over, outside, prior, also]</td>\n",
       "      <td>[general, mental, financial, geographic, entir...</td>\n",
       "      <td>[general, mental, allocable, financial, geogra...</td>\n",
       "      <td>0.011765</td>\n",
       "      <td>0.003395</td>\n",
       "      <td>0.002778</td>\n",
       "    </tr>\n",
       "  </tbody>\n",
       "</table>\n",
       "</div>"
      ],
      "text/plain": [
       "                                         resume_text  \\\n",
       "0  SummaryHighly motivated Sales Associate with e...   \n",
       "1  Professional SummaryCurrently working with Cat...   \n",
       "2  SummaryI started my construction career in Jun...   \n",
       "3  SummaryCertified Electrical Foremanwith thirte...   \n",
       "4  SummaryWith extensive experience in business/r...   \n",
       "\n",
       "                                job_description_text   label  \\\n",
       "0  Net2Source Inc. is an award-winning total work...  No Fit   \n",
       "1  At Salas OBrien we tell our clients that were ...  No Fit   \n",
       "2  Schweitzer Engineering Laboratories (SEL) Infr...  No Fit   \n",
       "3  Mizick Miller & Company, Inc. is looking for a...  No Fit   \n",
       "4  Life at Capgemini\\nCapgemini supports all aspe...  No Fit   \n",
       "\n",
       "                                          pre_resume  \\\n",
       "0  summaryhighly motivate sale associate extensiv...   \n",
       "1  professional summarycurrently work caterpillar...   \n",
       "2  summaryi start construction career june 2017 j...   \n",
       "3  summarycertified electrical foremanwith thirte...   \n",
       "4  summarywith extensive experience business requ...   \n",
       "\n",
       "                                              pre_jd  \\\n",
       "0  net2source inc. award win total workforce solu...   \n",
       "1  at salas obrien tell client engineer impact th...   \n",
       "2  schweitzer engineering laboratories sel infras...   \n",
       "3  mizick miller & company inc. look dynamic indi...   \n",
       "4  life capgemini capgemini support aspect change...   \n",
       "\n",
       "                                       resume_skills  \\\n",
       "0  [windows, business, accounting, project manage...   \n",
       "1  [business, workload, electrical engineering, p...   \n",
       "2  [business, play, material, component, diagram,...   \n",
       "3  [medium, controls, component, diagram, softwar...   \n",
       "4  [monitoring, help desk, computer program, diag...   \n",
       "\n",
       "                                           jd_skills  \\\n",
       "0  [business, finance, accounting, mode, specific...   \n",
       "1  [business, finance, play, electrical engineeri...   \n",
       "2  [interaction, engineering, box, specification,...   \n",
       "3                        [business, box, accounting]   \n",
       "4  [ai, engineering, software engineering, design...   \n",
       "\n",
       "                                          resume_adj  \\\n",
       "0  [monthly, prepared, direct, financial, profess...   \n",
       "1  [correct, financial, electrical, good, primary...   \n",
       "2  [prepared, long, professional, electrician, el...   \n",
       "3  [rigorous, consecutive, medium, robust, electr...   \n",
       "4  [industry, monthly, correct, waterfall, financ...   \n",
       "\n",
       "                                          resume_adv  \\\n",
       "0                    [also, more, annually, closely]   \n",
       "1       [highly, directly, personally, most, safely]   \n",
       "2  [successfully, more, consistently, highly, eff...   \n",
       "3                             [successfully, highly]   \n",
       "4           [more, well, over, outside, prior, also]   \n",
       "\n",
       "                                              jd_adj  \\\n",
       "0  [supportive, consecutive, financial, national,...   \n",
       "1  [inspiring, unique, organized, long, professio...   \n",
       "2  [healthy, superior, rewarding, nearby, equival...   \n",
       "3  [oral, great, strict, other, flexible, strong,...   \n",
       "4  [general, mental, financial, geographic, entir...   \n",
       "\n",
       "                                              jd_adv  jaccard_skills  \\\n",
       "0  [supportive, financial, national, good, sexual...        0.041667   \n",
       "1  [inspiring, unique, organized, long, professio...        0.029762   \n",
       "2  [healthy, superior, rewarding, nearby, equival...        0.012500   \n",
       "3  [other, flexible, oral, strict, great, strong,...        0.000000   \n",
       "4  [general, mental, allocable, financial, geogra...        0.011765   \n",
       "\n",
       "   jaccard_adj  jaccard_adv  \n",
       "0     0.004204     0.000000  \n",
       "1     0.002467     0.000000  \n",
       "2     0.001923     0.002222  \n",
       "3     0.002262     0.000000  \n",
       "4     0.003395     0.002778  "
      ]
     },
     "execution_count": 14,
     "metadata": {},
     "output_type": "execute_result"
    }
   ],
   "source": [
    "df.head()"
   ]
  },
  {
   "cell_type": "code",
   "execution_count": 15,
   "id": "c35b0b40-d08b-41c7-b8dc-c82c7efb1e82",
   "metadata": {
    "id": "c35b0b40-d08b-41c7-b8dc-c82c7efb1e82",
    "outputId": "7531fd30-e55f-4962-f234-27f6a8ccc6b4"
   },
   "outputs": [
    {
     "data": {
      "text/html": [
       "<div>\n",
       "<style scoped>\n",
       "    .dataframe tbody tr th:only-of-type {\n",
       "        vertical-align: middle;\n",
       "    }\n",
       "\n",
       "    .dataframe tbody tr th {\n",
       "        vertical-align: top;\n",
       "    }\n",
       "\n",
       "    .dataframe thead th {\n",
       "        text-align: right;\n",
       "    }\n",
       "</style>\n",
       "<table border=\"1\" class=\"dataframe\">\n",
       "  <thead>\n",
       "    <tr style=\"text-align: right;\">\n",
       "      <th></th>\n",
       "      <th>jaccard_skills</th>\n",
       "      <th>jaccard_adj</th>\n",
       "      <th>jaccard_adv</th>\n",
       "    </tr>\n",
       "  </thead>\n",
       "  <tbody>\n",
       "    <tr>\n",
       "      <th>count</th>\n",
       "      <td>6241.000000</td>\n",
       "      <td>6241.000000</td>\n",
       "      <td>6241.000000</td>\n",
       "    </tr>\n",
       "    <tr>\n",
       "      <th>mean</th>\n",
       "      <td>0.022280</td>\n",
       "      <td>0.004998</td>\n",
       "      <td>0.000732</td>\n",
       "    </tr>\n",
       "    <tr>\n",
       "      <th>std</th>\n",
       "      <td>0.026646</td>\n",
       "      <td>0.004429</td>\n",
       "      <td>0.003705</td>\n",
       "    </tr>\n",
       "    <tr>\n",
       "      <th>min</th>\n",
       "      <td>0.000000</td>\n",
       "      <td>0.000000</td>\n",
       "      <td>0.000000</td>\n",
       "    </tr>\n",
       "    <tr>\n",
       "      <th>25%</th>\n",
       "      <td>0.007937</td>\n",
       "      <td>0.002660</td>\n",
       "      <td>0.000000</td>\n",
       "    </tr>\n",
       "    <tr>\n",
       "      <th>50%</th>\n",
       "      <td>0.013410</td>\n",
       "      <td>0.004329</td>\n",
       "      <td>0.000000</td>\n",
       "    </tr>\n",
       "    <tr>\n",
       "      <th>75%</th>\n",
       "      <td>0.025210</td>\n",
       "      <td>0.006494</td>\n",
       "      <td>0.000000</td>\n",
       "    </tr>\n",
       "    <tr>\n",
       "      <th>max</th>\n",
       "      <td>0.333333</td>\n",
       "      <td>0.083333</td>\n",
       "      <td>0.125000</td>\n",
       "    </tr>\n",
       "  </tbody>\n",
       "</table>\n",
       "</div>"
      ],
      "text/plain": [
       "       jaccard_skills  jaccard_adj  jaccard_adv\n",
       "count     6241.000000  6241.000000  6241.000000\n",
       "mean         0.022280     0.004998     0.000732\n",
       "std          0.026646     0.004429     0.003705\n",
       "min          0.000000     0.000000     0.000000\n",
       "25%          0.007937     0.002660     0.000000\n",
       "50%          0.013410     0.004329     0.000000\n",
       "75%          0.025210     0.006494     0.000000\n",
       "max          0.333333     0.083333     0.125000"
      ]
     },
     "execution_count": 15,
     "metadata": {},
     "output_type": "execute_result"
    }
   ],
   "source": [
    "df.iloc[:,11:].describe()"
   ]
  },
  {
   "cell_type": "code",
   "execution_count": null,
   "id": "3fb97e16-9c05-4609-bc68-ad5cc725c8ef",
   "metadata": {
    "id": "3fb97e16-9c05-4609-bc68-ad5cc725c8ef",
    "outputId": "163b8094-7368-4920-f284-72011fdfaf0d"
   },
   "outputs": [
    {
     "data": {
      "text/plain": [
       "5627"
      ]
     },
     "execution_count": 22,
     "metadata": {},
     "output_type": "execute_result"
    }
   ],
   "source": [
    "len(df[df['jaccard_adv'] == 0])         # problem"
   ]
  },
  {
   "cell_type": "code",
   "execution_count": null,
   "id": "a4d6045e-262c-4705-b277-6bce1c2aef89",
   "metadata": {
    "id": "a4d6045e-262c-4705-b277-6bce1c2aef89",
    "outputId": "71e4ff97-4a9c-49a8-bf03-1f23bfe3a31a"
   },
   "outputs": [
    {
     "data": {
      "text/plain": [
       "772"
      ]
     },
     "execution_count": 23,
     "metadata": {},
     "output_type": "execute_result"
    }
   ],
   "source": [
    "len(df[df['jaccard_adj'] == 0])"
   ]
  },
  {
   "cell_type": "code",
   "execution_count": null,
   "id": "1703c7dc-e033-45f4-906a-f9a7ddbbca9e",
   "metadata": {
    "id": "1703c7dc-e033-45f4-906a-f9a7ddbbca9e",
    "outputId": "35833d0d-be5e-45b2-8425-bb84359fb755"
   },
   "outputs": [
    {
     "data": {
      "text/plain": [
       "679"
      ]
     },
     "execution_count": 24,
     "metadata": {},
     "output_type": "execute_result"
    }
   ],
   "source": [
    "len(df[df['jaccard_skills'] == 0])"
   ]
  },
  {
   "cell_type": "code",
   "execution_count": null,
   "id": "ef98be47-8725-4cc8-89aa-f1e7a6734710",
   "metadata": {
    "id": "ef98be47-8725-4cc8-89aa-f1e7a6734710"
   },
   "outputs": [],
   "source": []
  },
  {
   "cell_type": "markdown",
   "id": "USqo1b2rIaAZ",
   "metadata": {
    "id": "USqo1b2rIaAZ"
   },
   "source": [
    "#Now repeating the same process for Test set"
   ]
  },
  {
   "cell_type": "code",
   "execution_count": null,
   "id": "Y3NL51AvMPSd",
   "metadata": {
    "id": "Y3NL51AvMPSd"
   },
   "outputs": [],
   "source": [
    "resume_data_test = dataset[\"test\"]\n",
    "\n",
    "# Convert to Pandas DataFrame\n",
    "import pandas as pd\n",
    "test_df = resume_data_test.to_pandas()"
   ]
  },
  {
   "cell_type": "code",
   "execution_count": 21,
   "id": "a0f0dda3-b96b-4ef6-9716-1dbab50d2922",
   "metadata": {
    "colab": {
     "base_uri": "https://localhost:8080/",
     "height": 206
    },
    "id": "a0f0dda3-b96b-4ef6-9716-1dbab50d2922",
    "outputId": "55cfe9bc-59f9-4b01-9ce1-01c0600d8761"
   },
   "outputs": [
    {
     "data": {
      "application/vnd.google.colaboratory.intrinsic+json": {
       "summary": "{\n  \"name\": \"test_df\",\n  \"rows\": 1759,\n  \"fields\": [\n    {\n      \"column\": \"resume_text\",\n      \"properties\": {\n        \"dtype\": \"category\",\n        \"num_unique_values\": 477,\n        \"samples\": [\n          \"SummaryAmbitious, career-focused job seeker, anxious to obtain an entry-level Data Entry position to help launch career while achieving company goals.\\nSkillsInsurance billingPatient paperworkAseptic techniquesTroubleshooting malfunctioning equipmentStocking medicationsDrug inventory controlProper labeling proceduresFilling prescriptionsPoint of sale systems proficiencyPrescription verificationWorkflow OptimizationVerifying ordersOrdering and stocking medicationsStocking shelvesLabeling prescriptionsResolving customer issuesPreparing bulk medicationsScanning and copyingDatabase entryWorkflow efficiencyData entryInbound and Outbound CallingCredit card payment processing\\nExperience08/2022toCurrentMedication Adherence Technician /Data Entry ProcessorCedarbrook Senior Living Management|Rochester,MI,Maintained strict patient confidentiality to adhere to HIPAA regulations and avoid data compromises.Assisted pharmacist with clearing high volume of prescriptions and responded to customer questions.Established and updated patient profiles, medications and insurance details.Processed credit transactionsAdhered to regulatory guidelines for workplace safety and customer confidentiality.Created new customer profiles and updated demographics, allergies and new medications in pharmacy computer systems.Consulted with customers via telephone or in-person to assist with navigating pharmacy systems and completing requests.Prepared pricing and instruction labels for placement on prescriptions.Compiled customer demographic, allergy and medical history background.Completed accurate and efficient data entry and database updates to support business operations.Identified, corrected and reported data entry errors.Compiled data from source documents prior to data entry.Scanned and stored files and records electronically to reduce paper files and secure data.Input client information into spreadsheets and company database to provide leaders with quick access to essential client data.08/2019to08/2022Medication TechnicianAmita Health|Derby,KS,Obtained, recorded and reported patient vital signs for medication administration.Safely and accurately prepared all medications and sterilized products by using proper techniques, calculations and standards of precautions.Reduced errors by hand-counting controlled medications, accurately measuring liquids and reconstituting antibiotics.Looked for physical, emotional and symptomatic changes in patient condition and obtained necessary care for medical concerns.Documented information in patient charts and communicated status updates to interdisciplinary care team.Liaised with nursing staff to prepare and administer prescribed medications to patients.Communicated with patients to determine feelings, need for assistance or social and emotional support.Documented and reported observations of patient behavior, complaints or physical symptoms to nurses.Reminded patients to take prescribed medications or nutritional supplements.SUPD CallsEnrollments09/2011to01/2020Certified Pharmacy TechnicianDavidson's Discount Drugs|City,STATE,Maintained strict patient confidentiality to adhere to HIPAA regulations and avoid data compromises.Managed inventories, rotated stock, removed expired or damaged drug products and resolved discrepancies in drug counts.Assisted pharmacist with clearing high volume of prescriptions and responded to customer questions.Worked with insurance companies to process claims, resolve problems and obtain payments.Established and updated patient profiles, medications and insurance details.Received and verified daily incoming drug inventories, reported discrepancies and logged items into inventory system.Efficiently processed cash register transactions for new and refilled prescription orders.Adhered to regulatory guidelines for workplace safety and customer confidentiality.Verified patients' identities at pickup to prevent sale of wrong medications.Created new customer profiles and updated demographics, allergies and new medications in pharmacy computer systems.Consulted with customers via telephone or in-person to assist with navigating pharmacy systems and completing requests.Supervised inventory levels to maintain adequate supply of medications and medical supplies.Transmitted claims to insurance companies for payment and reconciled EOBs.Received, reviewed, dispensed and labeled numerous prescriptions daily.Prepared pricing and instruction labels for placement on prescriptions.Compiled customer demographic, allergy and medical history background.Adhered to infection control policies and procedures to prevent spread of disease.Maintained clean and organized pharmacy shelving and work areas.Completed and filed patient paperwork, updating records in system with insurance carrier changes and allergy information.\\nEducation and TrainingExpected in07/2010totoIT Program Computer Information Systems|Computer And Information SciencesTennessee Technological University,Livingston, TN,GPA:Expected in05/2010totoHigh School Diploma|Pickett County High School,Byrdstown,TNGPA:3.05 GPAExpected in04/2010totoCertified Nursing Assistant|Nursing AssistanceTennessee Technological University,LIVINGSTON, TN,GPA:Certification lapsedExpected intoto|Health ScienceVolunteer State Community College,Livingston, TN,GPA:\",\n          \"Professional SummaryWith the attitude of learning I am looking for an internship from summer 2017 to gain as much as knowledge as I can and contribute to the organizations success.\\nCore QualificationsC, C++, C#, SQL pl/sqlOperating Systems: Windows, Linux, unixHDL/HVL: Verilog, SystemVerilogScripting Language: Unix Shell Scripting, PERL, Python, TCLSoftware proficiency: Cadence (Layout, Virtuoso, Spectre),  Synopsys(DC Compiler), Modelsim, Questasim, TFS for version controller, Microsoft sql server 2012, Visual studio 2008\\nExperienceSoftware Engineer,12/2015-08/2016Torch Technologies, Inc.\\u2013Corpus Christi,TX,IndiaAnalyze internal processes and recommend and implement procedural changes to improve operations in database.Analyze the requirement and make the necessary changes in the existing modules.Support and maintenance of the specific module.System Engineer,04/2013-12/2015Apex Systems\\u2013Minnetonka,MN,IndiaWorked in SDLC and Agile framework made me flexible in working as and when required Consistent performance and ownership of the task while maintaining of the module in Data ware house project.Interacting with clients (UK United Biscuits, Canada TD bank, ING bank Singapore) during analysis, development & implementation phase gave me a global exposure of interacting with the people across different regions of world.Understanding the requirement of the customers while providing customer support and testing of functional and technical queries, request, requirements and modifications.Conducted training sessions to train juniors for the same technology.Achievements Customer Satisfaction Index for the project increased from 82.7% to 97.8% in the duration of 6 months for the consistent performance and various suggestions and effective solutions being provided for the improvement of the system.Received an appreciation from VP of TD bank Mr.Barkla for a successful delivery of the compliance project within the Time lines.On the spot award\\\" for leading and managing event for the account (TCS).Safety Champion of Women safety initiative in the organization for 2015.I was leading a team of 10-15 people for a year in which I was interacting with various employees in the office, explaining them the significance of ergonomics, suggested exercises and also encouraging them to practice the same.Received All India Mahindra talent scholarship in the year of Aug-2006 for securing 85.73% JRD TATA scholarship in the year of Sept-2009 of for the accomplishment of 84.12% in the diploma.\\nEducationMasters:Electrical & Computer Engineering,Expected inFall 2016-PORTLAND STATE UNIVERSITY-,OregonGPA:Status-Electrical & Computer Engineering 4.0Digital IC and Design(ECE 525) Ahsan\\n*ASIC Design Modelling & Synthesis (ECE581) Xiaoyu Song \\n*Verilog Workshop (ECE 510 )Roy Kravitz.:,Expected in--,GPA:Status-Microprocessor System Design (ECE585) Mark Faust \\n*Embedded Systems Design with FPGAs (ECE544) Hammerstrom\\n*Pre-silicon Functional Verification by Prof. Schubert:,Expected in-Mumbai University-,MHGPA:Status-Bachelor of Engineering:Electronics & Telecommunications,Expected inJuly 2012--,GPA:Status-Electronics & Telecommunications 67/100 Core Subjects: Digital logic design Digital communication Electronics devices and circuits I Analog digital IC design applications Electronics devices and circuits II Simulation of software workshop Microprocessor and micro-controllers I Microprocessor and micro-controllers IIDiploma:Electronics & communications,Expected inJuly 2009-MAHARASHTRA STATE BOARD OF TECHNICAL EDUCATION-Mumbai,MHGPA:Status-Electronics & communications Grade : 84.12/100 Core Subjects: Electronic components and devices Programming in C Digital techniques and microprocessor Micro-controllers Digital communication Embedded systems\\nSkillsAgile, ASIC, C, C++, Cadence, controller, clients, Customer Satisfaction, customer support, database, DC, delivery, Electronics, Embedded Systems, ergonomics, Functional, Layout, Linux, logic, managing, Mark, Microprocessor, C#, office, 97, Windows, Operating Systems, pl/sql, PERL, processes, Programming, Python, requirement, Safety, SDLC, Scripting, Simulation, Microsoft sql server, SQL, System Design, TCL, unix, Unix Shell Scripting, Verilog, Visual studio\",\n          \"SummaryIncredibly motivated professional with a variety of academic and civilian administrative\\nexperience. Possesses analytical, research, and problem solving skills. Detail oriented,\\norganized and able to manage projects to meet deadline requirements. Proficient\\nwritten and oral communication skills with extended experience utilizing various forms\\nof correspondence. Precise judgment and decision-making skills to ensure the client\\u2019s\\nneeds are being met. Effective while working within a group or independently.\\nSkillsProblem SolvingCommunicationCritical ThinkingAnalyticalAttention to DetailMulti-Tasking\\nExperience04/2014toCurrentData AnalystAtlas Executive Consulting\\u2013Washington,DC,Utilized SQL Developer to streamline processes and reports obtained from the Enterprise Data Warehousing (EDW) and Enterprise Resource Planning (ERP) information systems.Responsible for maintaining and updating multiple tables with in the EDW application.Constructed and modified SQL queries to support data reporting initiatives.Reviewed and validated financial statements including, but not limited to balance sheets and statements of revenue, to identify and correct data discrepancies that impact financial reports.Presented project and reporting results to senior management and clients to assess reporting issues and provide solutions.Managed the CORPROD inbox to receive feedback concerning financial reports and queries.Worked closely with Subject Matter Experts (SME's) and Database Administrators (DBA) to provide status updates and technical guidance to run financial and inventory reportsUtilized project management skills to ensure weekly reports and on going project objectives are met.06/2011to04/2014Financial Management AnalystDepartment Of Justice\\u2013Batavia,NY,Budgeted, allocated, and monitored the use of financial resources that support the supply chain and operational strategic plans.Analyzed business requirements to prepare and coordinate various budget proposals and exhibits with clients and Headquarters for submission.Provided guidance to management concerning financial management policies and procedures.Allocated and reallocated funds to the appropriate fund centers to ensure sufficient monies are available when and where needed at the execution level.Analyzed key business indicators including sales, obligations, net operating revenue and cash, and financial statements, to identify variances.Collaborated with multiple departments to articulate budget variances, financial performance, and corrective actions to the supply chain and operational management in order to improve business performance.Received, validated, accepted funding documents and identified the need to create reimbursable internal orders to track costs incurred in ERP systems.Utilized Navy Enterprise Resource Planning system to allocate, execute, and control funds, identify weaknesses within financial areas.Reviewed program manager budget requests to evaluate estimates and requirementsSupervised two Financial Technicians on completing funding documents and other financial matters.03/2009to06/2011Financial Management (Intern)American Advanced Management, Inc\\u2013Coalinga,CA,Developed financial analysis skills including, but not limited to balance sheet reconciliation, components of financial contracts, accounting principles for government entities, and the financial audit process.Assisted with generating and analyzing monthly financial reports and physical inventory.Participated in the yearly forecasting initiatives.Developed and utilized spreadsheets, databases, and other applications to complete assignments.02/2001to08/2004Personnel ClerkUnited States Marine Corp\\u2013City,STATE,Performed personnel and general administrative duties utilizing\\n          manual and automated information systems.Prepared documents,\\n          maintained personnel records, retrieved pay and personnel\\n          information.Developed and maintained working knowledge of the Marine Corps\\n          Total Force System (MCTFS), which encompasses the on-line Diary\\n          System(OLDS),the Unit Diary/Marine Integrated Personnel System\\n          (UD/MIPS).Created entries for individual service records, audited service\\n          records for required entries and documentation, completed various\\n          personnel and pay related forms and documents.Researched proper unit diary entry requirements, entered\\n          transactions into MCTFS via the unit diary, audited and corrected\\n          feedback reports from the MCTFS system, and prepared individual\\n          pond and allotment request.\\nEducation and TrainingExpected in2016totoMaster of Science:Business AdministrationUniversity of Mary Washington-Fredericksburg,VAGPA:3.35/4.00Expected in2008totoBachelor of Arts:Business ManagementCharleston Southern University-Charleston,SCGPA:3.00/4.00\"\n        ],\n        \"semantic_type\": \"\",\n        \"description\": \"\"\n      }\n    },\n    {\n      \"column\": \"job_description_text\",\n      \"properties\": {\n        \"dtype\": \"category\",\n        \"num_unique_values\": 71,\n        \"samples\": [\n          \"Who we are:Founded in 2017, Gatik is the leader in autonomous middle mile logistics. We deliver goods safely and efficiently using medium duty trucks with a focus on short-haul, B2B logistics for Fortune 500 customers such as Walmart and Loblaw. Gatik enables our customers to optimize their hub-and-spoke operations, enhance service levels and product flow across multiple locations while reducing labor costs and meeting an unprecedented expectation for faster deliveries.\\nAbout the role:We are looking for talented Staff Engineers with expertise in classical and modern computer vision techniques to lead or actively contribute to the architecture, design, implementation, and delivery of a multi-modal perception system. The ideal candidate will be a software expert who has overseen a process from the R&D phase through product shipment and has a passion for leading teams and developing real-world solutions.\\nThis role is onsite 4 days a week at our Mountain View, CA office!\\nWhat you'll do:Design and implement key components of perception system such as object detection, object tracking, and multi-sensor fusionBuild software infrastructure to enable learning algorithms to leverage large scale imageLIDAR dataDesign and write highly optimized pipelines for data pre-processing, model training, data post-processing, inferencing etc.Train perception models, evaluate their performance, investigate and fix performance bottlenecksDevelop scalable training and evaluation tools and infrastructureCollaborate with other engineers to conduct system integration and tests\\nWhat we're looking for:Masters or Ph.D. degree in Computer Science, Electrical Engineering, Robotics or related field7+ years of related experience2+ years of professional experience working on Computer Vision using C++ and OpenCVExpert knowledge of modern C++ (C++11 or later) and PythonExperience in deploying perception algorithms into real-world environmentsFamiliar with NVIDIA software libraries such as CUDA or TensorRTExperience building testing and evaluation platformsFamiliarity with deep learning applied to computer vision problemsExperience working on Computer Vision problems in at least two of the following subjects: Feature detection & matching, Image Filtering, Object Tracking, 3D Estimation, 3D Reconstruction, SLAMProficiency in modern container technologies including Docker and KubernetesIn-depth understanding of software performance and optimizationStrong math fundamentals and a good grasp of 3D geometry and vector mathWorked with one or more neural network frameworks, such as Tensorflow or PyTorch\\nMore about Gatik:With headquarters in Mountain View, CA and offices in Canada, Texas, Louisiana and Arkansas, Gatik is establishing new standards of success for the autonomous trucking industry every day. Visit us at Gatik for more company information and Jobs @ Gatik for more open roles.\\nGatik News:The 10 most innovative companies in transportation of 2023Americas Best Startup Employers of 2023 by ForbesAmericas Best Startup Employers of 2022 by ForbesGatik been named as a 2023 FreightTech 25 winner!Gatik named a TIME Best Invention of 2022Apeksha Kumavat recognized on the Inc. 2022 Female Founders 100 ListGatiks Gautam Narang on the importance of knowing your customerGatik CEO Gautam Narang was Named Among the Most Exceptional Entrepreneurs of 2022 by Goldman Sachs\\nTaking care of our team:At Gatik, we connect people of extraordinary talent and experience to an opportunity to create a more resilient supply chain and contribute to our environments sustainability. We are diverse in our backgrounds and perspectives yet united by a bold vision and shared commitment to our values. Our culture emphasizes the importance of collaboration, respect and agility.\\nWe at Gatik strive to create a diverse and inclusive environment where everyone feels they have opportunities to succeed and grow because we know that together we can do great things. We are committed to an inclusive and diverse team. We do not discriminate based on race, color, ethnicity, ancestry, national origin, religion, sex, gender, gender identity, gender expression, sexual orientation, age, disability, veteran status, genetic information, marital status or any legally protected status.\",\n          \"Key Responsibilities:Create intricate wiring networks and electrical subcomponents for both prototype systems and their seamless integration into fuel cell-powered equipment.Conduct comprehensive tests, diagnoses, and repairs at the level of individual components, subsystems, and the overall system.Collaborate on the generation of electrical schematics and detailed bills of materials.Participate in safety assessments to ensure alignment with safety protocols for prototypes and finalized systems.Interface with engineering teams to ensure compliance with product interface requirements.Ensure system longevity and reliability through effective maintenance planning and execution.Regularly calibrate and fine-tune electrical elements to uphold system precision and stability.Occasional travel to customer and partner locations.Fulfill additional responsibilities as assigned by management.\\nRequirements:Demonstrate strong mechanical and electrical acumen along with exceptional teamwork capabilities.Minimum of 5 years of practical experience in electrical technician or related roles.Certified to work on high-voltage systems in accordance with NFPA 70E (or equivalent) training.Proficient verbal communication skills, vital for interactions with manufacturing, engineering, and other teams both directly and through digital channels.Proficiency in fabricating electrical harnesses, cables, and devices based on wire schematics.Skilled at debugging and troubleshooting mechanical and electrical systems.An Associate's or Bachelor's degree in Electrical Engineering is preferred.Exhibit passion for innovation, sustainability, and pushing the boundaries of agricultural technologies.Possess adaptability to excel within a dynamic, fast-paced work environment.\",\n          \"Who We Are\\nInvitation Homes is a fast-paced evolving publicly traded REIT that is pioneering a new industry with over 80,000 single family rental homes and a market capitalization of over $25 billion. We are a team of more than 1,400 associates who come from all walks of life. We call different communities home, but our shared values bind us together. Invitation Homes is a place where possibility lives.\\nTHR Property Management LP  Data Engineer  Dallas, TX: Develop and maintain data pipelines into data warehouse and data lake, including design, and development. Develop and implement strategies to translate business requirements into feasible and acceptable data warehouse and data lake solutions. Architect and build new data models to improve data models that feed business intelligence tools, increasing data accessibility, and fostering data-driven decision making. Design, build and launch data pipelines to move data to data lake and data warehouse build and maintain framework for auditing, error logging, and master data management for data pipelines. Build data expertise and own data quality for the data pipelines. Implement processes and systems to monitor data quality, ensuring production data is always accurate and available for key stakeholders and business processes. Perform data analysis and assist in the resolution of data issues. Identify and resolve defects of complex scope using proper engineering tools and techniques. Provide support and maintain existing products and add new features. Mentor engineers by providing advice, coaching and educational opportunities. Telecommuting permitted from any location within the U.S. Salary: 148512year.\\nThe Senior Data Engineer is accountable for the maintenance, improvement, and movement of data in the Enterprise Data Warehouse, and other data sources used for enterprise reporting. A successful Senior Data Engineer delivers database design, implementation, and schematics that creates sustainable, competitive advantage for our company. Further, a Senior Data Engineer is responsible for the development and deployment of innovative analytics data platforms to support end-user enterprise reporting. Working with other data engineers, data analysts, and data scientists, a Senior Data Engineer must have a delivery first mentality and a firm grasp of Agile Development methodology. Lastly, the ideal candidate must demonstrate the ability to work as a team member and team leader.\\nWhat Youll DoAccountable for the overall performance and maintenance of our SQL Server environments:Manage the EDW relational database for optimized performanceDesign scalable ETL packages from the business source systemsEnsure all necessary testing and validation for all planned and unplanned releasesMentor junior data engineers in best practices and documentation.Act as our database evangelist in leading innovation activities through exploration, benchmarking and implementation of data technologiesParticipate in solution-based activities; articulate your ideas through well thought out documentation and research best-in-class solutionsLead and Develop and implement data architecture standardsManage the necessary testing and validation to ensure proper compliance to data governance and qualityPrepare progress reports regarding our database environments status and healthManage troubleshooting data issues and present solutions to these issues.Resolve tactical issues thoroughly while always looking for optimization and documenting lessons learnedUnderstand when tactical issues are really systematic issues requiring deeper level of analysis and strategic solutionsCooperate with the support team to investigate and resolve data related defectsProactively analyze and evaluate current state of data in order to identify and recommend improvements and optimizationSupport our Agile Development methodologyConstantly prioritize user stories; balance feature development, defects, and tech debt according to business needBe a champion of continuous improvement and delivery; define the minimum viable product, focus teams on key release milestones, and leverage fast follow-up sprintsEnable sprint progress; clarify story details, validate completed stories, and prepare stories for the next sprint\\nWho Were Looking For\\nBachelors degree in Computer Science, Applied Mathematics, Engineering, or any other technology related field. An equivalent of the same in working experience is also accepted for the position.A candidate for the position will have as at least 5 years of working experience as a database engineering or a database engineering administrator within a fast-paced a complex business setting.Design, implement and maintain SQL Server databasesDesign, implement and maintain ETL processes using SQL Server SSISProvide ongoing maintenance support through SQL query tuning and optimizationStrong working and conceptual knowledge of building and maintaining physical and logical data modelsStrong working and conceptual knowledge of reporting and visualization tools such as SSRS, PowerBI, Tableau, or other business intelligence tools.Experience working in SaaS, IaaS, and PaaSExcellent customer service and interpersonal skills; ability to relate to and get along with othersProfessional verbal and written communication skillsStrong organizational and time-management skillsAbility to multi-task and maintain flexibility and creativity in a variety of situationsAbility to analyze and resolve problemsAbility to set and meet goals and consistently meet deadlinesAbility to maintain confidentiality\\nWhy Invitation Homes \\nInvitation Homes Offers The Below To Each New Associate\\nWe stand for flexibility, opportunity, and a home that people can make their own. Its as true for our associates as it is for our residents. Just like we help our residents live freer, we liberate our associates careers, too. Our associates know that at Invitation Homes goals matter, potential is unlocked, and careers thrive. Invitation Homes isnt just a work place it is a possibility place.\\nCompetitive pay and an annual bonus program for all associatesGenerous paid time off plans including vacation accrual, sick time, volunteer time, and standard and floating holidays401k with matching company contributionsAwesome work environment with casual dressTeam events and gatheringsEmployee resource groups: Together with Women, Asian Alliance, Black Collective, Juntos, Gen Next, and Open Invitation.\\nInvitation Homes truly is where possibility lives, pour a new foundation here!\\nSalary Range\\n$98,640.00 - $170,976.00\\nCompensation And Benefits\\nTo attract and retain top talent, we're pleased to offer competitive compensation and benefits, including:\\nAnnual bonus programHealth, dental, vision, and life insuranceLong-term and short-term disability insuranceGenerous paid time off plans include vacation accrual, sick time, standard holidays and floating holidays401(k) with company matching contributionsAwesome work environment with casual dressTeam events and gatherings (Pre- and Post-Covid)\\nInvitation Homes is an equal opportunity employer committed to fostering a diverse, inclusive and innovative environment with the best associates. We are committed to equal employment opportunity regardless of race, color, ancestry, religion, sex, national origin, sexual orientation, age, citizenship, marital status, disability, gender identity, Veteran status or any other factor protected by applicable federal, state or local law. If you have a disability or special need that requires accommodation, please contact us at humanresources@invitationhomes.com.\\nTo all recruitment agencies: Invitation Homes does not accept agency resumes. Please do not forward resumes to Invitation Homes employees. Invitation Homes is not responsible for any fees related to unsolicited resumes.\"\n        ],\n        \"semantic_type\": \"\",\n        \"description\": \"\"\n      }\n    },\n    {\n      \"column\": \"label\",\n      \"properties\": {\n        \"dtype\": \"category\",\n        \"num_unique_values\": 3,\n        \"samples\": [\n          \"No Fit\",\n          \"Potential Fit\",\n          \"Good Fit\"\n        ],\n        \"semantic_type\": \"\",\n        \"description\": \"\"\n      }\n    }\n  ]\n}",
       "type": "dataframe",
       "variable_name": "test_df"
      },
      "text/html": [
       "\n",
       "  <div id=\"df-6e86a729-07b0-4584-af30-03ca1c216c3d\" class=\"colab-df-container\">\n",
       "    <div>\n",
       "<style scoped>\n",
       "    .dataframe tbody tr th:only-of-type {\n",
       "        vertical-align: middle;\n",
       "    }\n",
       "\n",
       "    .dataframe tbody tr th {\n",
       "        vertical-align: top;\n",
       "    }\n",
       "\n",
       "    .dataframe thead th {\n",
       "        text-align: right;\n",
       "    }\n",
       "</style>\n",
       "<table border=\"1\" class=\"dataframe\">\n",
       "  <thead>\n",
       "    <tr style=\"text-align: right;\">\n",
       "      <th></th>\n",
       "      <th>resume_text</th>\n",
       "      <th>job_description_text</th>\n",
       "      <th>label</th>\n",
       "    </tr>\n",
       "  </thead>\n",
       "  <tbody>\n",
       "    <tr>\n",
       "      <th>0</th>\n",
       "      <td>Summary7+ years of experience as a BI develope...</td>\n",
       "      <td>Key Responsibilities:Create intricate wiring n...</td>\n",
       "      <td>No Fit</td>\n",
       "    </tr>\n",
       "    <tr>\n",
       "      <th>1</th>\n",
       "      <td>Professional BackgroundAnalyst versed in data ...</td>\n",
       "      <td>Personal development and becoming the best you...</td>\n",
       "      <td>No Fit</td>\n",
       "    </tr>\n",
       "    <tr>\n",
       "      <th>2</th>\n",
       "      <td>Executive ProfileDedicated professional with t...</td>\n",
       "      <td>Location: Tampa, FL\\nExp: 7-10 Yrs\\nSPOC: Tush...</td>\n",
       "      <td>No Fit</td>\n",
       "    </tr>\n",
       "    <tr>\n",
       "      <th>3</th>\n",
       "      <td>Summarytyee\\nHighlightsMicrosoft Excel, Word, ...</td>\n",
       "      <td>Primary Location: Melbourne, Florida\\nV-Soft C...</td>\n",
       "      <td>No Fit</td>\n",
       "    </tr>\n",
       "    <tr>\n",
       "      <th>4</th>\n",
       "      <td>SummaryEIT certified Engineer and ASTQB Certif...</td>\n",
       "      <td>At Oregon Specialty Group the Accounting &amp; Pay...</td>\n",
       "      <td>No Fit</td>\n",
       "    </tr>\n",
       "  </tbody>\n",
       "</table>\n",
       "</div>\n",
       "    <div class=\"colab-df-buttons\">\n",
       "\n",
       "  <div class=\"colab-df-container\">\n",
       "    <button class=\"colab-df-convert\" onclick=\"convertToInteractive('df-6e86a729-07b0-4584-af30-03ca1c216c3d')\"\n",
       "            title=\"Convert this dataframe to an interactive table.\"\n",
       "            style=\"display:none;\">\n",
       "\n",
       "  <svg xmlns=\"http://www.w3.org/2000/svg\" height=\"24px\" viewBox=\"0 -960 960 960\">\n",
       "    <path d=\"M120-120v-720h720v720H120Zm60-500h600v-160H180v160Zm220 220h160v-160H400v160Zm0 220h160v-160H400v160ZM180-400h160v-160H180v160Zm440 0h160v-160H620v160ZM180-180h160v-160H180v160Zm440 0h160v-160H620v160Z\"/>\n",
       "  </svg>\n",
       "    </button>\n",
       "\n",
       "  <style>\n",
       "    .colab-df-container {\n",
       "      display:flex;\n",
       "      gap: 12px;\n",
       "    }\n",
       "\n",
       "    .colab-df-convert {\n",
       "      background-color: #E8F0FE;\n",
       "      border: none;\n",
       "      border-radius: 50%;\n",
       "      cursor: pointer;\n",
       "      display: none;\n",
       "      fill: #1967D2;\n",
       "      height: 32px;\n",
       "      padding: 0 0 0 0;\n",
       "      width: 32px;\n",
       "    }\n",
       "\n",
       "    .colab-df-convert:hover {\n",
       "      background-color: #E2EBFA;\n",
       "      box-shadow: 0px 1px 2px rgba(60, 64, 67, 0.3), 0px 1px 3px 1px rgba(60, 64, 67, 0.15);\n",
       "      fill: #174EA6;\n",
       "    }\n",
       "\n",
       "    .colab-df-buttons div {\n",
       "      margin-bottom: 4px;\n",
       "    }\n",
       "\n",
       "    [theme=dark] .colab-df-convert {\n",
       "      background-color: #3B4455;\n",
       "      fill: #D2E3FC;\n",
       "    }\n",
       "\n",
       "    [theme=dark] .colab-df-convert:hover {\n",
       "      background-color: #434B5C;\n",
       "      box-shadow: 0px 1px 3px 1px rgba(0, 0, 0, 0.15);\n",
       "      filter: drop-shadow(0px 1px 2px rgba(0, 0, 0, 0.3));\n",
       "      fill: #FFFFFF;\n",
       "    }\n",
       "  </style>\n",
       "\n",
       "    <script>\n",
       "      const buttonEl =\n",
       "        document.querySelector('#df-6e86a729-07b0-4584-af30-03ca1c216c3d button.colab-df-convert');\n",
       "      buttonEl.style.display =\n",
       "        google.colab.kernel.accessAllowed ? 'block' : 'none';\n",
       "\n",
       "      async function convertToInteractive(key) {\n",
       "        const element = document.querySelector('#df-6e86a729-07b0-4584-af30-03ca1c216c3d');\n",
       "        const dataTable =\n",
       "          await google.colab.kernel.invokeFunction('convertToInteractive',\n",
       "                                                    [key], {});\n",
       "        if (!dataTable) return;\n",
       "\n",
       "        const docLinkHtml = 'Like what you see? Visit the ' +\n",
       "          '<a target=\"_blank\" href=https://colab.research.google.com/notebooks/data_table.ipynb>data table notebook</a>'\n",
       "          + ' to learn more about interactive tables.';\n",
       "        element.innerHTML = '';\n",
       "        dataTable['output_type'] = 'display_data';\n",
       "        await google.colab.output.renderOutput(dataTable, element);\n",
       "        const docLink = document.createElement('div');\n",
       "        docLink.innerHTML = docLinkHtml;\n",
       "        element.appendChild(docLink);\n",
       "      }\n",
       "    </script>\n",
       "  </div>\n",
       "\n",
       "\n",
       "<div id=\"df-afc7cee8-f5a1-45ab-a1c1-d7f0e4b66bbc\">\n",
       "  <button class=\"colab-df-quickchart\" onclick=\"quickchart('df-afc7cee8-f5a1-45ab-a1c1-d7f0e4b66bbc')\"\n",
       "            title=\"Suggest charts\"\n",
       "            style=\"display:none;\">\n",
       "\n",
       "<svg xmlns=\"http://www.w3.org/2000/svg\" height=\"24px\"viewBox=\"0 0 24 24\"\n",
       "     width=\"24px\">\n",
       "    <g>\n",
       "        <path d=\"M19 3H5c-1.1 0-2 .9-2 2v14c0 1.1.9 2 2 2h14c1.1 0 2-.9 2-2V5c0-1.1-.9-2-2-2zM9 17H7v-7h2v7zm4 0h-2V7h2v10zm4 0h-2v-4h2v4z\"/>\n",
       "    </g>\n",
       "</svg>\n",
       "  </button>\n",
       "\n",
       "<style>\n",
       "  .colab-df-quickchart {\n",
       "      --bg-color: #E8F0FE;\n",
       "      --fill-color: #1967D2;\n",
       "      --hover-bg-color: #E2EBFA;\n",
       "      --hover-fill-color: #174EA6;\n",
       "      --disabled-fill-color: #AAA;\n",
       "      --disabled-bg-color: #DDD;\n",
       "  }\n",
       "\n",
       "  [theme=dark] .colab-df-quickchart {\n",
       "      --bg-color: #3B4455;\n",
       "      --fill-color: #D2E3FC;\n",
       "      --hover-bg-color: #434B5C;\n",
       "      --hover-fill-color: #FFFFFF;\n",
       "      --disabled-bg-color: #3B4455;\n",
       "      --disabled-fill-color: #666;\n",
       "  }\n",
       "\n",
       "  .colab-df-quickchart {\n",
       "    background-color: var(--bg-color);\n",
       "    border: none;\n",
       "    border-radius: 50%;\n",
       "    cursor: pointer;\n",
       "    display: none;\n",
       "    fill: var(--fill-color);\n",
       "    height: 32px;\n",
       "    padding: 0;\n",
       "    width: 32px;\n",
       "  }\n",
       "\n",
       "  .colab-df-quickchart:hover {\n",
       "    background-color: var(--hover-bg-color);\n",
       "    box-shadow: 0 1px 2px rgba(60, 64, 67, 0.3), 0 1px 3px 1px rgba(60, 64, 67, 0.15);\n",
       "    fill: var(--button-hover-fill-color);\n",
       "  }\n",
       "\n",
       "  .colab-df-quickchart-complete:disabled,\n",
       "  .colab-df-quickchart-complete:disabled:hover {\n",
       "    background-color: var(--disabled-bg-color);\n",
       "    fill: var(--disabled-fill-color);\n",
       "    box-shadow: none;\n",
       "  }\n",
       "\n",
       "  .colab-df-spinner {\n",
       "    border: 2px solid var(--fill-color);\n",
       "    border-color: transparent;\n",
       "    border-bottom-color: var(--fill-color);\n",
       "    animation:\n",
       "      spin 1s steps(1) infinite;\n",
       "  }\n",
       "\n",
       "  @keyframes spin {\n",
       "    0% {\n",
       "      border-color: transparent;\n",
       "      border-bottom-color: var(--fill-color);\n",
       "      border-left-color: var(--fill-color);\n",
       "    }\n",
       "    20% {\n",
       "      border-color: transparent;\n",
       "      border-left-color: var(--fill-color);\n",
       "      border-top-color: var(--fill-color);\n",
       "    }\n",
       "    30% {\n",
       "      border-color: transparent;\n",
       "      border-left-color: var(--fill-color);\n",
       "      border-top-color: var(--fill-color);\n",
       "      border-right-color: var(--fill-color);\n",
       "    }\n",
       "    40% {\n",
       "      border-color: transparent;\n",
       "      border-right-color: var(--fill-color);\n",
       "      border-top-color: var(--fill-color);\n",
       "    }\n",
       "    60% {\n",
       "      border-color: transparent;\n",
       "      border-right-color: var(--fill-color);\n",
       "    }\n",
       "    80% {\n",
       "      border-color: transparent;\n",
       "      border-right-color: var(--fill-color);\n",
       "      border-bottom-color: var(--fill-color);\n",
       "    }\n",
       "    90% {\n",
       "      border-color: transparent;\n",
       "      border-bottom-color: var(--fill-color);\n",
       "    }\n",
       "  }\n",
       "</style>\n",
       "\n",
       "  <script>\n",
       "    async function quickchart(key) {\n",
       "      const quickchartButtonEl =\n",
       "        document.querySelector('#' + key + ' button');\n",
       "      quickchartButtonEl.disabled = true;  // To prevent multiple clicks.\n",
       "      quickchartButtonEl.classList.add('colab-df-spinner');\n",
       "      try {\n",
       "        const charts = await google.colab.kernel.invokeFunction(\n",
       "            'suggestCharts', [key], {});\n",
       "      } catch (error) {\n",
       "        console.error('Error during call to suggestCharts:', error);\n",
       "      }\n",
       "      quickchartButtonEl.classList.remove('colab-df-spinner');\n",
       "      quickchartButtonEl.classList.add('colab-df-quickchart-complete');\n",
       "    }\n",
       "    (() => {\n",
       "      let quickchartButtonEl =\n",
       "        document.querySelector('#df-afc7cee8-f5a1-45ab-a1c1-d7f0e4b66bbc button');\n",
       "      quickchartButtonEl.style.display =\n",
       "        google.colab.kernel.accessAllowed ? 'block' : 'none';\n",
       "    })();\n",
       "  </script>\n",
       "</div>\n",
       "\n",
       "    </div>\n",
       "  </div>\n"
      ],
      "text/plain": [
       "                                         resume_text  \\\n",
       "0  Summary7+ years of experience as a BI develope...   \n",
       "1  Professional BackgroundAnalyst versed in data ...   \n",
       "2  Executive ProfileDedicated professional with t...   \n",
       "3  Summarytyee\\nHighlightsMicrosoft Excel, Word, ...   \n",
       "4  SummaryEIT certified Engineer and ASTQB Certif...   \n",
       "\n",
       "                                job_description_text   label  \n",
       "0  Key Responsibilities:Create intricate wiring n...  No Fit  \n",
       "1  Personal development and becoming the best you...  No Fit  \n",
       "2  Location: Tampa, FL\\nExp: 7-10 Yrs\\nSPOC: Tush...  No Fit  \n",
       "3  Primary Location: Melbourne, Florida\\nV-Soft C...  No Fit  \n",
       "4  At Oregon Specialty Group the Accounting & Pay...  No Fit  "
      ]
     },
     "execution_count": 21,
     "metadata": {},
     "output_type": "execute_result"
    }
   ],
   "source": [
    "test_df.head()"
   ]
  },
  {
   "cell_type": "markdown",
   "id": "jEW6zbTZJE-C",
   "metadata": {
    "id": "jEW6zbTZJE-C"
   },
   "source": [
    "**Applying preprocessing and important info extraction on all resumes and jds in the test set**"
   ]
  },
  {
   "cell_type": "code",
   "execution_count": 22,
   "id": "mEnjW0jhI46n",
   "metadata": {
    "id": "mEnjW0jhI46n"
   },
   "outputs": [],
   "source": [
    "test_df[\"pre_resume\"]= test_df[\"resume_text\"].apply(preprocessing)"
   ]
  },
  {
   "cell_type": "code",
   "execution_count": 25,
   "id": "57vtsURQJlIl",
   "metadata": {
    "id": "57vtsURQJlIl"
   },
   "outputs": [],
   "source": [
    "test_df[\"pre_jd\"]= test_df[\"job_description_text\"].apply(preprocessing)"
   ]
  },
  {
   "cell_type": "markdown",
   "id": "WOgutn3hJxk9",
   "metadata": {
    "id": "WOgutn3hJxk9"
   },
   "source": [
    "**Creating Featuers**"
   ]
  },
  {
   "cell_type": "code",
   "execution_count": 38,
   "id": "s2MWdSTxJlGj",
   "metadata": {
    "id": "s2MWdSTxJlGj"
   },
   "outputs": [],
   "source": [
    "test_df['resume_skills'] = test_df['pre_resume'].apply(get_skills)"
   ]
  },
  {
   "cell_type": "code",
   "execution_count": 39,
   "id": "QdrLAnprJlEi",
   "metadata": {
    "id": "QdrLAnprJlEi"
   },
   "outputs": [],
   "source": [
    "test_df['jd_skills'] = test_df['pre_jd'].apply(get_skills)"
   ]
  },
  {
   "cell_type": "markdown",
   "id": "gl4ub6s8KDwS",
   "metadata": {
    "id": "gl4ub6s8KDwS"
   },
   "source": [
    "**Doing same process for adverbs and adjectives**"
   ]
  },
  {
   "cell_type": "code",
   "execution_count": 43,
   "id": "eki393EmJlCc",
   "metadata": {
    "id": "eki393EmJlCc"
   },
   "outputs": [],
   "source": [
    "test_df['resume_adj'] = test_df['resume_text'].apply(get_adjectives)"
   ]
  },
  {
   "cell_type": "code",
   "execution_count": 44,
   "id": "JdFizZBoJlAW",
   "metadata": {
    "id": "JdFizZBoJlAW"
   },
   "outputs": [],
   "source": [
    "test_df['resume_adv'] = test_df['resume_text'].apply(get_adverbs)"
   ]
  },
  {
   "cell_type": "code",
   "execution_count": 45,
   "id": "7DXW1fhTJk8Q",
   "metadata": {
    "id": "7DXW1fhTJk8Q"
   },
   "outputs": [],
   "source": [
    "test_df['jd_adj']     = test_df['job_description_text'].apply(get_adjectives)"
   ]
  },
  {
   "cell_type": "code",
   "execution_count": 46,
   "id": "omP_2KsPJk6H",
   "metadata": {
    "id": "omP_2KsPJk6H"
   },
   "outputs": [],
   "source": [
    "test_df['jd_adv']     = test_df['job_description_text'].apply(get_adverbs)"
   ]
  },
  {
   "cell_type": "code",
   "execution_count": 47,
   "id": "-LjXZ_rPL8ds",
   "metadata": {
    "colab": {
     "base_uri": "https://localhost:8080/",
     "height": 591
    },
    "id": "-LjXZ_rPL8ds",
    "outputId": "16d052a4-262f-4a7d-f30f-a69e8c5c7de2"
   },
   "outputs": [
    {
     "data": {
      "application/vnd.google.colaboratory.intrinsic+json": {
       "summary": "{\n  \"name\": \"test_df\",\n  \"rows\": 1759,\n  \"fields\": [\n    {\n      \"column\": \"resume_text\",\n      \"properties\": {\n        \"dtype\": \"category\",\n        \"num_unique_values\": 477,\n        \"samples\": [\n          \"SummaryAmbitious, career-focused job seeker, anxious to obtain an entry-level Data Entry position to help launch career while achieving company goals.\\nSkillsInsurance billingPatient paperworkAseptic techniquesTroubleshooting malfunctioning equipmentStocking medicationsDrug inventory controlProper labeling proceduresFilling prescriptionsPoint of sale systems proficiencyPrescription verificationWorkflow OptimizationVerifying ordersOrdering and stocking medicationsStocking shelvesLabeling prescriptionsResolving customer issuesPreparing bulk medicationsScanning and copyingDatabase entryWorkflow efficiencyData entryInbound and Outbound CallingCredit card payment processing\\nExperience08/2022toCurrentMedication Adherence Technician /Data Entry ProcessorCedarbrook Senior Living Management|Rochester,MI,Maintained strict patient confidentiality to adhere to HIPAA regulations and avoid data compromises.Assisted pharmacist with clearing high volume of prescriptions and responded to customer questions.Established and updated patient profiles, medications and insurance details.Processed credit transactionsAdhered to regulatory guidelines for workplace safety and customer confidentiality.Created new customer profiles and updated demographics, allergies and new medications in pharmacy computer systems.Consulted with customers via telephone or in-person to assist with navigating pharmacy systems and completing requests.Prepared pricing and instruction labels for placement on prescriptions.Compiled customer demographic, allergy and medical history background.Completed accurate and efficient data entry and database updates to support business operations.Identified, corrected and reported data entry errors.Compiled data from source documents prior to data entry.Scanned and stored files and records electronically to reduce paper files and secure data.Input client information into spreadsheets and company database to provide leaders with quick access to essential client data.08/2019to08/2022Medication TechnicianAmita Health|Derby,KS,Obtained, recorded and reported patient vital signs for medication administration.Safely and accurately prepared all medications and sterilized products by using proper techniques, calculations and standards of precautions.Reduced errors by hand-counting controlled medications, accurately measuring liquids and reconstituting antibiotics.Looked for physical, emotional and symptomatic changes in patient condition and obtained necessary care for medical concerns.Documented information in patient charts and communicated status updates to interdisciplinary care team.Liaised with nursing staff to prepare and administer prescribed medications to patients.Communicated with patients to determine feelings, need for assistance or social and emotional support.Documented and reported observations of patient behavior, complaints or physical symptoms to nurses.Reminded patients to take prescribed medications or nutritional supplements.SUPD CallsEnrollments09/2011to01/2020Certified Pharmacy TechnicianDavidson's Discount Drugs|City,STATE,Maintained strict patient confidentiality to adhere to HIPAA regulations and avoid data compromises.Managed inventories, rotated stock, removed expired or damaged drug products and resolved discrepancies in drug counts.Assisted pharmacist with clearing high volume of prescriptions and responded to customer questions.Worked with insurance companies to process claims, resolve problems and obtain payments.Established and updated patient profiles, medications and insurance details.Received and verified daily incoming drug inventories, reported discrepancies and logged items into inventory system.Efficiently processed cash register transactions for new and refilled prescription orders.Adhered to regulatory guidelines for workplace safety and customer confidentiality.Verified patients' identities at pickup to prevent sale of wrong medications.Created new customer profiles and updated demographics, allergies and new medications in pharmacy computer systems.Consulted with customers via telephone or in-person to assist with navigating pharmacy systems and completing requests.Supervised inventory levels to maintain adequate supply of medications and medical supplies.Transmitted claims to insurance companies for payment and reconciled EOBs.Received, reviewed, dispensed and labeled numerous prescriptions daily.Prepared pricing and instruction labels for placement on prescriptions.Compiled customer demographic, allergy and medical history background.Adhered to infection control policies and procedures to prevent spread of disease.Maintained clean and organized pharmacy shelving and work areas.Completed and filed patient paperwork, updating records in system with insurance carrier changes and allergy information.\\nEducation and TrainingExpected in07/2010totoIT Program Computer Information Systems|Computer And Information SciencesTennessee Technological University,Livingston, TN,GPA:Expected in05/2010totoHigh School Diploma|Pickett County High School,Byrdstown,TNGPA:3.05 GPAExpected in04/2010totoCertified Nursing Assistant|Nursing AssistanceTennessee Technological University,LIVINGSTON, TN,GPA:Certification lapsedExpected intoto|Health ScienceVolunteer State Community College,Livingston, TN,GPA:\",\n          \"Professional SummaryWith the attitude of learning I am looking for an internship from summer 2017 to gain as much as knowledge as I can and contribute to the organizations success.\\nCore QualificationsC, C++, C#, SQL pl/sqlOperating Systems: Windows, Linux, unixHDL/HVL: Verilog, SystemVerilogScripting Language: Unix Shell Scripting, PERL, Python, TCLSoftware proficiency: Cadence (Layout, Virtuoso, Spectre),  Synopsys(DC Compiler), Modelsim, Questasim, TFS for version controller, Microsoft sql server 2012, Visual studio 2008\\nExperienceSoftware Engineer,12/2015-08/2016Torch Technologies, Inc.\\u2013Corpus Christi,TX,IndiaAnalyze internal processes and recommend and implement procedural changes to improve operations in database.Analyze the requirement and make the necessary changes in the existing modules.Support and maintenance of the specific module.System Engineer,04/2013-12/2015Apex Systems\\u2013Minnetonka,MN,IndiaWorked in SDLC and Agile framework made me flexible in working as and when required Consistent performance and ownership of the task while maintaining of the module in Data ware house project.Interacting with clients (UK United Biscuits, Canada TD bank, ING bank Singapore) during analysis, development & implementation phase gave me a global exposure of interacting with the people across different regions of world.Understanding the requirement of the customers while providing customer support and testing of functional and technical queries, request, requirements and modifications.Conducted training sessions to train juniors for the same technology.Achievements Customer Satisfaction Index for the project increased from 82.7% to 97.8% in the duration of 6 months for the consistent performance and various suggestions and effective solutions being provided for the improvement of the system.Received an appreciation from VP of TD bank Mr.Barkla for a successful delivery of the compliance project within the Time lines.On the spot award\\\" for leading and managing event for the account (TCS).Safety Champion of Women safety initiative in the organization for 2015.I was leading a team of 10-15 people for a year in which I was interacting with various employees in the office, explaining them the significance of ergonomics, suggested exercises and also encouraging them to practice the same.Received All India Mahindra talent scholarship in the year of Aug-2006 for securing 85.73% JRD TATA scholarship in the year of Sept-2009 of for the accomplishment of 84.12% in the diploma.\\nEducationMasters:Electrical & Computer Engineering,Expected inFall 2016-PORTLAND STATE UNIVERSITY-,OregonGPA:Status-Electrical & Computer Engineering 4.0Digital IC and Design(ECE 525) Ahsan\\n*ASIC Design Modelling & Synthesis (ECE581) Xiaoyu Song \\n*Verilog Workshop (ECE 510 )Roy Kravitz.:,Expected in--,GPA:Status-Microprocessor System Design (ECE585) Mark Faust \\n*Embedded Systems Design with FPGAs (ECE544) Hammerstrom\\n*Pre-silicon Functional Verification by Prof. Schubert:,Expected in-Mumbai University-,MHGPA:Status-Bachelor of Engineering:Electronics & Telecommunications,Expected inJuly 2012--,GPA:Status-Electronics & Telecommunications 67/100 Core Subjects: Digital logic design Digital communication Electronics devices and circuits I Analog digital IC design applications Electronics devices and circuits II Simulation of software workshop Microprocessor and micro-controllers I Microprocessor and micro-controllers IIDiploma:Electronics & communications,Expected inJuly 2009-MAHARASHTRA STATE BOARD OF TECHNICAL EDUCATION-Mumbai,MHGPA:Status-Electronics & communications Grade : 84.12/100 Core Subjects: Electronic components and devices Programming in C Digital techniques and microprocessor Micro-controllers Digital communication Embedded systems\\nSkillsAgile, ASIC, C, C++, Cadence, controller, clients, Customer Satisfaction, customer support, database, DC, delivery, Electronics, Embedded Systems, ergonomics, Functional, Layout, Linux, logic, managing, Mark, Microprocessor, C#, office, 97, Windows, Operating Systems, pl/sql, PERL, processes, Programming, Python, requirement, Safety, SDLC, Scripting, Simulation, Microsoft sql server, SQL, System Design, TCL, unix, Unix Shell Scripting, Verilog, Visual studio\",\n          \"SummaryIncredibly motivated professional with a variety of academic and civilian administrative\\nexperience. Possesses analytical, research, and problem solving skills. Detail oriented,\\norganized and able to manage projects to meet deadline requirements. Proficient\\nwritten and oral communication skills with extended experience utilizing various forms\\nof correspondence. Precise judgment and decision-making skills to ensure the client\\u2019s\\nneeds are being met. Effective while working within a group or independently.\\nSkillsProblem SolvingCommunicationCritical ThinkingAnalyticalAttention to DetailMulti-Tasking\\nExperience04/2014toCurrentData AnalystAtlas Executive Consulting\\u2013Washington,DC,Utilized SQL Developer to streamline processes and reports obtained from the Enterprise Data Warehousing (EDW) and Enterprise Resource Planning (ERP) information systems.Responsible for maintaining and updating multiple tables with in the EDW application.Constructed and modified SQL queries to support data reporting initiatives.Reviewed and validated financial statements including, but not limited to balance sheets and statements of revenue, to identify and correct data discrepancies that impact financial reports.Presented project and reporting results to senior management and clients to assess reporting issues and provide solutions.Managed the CORPROD inbox to receive feedback concerning financial reports and queries.Worked closely with Subject Matter Experts (SME's) and Database Administrators (DBA) to provide status updates and technical guidance to run financial and inventory reportsUtilized project management skills to ensure weekly reports and on going project objectives are met.06/2011to04/2014Financial Management AnalystDepartment Of Justice\\u2013Batavia,NY,Budgeted, allocated, and monitored the use of financial resources that support the supply chain and operational strategic plans.Analyzed business requirements to prepare and coordinate various budget proposals and exhibits with clients and Headquarters for submission.Provided guidance to management concerning financial management policies and procedures.Allocated and reallocated funds to the appropriate fund centers to ensure sufficient monies are available when and where needed at the execution level.Analyzed key business indicators including sales, obligations, net operating revenue and cash, and financial statements, to identify variances.Collaborated with multiple departments to articulate budget variances, financial performance, and corrective actions to the supply chain and operational management in order to improve business performance.Received, validated, accepted funding documents and identified the need to create reimbursable internal orders to track costs incurred in ERP systems.Utilized Navy Enterprise Resource Planning system to allocate, execute, and control funds, identify weaknesses within financial areas.Reviewed program manager budget requests to evaluate estimates and requirementsSupervised two Financial Technicians on completing funding documents and other financial matters.03/2009to06/2011Financial Management (Intern)American Advanced Management, Inc\\u2013Coalinga,CA,Developed financial analysis skills including, but not limited to balance sheet reconciliation, components of financial contracts, accounting principles for government entities, and the financial audit process.Assisted with generating and analyzing monthly financial reports and physical inventory.Participated in the yearly forecasting initiatives.Developed and utilized spreadsheets, databases, and other applications to complete assignments.02/2001to08/2004Personnel ClerkUnited States Marine Corp\\u2013City,STATE,Performed personnel and general administrative duties utilizing\\n          manual and automated information systems.Prepared documents,\\n          maintained personnel records, retrieved pay and personnel\\n          information.Developed and maintained working knowledge of the Marine Corps\\n          Total Force System (MCTFS), which encompasses the on-line Diary\\n          System(OLDS),the Unit Diary/Marine Integrated Personnel System\\n          (UD/MIPS).Created entries for individual service records, audited service\\n          records for required entries and documentation, completed various\\n          personnel and pay related forms and documents.Researched proper unit diary entry requirements, entered\\n          transactions into MCTFS via the unit diary, audited and corrected\\n          feedback reports from the MCTFS system, and prepared individual\\n          pond and allotment request.\\nEducation and TrainingExpected in2016totoMaster of Science:Business AdministrationUniversity of Mary Washington-Fredericksburg,VAGPA:3.35/4.00Expected in2008totoBachelor of Arts:Business ManagementCharleston Southern University-Charleston,SCGPA:3.00/4.00\"\n        ],\n        \"semantic_type\": \"\",\n        \"description\": \"\"\n      }\n    },\n    {\n      \"column\": \"job_description_text\",\n      \"properties\": {\n        \"dtype\": \"category\",\n        \"num_unique_values\": 71,\n        \"samples\": [\n          \"Who we are:Founded in 2017, Gatik is the leader in autonomous middle mile logistics. We deliver goods safely and efficiently using medium duty trucks with a focus on short-haul, B2B logistics for Fortune 500 customers such as Walmart and Loblaw. Gatik enables our customers to optimize their hub-and-spoke operations, enhance service levels and product flow across multiple locations while reducing labor costs and meeting an unprecedented expectation for faster deliveries.\\nAbout the role:We are looking for talented Staff Engineers with expertise in classical and modern computer vision techniques to lead or actively contribute to the architecture, design, implementation, and delivery of a multi-modal perception system. The ideal candidate will be a software expert who has overseen a process from the R&D phase through product shipment and has a passion for leading teams and developing real-world solutions.\\nThis role is onsite 4 days a week at our Mountain View, CA office!\\nWhat you'll do:Design and implement key components of perception system such as object detection, object tracking, and multi-sensor fusionBuild software infrastructure to enable learning algorithms to leverage large scale imageLIDAR dataDesign and write highly optimized pipelines for data pre-processing, model training, data post-processing, inferencing etc.Train perception models, evaluate their performance, investigate and fix performance bottlenecksDevelop scalable training and evaluation tools and infrastructureCollaborate with other engineers to conduct system integration and tests\\nWhat we're looking for:Masters or Ph.D. degree in Computer Science, Electrical Engineering, Robotics or related field7+ years of related experience2+ years of professional experience working on Computer Vision using C++ and OpenCVExpert knowledge of modern C++ (C++11 or later) and PythonExperience in deploying perception algorithms into real-world environmentsFamiliar with NVIDIA software libraries such as CUDA or TensorRTExperience building testing and evaluation platformsFamiliarity with deep learning applied to computer vision problemsExperience working on Computer Vision problems in at least two of the following subjects: Feature detection & matching, Image Filtering, Object Tracking, 3D Estimation, 3D Reconstruction, SLAMProficiency in modern container technologies including Docker and KubernetesIn-depth understanding of software performance and optimizationStrong math fundamentals and a good grasp of 3D geometry and vector mathWorked with one or more neural network frameworks, such as Tensorflow or PyTorch\\nMore about Gatik:With headquarters in Mountain View, CA and offices in Canada, Texas, Louisiana and Arkansas, Gatik is establishing new standards of success for the autonomous trucking industry every day. Visit us at Gatik for more company information and Jobs @ Gatik for more open roles.\\nGatik News:The 10 most innovative companies in transportation of 2023Americas Best Startup Employers of 2023 by ForbesAmericas Best Startup Employers of 2022 by ForbesGatik been named as a 2023 FreightTech 25 winner!Gatik named a TIME Best Invention of 2022Apeksha Kumavat recognized on the Inc. 2022 Female Founders 100 ListGatiks Gautam Narang on the importance of knowing your customerGatik CEO Gautam Narang was Named Among the Most Exceptional Entrepreneurs of 2022 by Goldman Sachs\\nTaking care of our team:At Gatik, we connect people of extraordinary talent and experience to an opportunity to create a more resilient supply chain and contribute to our environments sustainability. We are diverse in our backgrounds and perspectives yet united by a bold vision and shared commitment to our values. Our culture emphasizes the importance of collaboration, respect and agility.\\nWe at Gatik strive to create a diverse and inclusive environment where everyone feels they have opportunities to succeed and grow because we know that together we can do great things. We are committed to an inclusive and diverse team. We do not discriminate based on race, color, ethnicity, ancestry, national origin, religion, sex, gender, gender identity, gender expression, sexual orientation, age, disability, veteran status, genetic information, marital status or any legally protected status.\",\n          \"Key Responsibilities:Create intricate wiring networks and electrical subcomponents for both prototype systems and their seamless integration into fuel cell-powered equipment.Conduct comprehensive tests, diagnoses, and repairs at the level of individual components, subsystems, and the overall system.Collaborate on the generation of electrical schematics and detailed bills of materials.Participate in safety assessments to ensure alignment with safety protocols for prototypes and finalized systems.Interface with engineering teams to ensure compliance with product interface requirements.Ensure system longevity and reliability through effective maintenance planning and execution.Regularly calibrate and fine-tune electrical elements to uphold system precision and stability.Occasional travel to customer and partner locations.Fulfill additional responsibilities as assigned by management.\\nRequirements:Demonstrate strong mechanical and electrical acumen along with exceptional teamwork capabilities.Minimum of 5 years of practical experience in electrical technician or related roles.Certified to work on high-voltage systems in accordance with NFPA 70E (or equivalent) training.Proficient verbal communication skills, vital for interactions with manufacturing, engineering, and other teams both directly and through digital channels.Proficiency in fabricating electrical harnesses, cables, and devices based on wire schematics.Skilled at debugging and troubleshooting mechanical and electrical systems.An Associate's or Bachelor's degree in Electrical Engineering is preferred.Exhibit passion for innovation, sustainability, and pushing the boundaries of agricultural technologies.Possess adaptability to excel within a dynamic, fast-paced work environment.\",\n          \"Who We Are\\nInvitation Homes is a fast-paced evolving publicly traded REIT that is pioneering a new industry with over 80,000 single family rental homes and a market capitalization of over $25 billion. We are a team of more than 1,400 associates who come from all walks of life. We call different communities home, but our shared values bind us together. Invitation Homes is a place where possibility lives.\\nTHR Property Management LP  Data Engineer  Dallas, TX: Develop and maintain data pipelines into data warehouse and data lake, including design, and development. Develop and implement strategies to translate business requirements into feasible and acceptable data warehouse and data lake solutions. Architect and build new data models to improve data models that feed business intelligence tools, increasing data accessibility, and fostering data-driven decision making. Design, build and launch data pipelines to move data to data lake and data warehouse build and maintain framework for auditing, error logging, and master data management for data pipelines. Build data expertise and own data quality for the data pipelines. Implement processes and systems to monitor data quality, ensuring production data is always accurate and available for key stakeholders and business processes. Perform data analysis and assist in the resolution of data issues. Identify and resolve defects of complex scope using proper engineering tools and techniques. Provide support and maintain existing products and add new features. Mentor engineers by providing advice, coaching and educational opportunities. Telecommuting permitted from any location within the U.S. Salary: 148512year.\\nThe Senior Data Engineer is accountable for the maintenance, improvement, and movement of data in the Enterprise Data Warehouse, and other data sources used for enterprise reporting. A successful Senior Data Engineer delivers database design, implementation, and schematics that creates sustainable, competitive advantage for our company. Further, a Senior Data Engineer is responsible for the development and deployment of innovative analytics data platforms to support end-user enterprise reporting. Working with other data engineers, data analysts, and data scientists, a Senior Data Engineer must have a delivery first mentality and a firm grasp of Agile Development methodology. Lastly, the ideal candidate must demonstrate the ability to work as a team member and team leader.\\nWhat Youll DoAccountable for the overall performance and maintenance of our SQL Server environments:Manage the EDW relational database for optimized performanceDesign scalable ETL packages from the business source systemsEnsure all necessary testing and validation for all planned and unplanned releasesMentor junior data engineers in best practices and documentation.Act as our database evangelist in leading innovation activities through exploration, benchmarking and implementation of data technologiesParticipate in solution-based activities; articulate your ideas through well thought out documentation and research best-in-class solutionsLead and Develop and implement data architecture standardsManage the necessary testing and validation to ensure proper compliance to data governance and qualityPrepare progress reports regarding our database environments status and healthManage troubleshooting data issues and present solutions to these issues.Resolve tactical issues thoroughly while always looking for optimization and documenting lessons learnedUnderstand when tactical issues are really systematic issues requiring deeper level of analysis and strategic solutionsCooperate with the support team to investigate and resolve data related defectsProactively analyze and evaluate current state of data in order to identify and recommend improvements and optimizationSupport our Agile Development methodologyConstantly prioritize user stories; balance feature development, defects, and tech debt according to business needBe a champion of continuous improvement and delivery; define the minimum viable product, focus teams on key release milestones, and leverage fast follow-up sprintsEnable sprint progress; clarify story details, validate completed stories, and prepare stories for the next sprint\\nWho Were Looking For\\nBachelors degree in Computer Science, Applied Mathematics, Engineering, or any other technology related field. An equivalent of the same in working experience is also accepted for the position.A candidate for the position will have as at least 5 years of working experience as a database engineering or a database engineering administrator within a fast-paced a complex business setting.Design, implement and maintain SQL Server databasesDesign, implement and maintain ETL processes using SQL Server SSISProvide ongoing maintenance support through SQL query tuning and optimizationStrong working and conceptual knowledge of building and maintaining physical and logical data modelsStrong working and conceptual knowledge of reporting and visualization tools such as SSRS, PowerBI, Tableau, or other business intelligence tools.Experience working in SaaS, IaaS, and PaaSExcellent customer service and interpersonal skills; ability to relate to and get along with othersProfessional verbal and written communication skillsStrong organizational and time-management skillsAbility to multi-task and maintain flexibility and creativity in a variety of situationsAbility to analyze and resolve problemsAbility to set and meet goals and consistently meet deadlinesAbility to maintain confidentiality\\nWhy Invitation Homes \\nInvitation Homes Offers The Below To Each New Associate\\nWe stand for flexibility, opportunity, and a home that people can make their own. Its as true for our associates as it is for our residents. Just like we help our residents live freer, we liberate our associates careers, too. Our associates know that at Invitation Homes goals matter, potential is unlocked, and careers thrive. Invitation Homes isnt just a work place it is a possibility place.\\nCompetitive pay and an annual bonus program for all associatesGenerous paid time off plans including vacation accrual, sick time, volunteer time, and standard and floating holidays401k with matching company contributionsAwesome work environment with casual dressTeam events and gatheringsEmployee resource groups: Together with Women, Asian Alliance, Black Collective, Juntos, Gen Next, and Open Invitation.\\nInvitation Homes truly is where possibility lives, pour a new foundation here!\\nSalary Range\\n$98,640.00 - $170,976.00\\nCompensation And Benefits\\nTo attract and retain top talent, we're pleased to offer competitive compensation and benefits, including:\\nAnnual bonus programHealth, dental, vision, and life insuranceLong-term and short-term disability insuranceGenerous paid time off plans include vacation accrual, sick time, standard holidays and floating holidays401(k) with company matching contributionsAwesome work environment with casual dressTeam events and gatherings (Pre- and Post-Covid)\\nInvitation Homes is an equal opportunity employer committed to fostering a diverse, inclusive and innovative environment with the best associates. We are committed to equal employment opportunity regardless of race, color, ancestry, religion, sex, national origin, sexual orientation, age, citizenship, marital status, disability, gender identity, Veteran status or any other factor protected by applicable federal, state or local law. If you have a disability or special need that requires accommodation, please contact us at humanresources@invitationhomes.com.\\nTo all recruitment agencies: Invitation Homes does not accept agency resumes. Please do not forward resumes to Invitation Homes employees. Invitation Homes is not responsible for any fees related to unsolicited resumes.\"\n        ],\n        \"semantic_type\": \"\",\n        \"description\": \"\"\n      }\n    },\n    {\n      \"column\": \"label\",\n      \"properties\": {\n        \"dtype\": \"category\",\n        \"num_unique_values\": 3,\n        \"samples\": [\n          \"No Fit\",\n          \"Potential Fit\",\n          \"Good Fit\"\n        ],\n        \"semantic_type\": \"\",\n        \"description\": \"\"\n      }\n    },\n    {\n      \"column\": \"pre_resume\",\n      \"properties\": {\n        \"dtype\": \"category\",\n        \"num_unique_values\": 477,\n        \"samples\": [\n          \"summaryambitious career focus job seeker anxious obtain entry level data entry position help launch career achieve company goal skillsinsurance billingpatient paperworkaseptic techniquestroubleshooting malfunctioning equipmentstocke medicationsdrug inventory controlprop labeling proceduresfilling prescriptionspoint sale system proficiencyprescription verificationworkflow optimizationverifying ordersordere stocking medicationsstocke shelveslabele prescriptionsresolve customer issuesprepare bulk medicationsscanning copyingdatabase entryworkflow efficiencydata entryinbound outbound callingcredit card payment processing experience08/2022tocurrentmedication adherence technician entry processorcedarbrook senior living management rochester mi maintain strict patient confidentiality adhere hipaa regulation avoid data compromise assisted pharmacist clear high volume prescription respond customer question establish update patient profile medication insurance detail processed credit transactionsadhere regulatory guideline workplace safety customer confidentiality create new customer profile update demographic allergy new medication pharmacy computer system consult customer telephone person assist navigate pharmacy system complete request prepared pricing instruction label placement prescription compile customer demographic allergy medical history background complete accurate efficient datum entry database update support business operation identify correct report data entry error compile datum source document prior data entry scanned store file record electronically reduce paper file secure datum input client information spreadsheet company database provide leader quick access essential client datum 08/2019to08/2022medication technicianamita health derby ks obtain record report patient vital sign medication administration safely accurately prepare medication sterilize product proper technique calculation standard precaution reduce error hand count control medication accurately measure liquid reconstitute antibiotic look physical emotional symptomatic change patient condition obtain necessary care medical concern document information patient chart communicated status update interdisciplinary care team liaise nursing staff prepare administer prescribed medication patient communicate patient determine feeling need assistance social emotional support document report observation patient behavior complaint physical symptom nurse remind patient prescribed medication nutritional supplement supd callsenrollments09/2011to01/2020certified pharmacy techniciandavidson discount drugs city state maintain strict patient confidentiality adhere hipaa regulation avoid data compromise manage inventory rotate stock remove expire damage drug product resolve discrepancy drug count assisted pharmacist clear high volume prescription respond customer question work insurance company process claim resolve problem obtain payment establish update patient profile medication insurance detail receive verify daily incoming drug inventory report discrepancy log item inventory system efficiently process cash register transaction new refilled prescription order adhere regulatory guideline workplace safety customer confidentiality verify patient ' identity pickup prevent sale wrong medication create new customer profile update demographic allergy new medication pharmacy computer system consult customer telephone person assist navigate pharmacy system complete request supervise inventory level maintain adequate supply medication medical supply transmit claim insurance company payment reconcile eob received review dispense label numerous prescription daily prepared pricing instruction label placement prescription compile customer demographic allergy medical history background adhere infection control policy procedure prevent spread disease maintain clean organize pharmacy shelving work area complete file patient paperwork update record system insurance carrier change allergy information education trainingexpected in07/2010totoit program computer information systems computer and information sciencestennessee technological university livingston tn gpa expect in05/2010totohigh school diploma pickett county high school byrdstown tngpa:3 05 gpaexpected in04/2010totocertified nursing assistant nursing assistancetennessee technological university livingston tn gpa certification lapsedexpecte intoto health sciencevolunteer state community college livingston tn gpa\",\n          \"professional summarywith attitude learn i look internship summer 2017 gain knowledge i contribute organization success core qualificationsc c++ c # sql pl sqloperating systems windows linux unixhdl hvl verilog systemverilogscripte language unix shell scripting perl python tclsoftware proficiency cadence layout virtuoso spectre synopsys(dc compiler modelsim questasim tfs version controller microsoft sql server 2012 visual studio 2008 experiencesoftware engineer 12/2015 08/2016torch technologies inc corpus christi tx indiaanalyze internal process recommend implement procedural change improve operation database analyze requirement necessary change exist module support maintenance specific module system engineer 04/2013 12/2015apex systems minnetonka mn indiaworked sdlc agile framework flexible work require consistent performance ownership task maintain module data ware house project interact client uk united biscuits canada td bank ing bank singapore analysis development & implementation phase give global exposure interact people different region world understand requirement customer provide customer support testing functional technical query request requirement modification conduct training session train junior technology achievements customer satisfaction index project increase 82 7 % 97 8 % duration 6 month consistent performance suggestion effective solution provide improvement system receive appreciation vp td bank mr barkla successful delivery compliance project time line on spot award lead managing event account tcs safety champion women safety initiative organization 2015 i lead team 10 15 people year i interact employee office explain significance ergonomic suggest exercise encourage practice receive all india mahindra talent scholarship year aug 2006 secure 85 73 % jrd tata scholarship year sept 2009 accomplishment 84 12 % diploma educationmasters electrical & computer engineering expect infall 2016 portland state university oregongpa status electrical & computer engineering 4 0digital ic design(ece 525 ahsan asic design modelling & synthesis ece581 xiaoyu song * verilog workshop ece 510 roy kravitz expect gpa status microprocessor system design ece585 mark faust embedded systems design fpgas ece544 hammerstrom pre silicon functional verification prof schubert expect mumbai university mhgpa status bachelor engineering electronics & telecommunications expect injuly 2012 gpa status electronics & telecommunications 67/100 core subject digital logic design digital communication electronics device circuit i analog digital ic design application electronics device circuit ii simulation software workshop microprocessor micro controller i microprocessor micro controller iidiploma electronics & communication expect injuly 2009 maharashtra state board of technical education mumbai mhgpa status electronics & communication grade 84 12/100 core subject electronic component device programming c digital technique microprocessor micro controller digital communication embed system skillsagile asic c c++ cadence controller client customer satisfaction customer support database dc delivery electronics embedded systems ergonomic functional layout linux logic manage mark microprocessor c # office 97 windows operating systems pl sql perl process programming python requirement safety sdlc scripting simulation microsoft sql server sql system design tcl unix unix shell scripting verilog visual studio\",\n          \"summaryincredibly motivate professional variety academic civilian administrative experience possess analytical research problem solve skill detail orient organize able manage project meet deadline requirement proficient write oral communication skill extended experience utilize form correspondence precise judgment decision make skill ensure client need meet effective work group independently skillsproblem solvingcommunicationcritical thinkinganalyticalattention detailmulti tasking experience04/2014tocurrentdata analystatlas executive consulting washington dc utilize sql developer streamline process report obtain enterprise data warehousing edw enterprise resource planning erp information system responsible maintain update multiple table edw application construct modify sql query support datum report initiative review validate financial statement include limit balance sheet statement revenue identify correct datum discrepancy impact financial report present project report result senior management client assess reporting issue provide solution manage corprod inbox receive feedback concern financial report query work closely subject matter experts sme database administrators dba provide status update technical guidance run financial inventory reportsutilize project management skill ensure weekly report go project objective meet 06/2011to04/2014financial management analystdepartment of justice batavia ny budgeted allocate monitor use financial resource support supply chain operational strategic plan analyze business requirement prepare coordinate budget proposal exhibit client headquarters submission provide guidance management concern financial management policy procedure allocate reallocate fund appropriate fund center ensure sufficient monie available need execution level analyze key business indicator include sale obligation net operating revenue cash financial statement identify variance collaborate multiple department articulate budget variance financial performance corrective action supply chain operational management order improve business performance receive validate accept funding document identify need create reimbursable internal order track cost incur erp system utilize navy enterprise resource planning system allocate execute control fund identify weakness financial area review program manager budget request evaluate estimate requirementssupervise financial technicians complete funding document financial matter 03/2009to06/2011financial management intern)american advanced management inc coalinga ca develop financial analysis skill include limit balance sheet reconciliation component financial contract accounting principle government entity financial audit process assist generate analyze monthly financial report physical inventory participate yearly forecasting initiative develop utilize spreadsheet database application complete assignment clerkunited states marine corp city state performed personnel general administrative duty utilize manual automate information system prepared document maintain personnel record retrieve pay personnel information develop maintain work knowledge marine corps total force system mctfs encompass line diary system(olds unit diary marine integrated personnel system ud mips create entry individual service record audit service record require entry documentation complete personnel pay relate form document research proper unit diary entry requirement enter transaction mctfs unit diary audit correct feedback report mctfs system prepared individual pond allotment request education trainingexpected in2016totomaster science business administrationuniversity mary washington fredericksburg vagpa:3 35/4 00expecte in2008totobachelor art business managementcharleston southern university charleston scgpa:3 00/4\"\n        ],\n        \"semantic_type\": \"\",\n        \"description\": \"\"\n      }\n    },\n    {\n      \"column\": \"pre_jd\",\n      \"properties\": {\n        \"dtype\": \"category\",\n        \"num_unique_values\": 71,\n        \"samples\": [\n          \"who found 2017 gatik leader autonomous middle mile logistic we deliver good safely efficiently medium duty truck focus short haul b2b logistic fortune 500 customer walmart loblaw gatik enable customer optimize hub speak operation enhance service level product flow multiple location reduce labor cost meet unprecedented expectation fast delivery about role we look talented staff engineers expertise classical modern computer vision technique lead actively contribute architecture design implementation delivery multi modal perception system the ideal candidate software expert oversee process r&d phase product shipment passion lead team develop real world solution this role onsite 4 day week mountain view ca office what design implement key component perception system object detection object tracking multi sensor fusionbuild software infrastructure enable learn algorithm leverage large scale imagelidar datadesign write highly optimize pipeline datum pre processing model training datum post processing inference etc train perception model evaluate performance investigate fix performance bottlenecksdevelop scalable training evaluation tool infrastructurecollaborate engineer conduct system integration test what look masters ph d degree computer science electrical engineering robotic relate field7 + year related experience2 + year professional experience work computer vision c++ opencvexpert knowledge modern c++ c++11 later pythonexperience deploy perception algorithm real world environmentsfamiliar nvidia software librarie cuda tensorrtexperience building testing evaluation platformsfamiliarity deep learning apply computer vision problemsexperience work computer vision problem follow subject feature detection & match image filtering object tracking 3d estimation 3d reconstruction slamproficiency modern container technology include docker kubernetesin depth understanding software performance optimizationstrong math fundamental good grasp 3d geometry vector mathworke neural network framework tensorflow pytorch more gatik with headquarters mountain view ca office canada texas louisiana arkansas gatik establish new standard success autonomous trucking industry day visit gatik company information jobs @ gatik open role gatik news the 10 innovative company transportation 2023americas best startup employer 2023 forbesamericas best startup employers 2022 forbesgatik name 2023 freighttech 25 winner!gatik name time best invention 2022apeksha kumavat recognize inc 2022 female founders 100 listgatiks gautam narang importance know customergatik ceo gautam narang name among most exceptional entrepreneurs 2022 goldman sachs taking care team at gatik connect people extraordinary talent experience opportunity create resilient supply chain contribute environment sustainability we diverse background perspective unite bold vision share commitment value our culture emphasize importance collaboration respect agility we gatik strive create diverse inclusive environment feel opportunity succeed grow know great thing we committed inclusive diverse team we discriminate base race color ethnicity ancestry national origin religion sex gender gender identity gender expression sexual orientation age disability veteran status genetic information marital status legally protect status\",\n          \"key responsibility create intricate wiring network electrical subcomponent prototype system seamless integration fuel cell power equipment conduct comprehensive test diagnosis repair level individual component subsystem overall system collaborate generation electrical schematic detailed bill material participate safety assessment ensure alignment safety protocol prototype finalize system interface engineering team ensure compliance product interface requirement ensure system longevity reliability effective maintenance planning execution regularly calibrate fine tune electrical element uphold system precision stability occasional travel customer partner location fulfill additional responsibility assign management requirement demonstrate strong mechanical electrical acuman exceptional teamwork capability minimum 5 year practical experience electrical technician related role certify work high voltage system accordance nfpa 70e equivalent train proficient verbal communication skill vital interaction manufacturing engineering team directly digital channel proficiency fabricate electrical harness cable device base wire schematic skille debug troubleshoot mechanical electrical system an associate bachelor degree electrical engineering prefer exhibit passion innovation sustainability push boundary agricultural technology possess adaptability excel dynamic fast pace work environment\",\n          \"who we be invitation homes fast paced evolve publicly trade reit pioneer new industry 80 000 single family rental home market capitalization 25 billion we team 1 400 associate come walk life we different community home share value bind invitation homes place possibility live thr property management lp data engineer dallas tx develop maintain data pipeline datum warehouse datum lake include design development develop implement strategy translate business requirement feasible acceptable data warehouse datum lake solution architect build new datum model improve data model feed business intelligence tool increase data accessibility foster datum drive decision make design build launch datum pipeline datum datum lake datum warehouse build maintain framework audit error log master datum management datum pipeline build datum expertise datum quality datum pipeline implement process system monitor data quality ensure production datum accurate available key stakeholder business process perform datum analysis assist resolution data issue identify resolve defect complex scope proper engineering tool technique provide support maintain exist product add new feature mentor engineer provide advice coaching educational opportunity telecommuting permit location u s salary 148512year the senior data engineer accountable maintenance improvement movement datum enterprise data warehouse datum source enterprise report a successful senior data engineer deliver database design implementation schematic create sustainable competitive advantage company further senior data engineer responsible development deployment innovative analytic datum platform support end user enterprise report working datum engineer data analyst datum scientist senior data engineer delivery mentality firm grasp agile development methodology lastly ideal candidate demonstrate ability work team member team leader what you ll doaccountable overall performance maintenance sql server environment manage edw relational database optimize performancedesign scalable etl package business source systemsensure necessary testing validation plan unplanne releasesmentor junior datum engineer good practice documentation act database evangelist lead innovation activity exploration benchmarking implementation datum technologiesparticipate solution base activity articulate idea think documentation research good class solutionslead develop implement data architecture standardsmanage necessary testing validation ensure proper compliance data governance qualityprepare progress report database environment status healthmanage troubleshoot data issue present solution issue resolve tactical issue thoroughly look optimization documenting lesson learnedunderstand tactical issue systematic issue require deep level analysis strategic solutionscooperate support team investigate resolve datum relate defectsproactively analyze evaluate current state datum order identify recommend improvement optimizationsupport agile development methodologyconstantly prioritize user story balance feature development defect tech debt accord business needbe champion continuous improvement delivery define minimum viable product focus team key release milestone leverage fast follow sprintsenable sprint progress clarify story detail validate complete story prepare story sprint who be look for bachelors degree computer science applied mathematics engineering technology relate field an equivalent working experience accept position a candidate position 5 year working experience database engineering database engineering administrator fast pace complex business set design implement maintain sql server databasesdesign implement maintain etl process sql server ssisprovide ongoing maintenance support sql query tuning optimizationstrong work conceptual knowledge build maintain physical logical datum modelsstrong work conceptual knowledge reporting visualization tool ssrs powerbi tableau business intelligence tool experience work saas iaas paasexcellent customer service interpersonal skill ability relate othersprofessional verbal write communication skillsstrong organizational time management skillsability multi task maintain flexibility creativity variety situationsability analyze resolve problemsability set meet goal consistently meet deadlinesability maintain confidentiality why invitation homes invitation homes offer the below to each new associate we stand flexibility opportunity home people its true associate resident just like help resident live free liberate associate career our associate know invitation homes goal matter potential unlocked career thrive invitation homes not work place possibility place competitive pay annual bonus program associatesgenerous pay time plan include vacation accrual sick time volunteer time standard float holidays401k match company contributionsawesome work environment casual dressteam event gatheringsemployee resource group together women asian alliance black collective juntos gen next open invitation invitation homes truly possibility live pour new foundation salary range 98 640 00 170 976 00 compensation and benefit to attract retain talent pleased offer competitive compensation benefit include annual bonus programhealth dental vision life insurancelong term short term disability insurancegenerous pay time plan include vacation accrual sick time standard holiday float holidays401(k company match contributionsawesome work environment casual dressteam event gathering pre post covid invitation homes equal opportunity employer commit foster diverse inclusive innovative environment good associate we committed equal employment opportunity regardless race color ancestry religion sex national origin sexual orientation age citizenship marital status disability gender identity veteran status factor protect applicable federal state local law if disability special need require accommodation contact humanresources@invitationhome com to recruitment agency invitation homes accept agency resume please forward resume invitation homes employee invitation homes responsible fee relate unsolicited resume\"\n        ],\n        \"semantic_type\": \"\",\n        \"description\": \"\"\n      }\n    },\n    {\n      \"column\": \"resume_skills\",\n      \"properties\": {\n        \"dtype\": \"object\",\n        \"semantic_type\": \"\",\n        \"description\": \"\"\n      }\n    },\n    {\n      \"column\": \"jd_skills\",\n      \"properties\": {\n        \"dtype\": \"object\",\n        \"semantic_type\": \"\",\n        \"description\": \"\"\n      }\n    },\n    {\n      \"column\": \"resume_adj\",\n      \"properties\": {\n        \"dtype\": \"object\",\n        \"semantic_type\": \"\",\n        \"description\": \"\"\n      }\n    },\n    {\n      \"column\": \"resume_adv\",\n      \"properties\": {\n        \"dtype\": \"object\",\n        \"semantic_type\": \"\",\n        \"description\": \"\"\n      }\n    },\n    {\n      \"column\": \"jd_adj\",\n      \"properties\": {\n        \"dtype\": \"object\",\n        \"semantic_type\": \"\",\n        \"description\": \"\"\n      }\n    },\n    {\n      \"column\": \"jd_adv\",\n      \"properties\": {\n        \"dtype\": \"object\",\n        \"semantic_type\": \"\",\n        \"description\": \"\"\n      }\n    }\n  ]\n}",
       "type": "dataframe",
       "variable_name": "test_df"
      },
      "text/html": [
       "\n",
       "  <div id=\"df-78ff22a4-4ddd-4a16-be1d-c6dee7c8e86c\" class=\"colab-df-container\">\n",
       "    <div>\n",
       "<style scoped>\n",
       "    .dataframe tbody tr th:only-of-type {\n",
       "        vertical-align: middle;\n",
       "    }\n",
       "\n",
       "    .dataframe tbody tr th {\n",
       "        vertical-align: top;\n",
       "    }\n",
       "\n",
       "    .dataframe thead th {\n",
       "        text-align: right;\n",
       "    }\n",
       "</style>\n",
       "<table border=\"1\" class=\"dataframe\">\n",
       "  <thead>\n",
       "    <tr style=\"text-align: right;\">\n",
       "      <th></th>\n",
       "      <th>resume_text</th>\n",
       "      <th>job_description_text</th>\n",
       "      <th>label</th>\n",
       "      <th>pre_resume</th>\n",
       "      <th>pre_jd</th>\n",
       "      <th>resume_skills</th>\n",
       "      <th>jd_skills</th>\n",
       "      <th>resume_adj</th>\n",
       "      <th>resume_adv</th>\n",
       "      <th>jd_adj</th>\n",
       "      <th>jd_adv</th>\n",
       "    </tr>\n",
       "  </thead>\n",
       "  <tbody>\n",
       "    <tr>\n",
       "      <th>0</th>\n",
       "      <td>Summary7+ years of experience as a BI develope...</td>\n",
       "      <td>Key Responsibilities:Create intricate wiring n...</td>\n",
       "      <td>No Fit</td>\n",
       "      <td>summary7 + year experience bi developer prove ...</td>\n",
       "      <td>key responsibility create intricate wiring net...</td>\n",
       "      <td>[testing, analytics, query optimization, data ...</td>\n",
       "      <td>[component, interaction, manufacturing enginee...</td>\n",
       "      <td>[related, valuable, various, dynamic, agile, i...</td>\n",
       "      <td>[primarily, also, also, most, high]</td>\n",
       "      <td>[intricate, electrical, seamless, comprehensiv...</td>\n",
       "      <td>[regularly, directly, fast]</td>\n",
       "    </tr>\n",
       "    <tr>\n",
       "      <th>1</th>\n",
       "      <td>Professional BackgroundAnalyst versed in data ...</td>\n",
       "      <td>Personal development and becoming the best you...</td>\n",
       "      <td>No Fit</td>\n",
       "      <td>professional backgroundanalyst verse data anal...</td>\n",
       "      <td>personal development good growth explore new s...</td>\n",
       "      <td>[testing, business, crystal, server, data anal...</td>\n",
       "      <td>[software, testing, business, engineering, des...</td>\n",
       "      <td>[complex, high, actuarial, other, analytic, di...</td>\n",
       "      <td>[as, well, effectively, daily, weekly, daily]</td>\n",
       "      <td>[personal, good, new, necessary, personal, pro...</td>\n",
       "      <td>[all, ever, highly, directly, fully, consisten...</td>\n",
       "    </tr>\n",
       "    <tr>\n",
       "      <th>2</th>\n",
       "      <td>Executive ProfileDedicated professional with t...</td>\n",
       "      <td>Location: Tampa, FL\\nExp: 7-10 Yrs\\nSPOC: Tush...</td>\n",
       "      <td>No Fit</td>\n",
       "      <td>executive profilededicated professional accomp...</td>\n",
       "      <td>location tampa fl exp 7 10 yrs spoc tushar ksh...</td>\n",
       "      <td>[business, play, accounting, compliance, resea...</td>\n",
       "      <td>[javascript, component, business, certificatio...</td>\n",
       "      <td>[professional, accomplished, organizational, m...</td>\n",
       "      <td>[independently, successfully, extensively, sol...</td>\n",
       "      <td>[angular, global, digital, digital, digital, m...</td>\n",
       "      <td>[above, nearly, most, above, quickly, above, s...</td>\n",
       "    </tr>\n",
       "    <tr>\n",
       "      <th>3</th>\n",
       "      <td>Summarytyee\\nHighlightsMicrosoft Excel, Word, ...</td>\n",
       "      <td>Primary Location: Melbourne, Florida\\nV-Soft C...</td>\n",
       "      <td>No Fit</td>\n",
       "      <td>summarytyee highlightsmicrosoft excel word out...</td>\n",
       "      <td>primary location melbourne florida v soft cons...</td>\n",
       "      <td>[business, box, analytics, documentation, mark...</td>\n",
       "      <td>[testing, software engineering, engineering, c...</td>\n",
       "      <td>[daily, weekly, monthly, previous, monthly, mo...</td>\n",
       "      <td>[daily]</td>\n",
       "      <td>[related, experienced, cloud, native, driven, ...</td>\n",
       "      <td>[currently, effectively, well, frequently, exc...</td>\n",
       "    </tr>\n",
       "    <tr>\n",
       "      <th>4</th>\n",
       "      <td>SummaryEIT certified Engineer and ASTQB Certif...</td>\n",
       "      <td>At Oregon Specialty Group the Accounting &amp; Pay...</td>\n",
       "      <td>No Fit</td>\n",
       "      <td>summaryeit certify engineer astqb certified qa...</td>\n",
       "      <td>at oregon specialty group accounting &amp; payroll...</td>\n",
       "      <td>[testing, engineering, library, software, crys...</td>\n",
       "      <td>[software, business, accounting, compliance, d...</td>\n",
       "      <td>[extensive, different, thorough, professional,...</td>\n",
       "      <td>[highly, successfully, highly, daily, effectiv...</td>\n",
       "      <td>[crucial, internal, financial, applicable, acc...</td>\n",
       "      <td>[currently, also, generally, especially]</td>\n",
       "    </tr>\n",
       "  </tbody>\n",
       "</table>\n",
       "</div>\n",
       "    <div class=\"colab-df-buttons\">\n",
       "\n",
       "  <div class=\"colab-df-container\">\n",
       "    <button class=\"colab-df-convert\" onclick=\"convertToInteractive('df-78ff22a4-4ddd-4a16-be1d-c6dee7c8e86c')\"\n",
       "            title=\"Convert this dataframe to an interactive table.\"\n",
       "            style=\"display:none;\">\n",
       "\n",
       "  <svg xmlns=\"http://www.w3.org/2000/svg\" height=\"24px\" viewBox=\"0 -960 960 960\">\n",
       "    <path d=\"M120-120v-720h720v720H120Zm60-500h600v-160H180v160Zm220 220h160v-160H400v160Zm0 220h160v-160H400v160ZM180-400h160v-160H180v160Zm440 0h160v-160H620v160ZM180-180h160v-160H180v160Zm440 0h160v-160H620v160Z\"/>\n",
       "  </svg>\n",
       "    </button>\n",
       "\n",
       "  <style>\n",
       "    .colab-df-container {\n",
       "      display:flex;\n",
       "      gap: 12px;\n",
       "    }\n",
       "\n",
       "    .colab-df-convert {\n",
       "      background-color: #E8F0FE;\n",
       "      border: none;\n",
       "      border-radius: 50%;\n",
       "      cursor: pointer;\n",
       "      display: none;\n",
       "      fill: #1967D2;\n",
       "      height: 32px;\n",
       "      padding: 0 0 0 0;\n",
       "      width: 32px;\n",
       "    }\n",
       "\n",
       "    .colab-df-convert:hover {\n",
       "      background-color: #E2EBFA;\n",
       "      box-shadow: 0px 1px 2px rgba(60, 64, 67, 0.3), 0px 1px 3px 1px rgba(60, 64, 67, 0.15);\n",
       "      fill: #174EA6;\n",
       "    }\n",
       "\n",
       "    .colab-df-buttons div {\n",
       "      margin-bottom: 4px;\n",
       "    }\n",
       "\n",
       "    [theme=dark] .colab-df-convert {\n",
       "      background-color: #3B4455;\n",
       "      fill: #D2E3FC;\n",
       "    }\n",
       "\n",
       "    [theme=dark] .colab-df-convert:hover {\n",
       "      background-color: #434B5C;\n",
       "      box-shadow: 0px 1px 3px 1px rgba(0, 0, 0, 0.15);\n",
       "      filter: drop-shadow(0px 1px 2px rgba(0, 0, 0, 0.3));\n",
       "      fill: #FFFFFF;\n",
       "    }\n",
       "  </style>\n",
       "\n",
       "    <script>\n",
       "      const buttonEl =\n",
       "        document.querySelector('#df-78ff22a4-4ddd-4a16-be1d-c6dee7c8e86c button.colab-df-convert');\n",
       "      buttonEl.style.display =\n",
       "        google.colab.kernel.accessAllowed ? 'block' : 'none';\n",
       "\n",
       "      async function convertToInteractive(key) {\n",
       "        const element = document.querySelector('#df-78ff22a4-4ddd-4a16-be1d-c6dee7c8e86c');\n",
       "        const dataTable =\n",
       "          await google.colab.kernel.invokeFunction('convertToInteractive',\n",
       "                                                    [key], {});\n",
       "        if (!dataTable) return;\n",
       "\n",
       "        const docLinkHtml = 'Like what you see? Visit the ' +\n",
       "          '<a target=\"_blank\" href=https://colab.research.google.com/notebooks/data_table.ipynb>data table notebook</a>'\n",
       "          + ' to learn more about interactive tables.';\n",
       "        element.innerHTML = '';\n",
       "        dataTable['output_type'] = 'display_data';\n",
       "        await google.colab.output.renderOutput(dataTable, element);\n",
       "        const docLink = document.createElement('div');\n",
       "        docLink.innerHTML = docLinkHtml;\n",
       "        element.appendChild(docLink);\n",
       "      }\n",
       "    </script>\n",
       "  </div>\n",
       "\n",
       "\n",
       "<div id=\"df-c509b145-0018-4267-8ce8-93a4099e1c08\">\n",
       "  <button class=\"colab-df-quickchart\" onclick=\"quickchart('df-c509b145-0018-4267-8ce8-93a4099e1c08')\"\n",
       "            title=\"Suggest charts\"\n",
       "            style=\"display:none;\">\n",
       "\n",
       "<svg xmlns=\"http://www.w3.org/2000/svg\" height=\"24px\"viewBox=\"0 0 24 24\"\n",
       "     width=\"24px\">\n",
       "    <g>\n",
       "        <path d=\"M19 3H5c-1.1 0-2 .9-2 2v14c0 1.1.9 2 2 2h14c1.1 0 2-.9 2-2V5c0-1.1-.9-2-2-2zM9 17H7v-7h2v7zm4 0h-2V7h2v10zm4 0h-2v-4h2v4z\"/>\n",
       "    </g>\n",
       "</svg>\n",
       "  </button>\n",
       "\n",
       "<style>\n",
       "  .colab-df-quickchart {\n",
       "      --bg-color: #E8F0FE;\n",
       "      --fill-color: #1967D2;\n",
       "      --hover-bg-color: #E2EBFA;\n",
       "      --hover-fill-color: #174EA6;\n",
       "      --disabled-fill-color: #AAA;\n",
       "      --disabled-bg-color: #DDD;\n",
       "  }\n",
       "\n",
       "  [theme=dark] .colab-df-quickchart {\n",
       "      --bg-color: #3B4455;\n",
       "      --fill-color: #D2E3FC;\n",
       "      --hover-bg-color: #434B5C;\n",
       "      --hover-fill-color: #FFFFFF;\n",
       "      --disabled-bg-color: #3B4455;\n",
       "      --disabled-fill-color: #666;\n",
       "  }\n",
       "\n",
       "  .colab-df-quickchart {\n",
       "    background-color: var(--bg-color);\n",
       "    border: none;\n",
       "    border-radius: 50%;\n",
       "    cursor: pointer;\n",
       "    display: none;\n",
       "    fill: var(--fill-color);\n",
       "    height: 32px;\n",
       "    padding: 0;\n",
       "    width: 32px;\n",
       "  }\n",
       "\n",
       "  .colab-df-quickchart:hover {\n",
       "    background-color: var(--hover-bg-color);\n",
       "    box-shadow: 0 1px 2px rgba(60, 64, 67, 0.3), 0 1px 3px 1px rgba(60, 64, 67, 0.15);\n",
       "    fill: var(--button-hover-fill-color);\n",
       "  }\n",
       "\n",
       "  .colab-df-quickchart-complete:disabled,\n",
       "  .colab-df-quickchart-complete:disabled:hover {\n",
       "    background-color: var(--disabled-bg-color);\n",
       "    fill: var(--disabled-fill-color);\n",
       "    box-shadow: none;\n",
       "  }\n",
       "\n",
       "  .colab-df-spinner {\n",
       "    border: 2px solid var(--fill-color);\n",
       "    border-color: transparent;\n",
       "    border-bottom-color: var(--fill-color);\n",
       "    animation:\n",
       "      spin 1s steps(1) infinite;\n",
       "  }\n",
       "\n",
       "  @keyframes spin {\n",
       "    0% {\n",
       "      border-color: transparent;\n",
       "      border-bottom-color: var(--fill-color);\n",
       "      border-left-color: var(--fill-color);\n",
       "    }\n",
       "    20% {\n",
       "      border-color: transparent;\n",
       "      border-left-color: var(--fill-color);\n",
       "      border-top-color: var(--fill-color);\n",
       "    }\n",
       "    30% {\n",
       "      border-color: transparent;\n",
       "      border-left-color: var(--fill-color);\n",
       "      border-top-color: var(--fill-color);\n",
       "      border-right-color: var(--fill-color);\n",
       "    }\n",
       "    40% {\n",
       "      border-color: transparent;\n",
       "      border-right-color: var(--fill-color);\n",
       "      border-top-color: var(--fill-color);\n",
       "    }\n",
       "    60% {\n",
       "      border-color: transparent;\n",
       "      border-right-color: var(--fill-color);\n",
       "    }\n",
       "    80% {\n",
       "      border-color: transparent;\n",
       "      border-right-color: var(--fill-color);\n",
       "      border-bottom-color: var(--fill-color);\n",
       "    }\n",
       "    90% {\n",
       "      border-color: transparent;\n",
       "      border-bottom-color: var(--fill-color);\n",
       "    }\n",
       "  }\n",
       "</style>\n",
       "\n",
       "  <script>\n",
       "    async function quickchart(key) {\n",
       "      const quickchartButtonEl =\n",
       "        document.querySelector('#' + key + ' button');\n",
       "      quickchartButtonEl.disabled = true;  // To prevent multiple clicks.\n",
       "      quickchartButtonEl.classList.add('colab-df-spinner');\n",
       "      try {\n",
       "        const charts = await google.colab.kernel.invokeFunction(\n",
       "            'suggestCharts', [key], {});\n",
       "      } catch (error) {\n",
       "        console.error('Error during call to suggestCharts:', error);\n",
       "      }\n",
       "      quickchartButtonEl.classList.remove('colab-df-spinner');\n",
       "      quickchartButtonEl.classList.add('colab-df-quickchart-complete');\n",
       "    }\n",
       "    (() => {\n",
       "      let quickchartButtonEl =\n",
       "        document.querySelector('#df-c509b145-0018-4267-8ce8-93a4099e1c08 button');\n",
       "      quickchartButtonEl.style.display =\n",
       "        google.colab.kernel.accessAllowed ? 'block' : 'none';\n",
       "    })();\n",
       "  </script>\n",
       "</div>\n",
       "\n",
       "    </div>\n",
       "  </div>\n"
      ],
      "text/plain": [
       "                                         resume_text  \\\n",
       "0  Summary7+ years of experience as a BI develope...   \n",
       "1  Professional BackgroundAnalyst versed in data ...   \n",
       "2  Executive ProfileDedicated professional with t...   \n",
       "3  Summarytyee\\nHighlightsMicrosoft Excel, Word, ...   \n",
       "4  SummaryEIT certified Engineer and ASTQB Certif...   \n",
       "\n",
       "                                job_description_text   label  \\\n",
       "0  Key Responsibilities:Create intricate wiring n...  No Fit   \n",
       "1  Personal development and becoming the best you...  No Fit   \n",
       "2  Location: Tampa, FL\\nExp: 7-10 Yrs\\nSPOC: Tush...  No Fit   \n",
       "3  Primary Location: Melbourne, Florida\\nV-Soft C...  No Fit   \n",
       "4  At Oregon Specialty Group the Accounting & Pay...  No Fit   \n",
       "\n",
       "                                          pre_resume  \\\n",
       "0  summary7 + year experience bi developer prove ...   \n",
       "1  professional backgroundanalyst verse data anal...   \n",
       "2  executive profilededicated professional accomp...   \n",
       "3  summarytyee highlightsmicrosoft excel word out...   \n",
       "4  summaryeit certify engineer astqb certified qa...   \n",
       "\n",
       "                                              pre_jd  \\\n",
       "0  key responsibility create intricate wiring net...   \n",
       "1  personal development good growth explore new s...   \n",
       "2  location tampa fl exp 7 10 yrs spoc tushar ksh...   \n",
       "3  primary location melbourne florida v soft cons...   \n",
       "4  at oregon specialty group accounting & payroll...   \n",
       "\n",
       "                                       resume_skills  \\\n",
       "0  [testing, analytics, query optimization, data ...   \n",
       "1  [testing, business, crystal, server, data anal...   \n",
       "2  [business, play, accounting, compliance, resea...   \n",
       "3  [business, box, analytics, documentation, mark...   \n",
       "4  [testing, engineering, library, software, crys...   \n",
       "\n",
       "                                           jd_skills  \\\n",
       "0  [component, interaction, manufacturing enginee...   \n",
       "1  [software, testing, business, engineering, des...   \n",
       "2  [javascript, component, business, certificatio...   \n",
       "3  [testing, software engineering, engineering, c...   \n",
       "4  [software, business, accounting, compliance, d...   \n",
       "\n",
       "                                          resume_adj  \\\n",
       "0  [related, valuable, various, dynamic, agile, i...   \n",
       "1  [complex, high, actuarial, other, analytic, di...   \n",
       "2  [professional, accomplished, organizational, m...   \n",
       "3  [daily, weekly, monthly, previous, monthly, mo...   \n",
       "4  [extensive, different, thorough, professional,...   \n",
       "\n",
       "                                          resume_adv  \\\n",
       "0                [primarily, also, also, most, high]   \n",
       "1      [as, well, effectively, daily, weekly, daily]   \n",
       "2  [independently, successfully, extensively, sol...   \n",
       "3                                            [daily]   \n",
       "4  [highly, successfully, highly, daily, effectiv...   \n",
       "\n",
       "                                              jd_adj  \\\n",
       "0  [intricate, electrical, seamless, comprehensiv...   \n",
       "1  [personal, good, new, necessary, personal, pro...   \n",
       "2  [angular, global, digital, digital, digital, m...   \n",
       "3  [related, experienced, cloud, native, driven, ...   \n",
       "4  [crucial, internal, financial, applicable, acc...   \n",
       "\n",
       "                                              jd_adv  \n",
       "0                        [regularly, directly, fast]  \n",
       "1  [all, ever, highly, directly, fully, consisten...  \n",
       "2  [above, nearly, most, above, quickly, above, s...  \n",
       "3  [currently, effectively, well, frequently, exc...  \n",
       "4           [currently, also, generally, especially]  "
      ]
     },
     "execution_count": 47,
     "metadata": {},
     "output_type": "execute_result"
    }
   ],
   "source": [
    "test_df.head()"
   ]
  },
  {
   "cell_type": "markdown",
   "id": "WFD7N-mrLzEx",
   "metadata": {
    "id": "WFD7N-mrLzEx"
   },
   "source": [
    "**Saving the dataset so we dont have to do these things again**"
   ]
  },
  {
   "cell_type": "code",
   "execution_count": 65,
   "id": "TidqCRyBKL8f",
   "metadata": {
    "colab": {
     "base_uri": "https://localhost:8080/"
    },
    "id": "TidqCRyBKL8f",
    "outputId": "7e27b219-0dbd-4be2-f467-614ded7a3e6c"
   },
   "outputs": [
    {
     "name": "stdout",
     "output_type": "stream",
     "text": [
      "DataFrame saved as test_set.pkl\n"
     ]
    }
   ],
   "source": [
    "test_df.to_pickle(\"test_set.pkl\")\n",
    "print(\"DataFrame saved as test_set.pkl\")"
   ]
  },
  {
   "cell_type": "markdown",
   "id": "wFIEv8NoL1ia",
   "metadata": {
    "id": "wFIEv8NoL1ia"
   },
   "source": [
    "# Loading the test dataset with skills column and preprocessed resumes and jds and adjectives and adverbs column"
   ]
  },
  {
   "cell_type": "code",
   "execution_count": 16,
   "id": "JQQi4GzrKL45",
   "metadata": {
    "colab": {
     "base_uri": "https://localhost:8080/"
    },
    "id": "JQQi4GzrKL45",
    "outputId": "919af745-fd16-4bdc-c2a7-dda34a5bc86b"
   },
   "outputs": [
    {
     "name": "stdout",
     "output_type": "stream",
     "text": [
      "Preprocessed test DataFrame 'test_df' loaded from test_set.pkl\n"
     ]
    }
   ],
   "source": [
    "import pandas as pd\n",
    "test_df = pd.read_pickle(\"test_set.pkl\")\n",
    "print(\"Preprocessed test DataFrame 'test_df' loaded from test_set.pkl\")"
   ]
  },
  {
   "cell_type": "markdown",
   "id": "PCK4oJv-OIAk",
   "metadata": {
    "id": "PCK4oJv-OIAk"
   },
   "source": [
    "**Remove redunt terms**"
   ]
  },
  {
   "cell_type": "code",
   "execution_count": 17,
   "id": "1P2d_hVaOIxg",
   "metadata": {
    "id": "1P2d_hVaOIxg"
   },
   "outputs": [],
   "source": [
    "test_df['resume_adj'] = test_df['resume_adj'].apply(make_unq)\n",
    "test_df['resume_adv'] = test_df['resume_adv'].apply(make_unq)\n",
    "test_df['jd_adj']     = test_df['jd_adj'].apply(make_unq)\n",
    "test_df['jd_adv']     = test_df['jd_adj'].apply(make_unq)"
   ]
  },
  {
   "cell_type": "markdown",
   "id": "SpU87MQsMgLg",
   "metadata": {
    "id": "SpU87MQsMgLg"
   },
   "source": [
    "**Example usage: Calculate Jaccard similarity between 'resume_skills' and 'jd_skills'**"
   ]
  },
  {
   "cell_type": "code",
   "execution_count": 18,
   "id": "ayAig3AeKL1d",
   "metadata": {
    "id": "ayAig3AeKL1d"
   },
   "outputs": [],
   "source": [
    "test_df['jaccard_skills'] = calculate_jaccard_for_columns(test_df, 'resume_skills', 'jd_skills')"
   ]
  },
  {
   "cell_type": "markdown",
   "id": "d9K3_tdtMmGe",
   "metadata": {
    "id": "d9K3_tdtMmGe"
   },
   "source": [
    "**Similarly, calculate for other pairs of columns**"
   ]
  },
  {
   "cell_type": "code",
   "execution_count": 19,
   "id": "MSyBgVUOKLzm",
   "metadata": {
    "id": "MSyBgVUOKLzm"
   },
   "outputs": [],
   "source": [
    "test_df['jaccard_adj'] = calculate_jaccard_for_columns(test_df, 'resume_adj', 'jd_adj')"
   ]
  },
  {
   "cell_type": "code",
   "execution_count": 20,
   "id": "j-MnNMfEKLxE",
   "metadata": {
    "id": "j-MnNMfEKLxE"
   },
   "outputs": [],
   "source": [
    "test_df['jaccard_adv'] = calculate_jaccard_for_columns(test_df, 'resume_adv', 'jd_adv')"
   ]
  },
  {
   "cell_type": "code",
   "execution_count": 21,
   "id": "yD9iRsbkMyta",
   "metadata": {
    "colab": {
     "base_uri": "https://localhost:8080/",
     "height": 573
    },
    "id": "yD9iRsbkMyta",
    "outputId": "c4ecae96-6797-4da5-e7a8-29113b5cdccb"
   },
   "outputs": [
    {
     "data": {
      "text/html": [
       "<div>\n",
       "<style scoped>\n",
       "    .dataframe tbody tr th:only-of-type {\n",
       "        vertical-align: middle;\n",
       "    }\n",
       "\n",
       "    .dataframe tbody tr th {\n",
       "        vertical-align: top;\n",
       "    }\n",
       "\n",
       "    .dataframe thead th {\n",
       "        text-align: right;\n",
       "    }\n",
       "</style>\n",
       "<table border=\"1\" class=\"dataframe\">\n",
       "  <thead>\n",
       "    <tr style=\"text-align: right;\">\n",
       "      <th></th>\n",
       "      <th>resume_text</th>\n",
       "      <th>job_description_text</th>\n",
       "      <th>label</th>\n",
       "      <th>pre_resume</th>\n",
       "      <th>pre_jd</th>\n",
       "      <th>resume_skills</th>\n",
       "      <th>jd_skills</th>\n",
       "      <th>resume_adj</th>\n",
       "      <th>resume_adv</th>\n",
       "      <th>jd_adj</th>\n",
       "      <th>jd_adv</th>\n",
       "      <th>jaccard_skills</th>\n",
       "      <th>jaccard_adj</th>\n",
       "      <th>jaccard_adv</th>\n",
       "    </tr>\n",
       "  </thead>\n",
       "  <tbody>\n",
       "    <tr>\n",
       "      <th>0</th>\n",
       "      <td>Summary7+ years of experience as a BI develope...</td>\n",
       "      <td>Key Responsibilities:Create intricate wiring n...</td>\n",
       "      <td>No Fit</td>\n",
       "      <td>summary7 + year experience bi developer prove ...</td>\n",
       "      <td>key responsibility create intricate wiring net...</td>\n",
       "      <td>[testing, analytics, query optimization, data ...</td>\n",
       "      <td>[component, interaction, manufacturing enginee...</td>\n",
       "      <td>[additional, rigorous, dynamic, ambitious, med...</td>\n",
       "      <td>[primarily, also, high, most]</td>\n",
       "      <td>[additional, calibrate, dynamic, fine, electri...</td>\n",
       "      <td>[additional, calibrate, dynamic, fine, electri...</td>\n",
       "      <td>0.004310</td>\n",
       "      <td>0.004115</td>\n",
       "      <td>0.009259</td>\n",
       "    </tr>\n",
       "    <tr>\n",
       "      <th>1</th>\n",
       "      <td>Professional BackgroundAnalyst versed in data ...</td>\n",
       "      <td>Personal development and becoming the best you...</td>\n",
       "      <td>No Fit</td>\n",
       "      <td>professional backgroundanalyst verse data anal...</td>\n",
       "      <td>personal development good growth explore new s...</td>\n",
       "      <td>[testing, business, crystal, server, data anal...</td>\n",
       "      <td>[software, testing, business, engineering, des...</td>\n",
       "      <td>[monthly, clinical, incoming, complex, financi...</td>\n",
       "      <td>[as, weekly, daily, effectively, well]</td>\n",
       "      <td>[smart, adaptable, solid, honest, equivalent, ...</td>\n",
       "      <td>[smart, adaptable, solid, honest, equivalent, ...</td>\n",
       "      <td>0.009050</td>\n",
       "      <td>0.002152</td>\n",
       "      <td>0.002439</td>\n",
       "    </tr>\n",
       "    <tr>\n",
       "      <th>2</th>\n",
       "      <td>Executive ProfileDedicated professional with t...</td>\n",
       "      <td>Location: Tampa, FL\\nExp: 7-10 Yrs\\nSPOC: Tush...</td>\n",
       "      <td>No Fit</td>\n",
       "      <td>executive profilededicated professional accomp...</td>\n",
       "      <td>location tampa fl exp 7 10 yrs spoc tushar ksh...</td>\n",
       "      <td>[business, play, accounting, compliance, resea...</td>\n",
       "      <td>[javascript, component, business, certificatio...</td>\n",
       "      <td>[expense, mutable, initial, prepared, financia...</td>\n",
       "      <td>[successfully, independently, extensively, sol...</td>\n",
       "      <td>[affectional, civil, testable, hereditary, sup...</td>\n",
       "      <td>[affectional, civil, testable, hereditary, sup...</td>\n",
       "      <td>0.010417</td>\n",
       "      <td>0.001913</td>\n",
       "      <td>0.000000</td>\n",
       "    </tr>\n",
       "    <tr>\n",
       "      <th>3</th>\n",
       "      <td>Summarytyee\\nHighlightsMicrosoft Excel, Word, ...</td>\n",
       "      <td>Primary Location: Melbourne, Florida\\nV-Soft C...</td>\n",
       "      <td>No Fit</td>\n",
       "      <td>summarytyee highlightsmicrosoft excel word out...</td>\n",
       "      <td>primary location melbourne florida v soft cons...</td>\n",
       "      <td>[business, box, analytics, documentation, mark...</td>\n",
       "      <td>[testing, software engineering, engineering, c...</td>\n",
       "      <td>[domestic, real, valuable, great, monthly, sub...</td>\n",
       "      <td>[daily]</td>\n",
       "      <td>[superior, proven, complex, advanced, national...</td>\n",
       "      <td>[superior, proven, complex, advanced, national...</td>\n",
       "      <td>0.008772</td>\n",
       "      <td>0.003151</td>\n",
       "      <td>0.000000</td>\n",
       "    </tr>\n",
       "    <tr>\n",
       "      <th>4</th>\n",
       "      <td>SummaryEIT certified Engineer and ASTQB Certif...</td>\n",
       "      <td>At Oregon Specialty Group the Accounting &amp; Pay...</td>\n",
       "      <td>No Fit</td>\n",
       "      <td>summaryeit certify engineer astqb certified qa...</td>\n",
       "      <td>at oregon specialty group accounting &amp; payroll...</td>\n",
       "      <td>[testing, engineering, library, software, crys...</td>\n",
       "      <td>[software, business, accounting, compliance, d...</td>\n",
       "      <td>[dependent, additional, unique, complex, profe...</td>\n",
       "      <td>[successfully, more, highly, as, sufficiently,...</td>\n",
       "      <td>[mutual, clerical, confidential, financial, pa...</td>\n",
       "      <td>[mutual, clerical, confidential, financial, pa...</td>\n",
       "      <td>0.009615</td>\n",
       "      <td>0.002964</td>\n",
       "      <td>0.000000</td>\n",
       "    </tr>\n",
       "  </tbody>\n",
       "</table>\n",
       "</div>"
      ],
      "text/plain": [
       "                                         resume_text  \\\n",
       "0  Summary7+ years of experience as a BI develope...   \n",
       "1  Professional BackgroundAnalyst versed in data ...   \n",
       "2  Executive ProfileDedicated professional with t...   \n",
       "3  Summarytyee\\nHighlightsMicrosoft Excel, Word, ...   \n",
       "4  SummaryEIT certified Engineer and ASTQB Certif...   \n",
       "\n",
       "                                job_description_text   label  \\\n",
       "0  Key Responsibilities:Create intricate wiring n...  No Fit   \n",
       "1  Personal development and becoming the best you...  No Fit   \n",
       "2  Location: Tampa, FL\\nExp: 7-10 Yrs\\nSPOC: Tush...  No Fit   \n",
       "3  Primary Location: Melbourne, Florida\\nV-Soft C...  No Fit   \n",
       "4  At Oregon Specialty Group the Accounting & Pay...  No Fit   \n",
       "\n",
       "                                          pre_resume  \\\n",
       "0  summary7 + year experience bi developer prove ...   \n",
       "1  professional backgroundanalyst verse data anal...   \n",
       "2  executive profilededicated professional accomp...   \n",
       "3  summarytyee highlightsmicrosoft excel word out...   \n",
       "4  summaryeit certify engineer astqb certified qa...   \n",
       "\n",
       "                                              pre_jd  \\\n",
       "0  key responsibility create intricate wiring net...   \n",
       "1  personal development good growth explore new s...   \n",
       "2  location tampa fl exp 7 10 yrs spoc tushar ksh...   \n",
       "3  primary location melbourne florida v soft cons...   \n",
       "4  at oregon specialty group accounting & payroll...   \n",
       "\n",
       "                                       resume_skills  \\\n",
       "0  [testing, analytics, query optimization, data ...   \n",
       "1  [testing, business, crystal, server, data anal...   \n",
       "2  [business, play, accounting, compliance, resea...   \n",
       "3  [business, box, analytics, documentation, mark...   \n",
       "4  [testing, engineering, library, software, crys...   \n",
       "\n",
       "                                           jd_skills  \\\n",
       "0  [component, interaction, manufacturing enginee...   \n",
       "1  [software, testing, business, engineering, des...   \n",
       "2  [javascript, component, business, certificatio...   \n",
       "3  [testing, software engineering, engineering, c...   \n",
       "4  [software, business, accounting, compliance, d...   \n",
       "\n",
       "                                          resume_adj  \\\n",
       "0  [additional, rigorous, dynamic, ambitious, med...   \n",
       "1  [monthly, clinical, incoming, complex, financi...   \n",
       "2  [expense, mutable, initial, prepared, financia...   \n",
       "3  [domestic, real, valuable, great, monthly, sub...   \n",
       "4  [dependent, additional, unique, complex, profe...   \n",
       "\n",
       "                                          resume_adv  \\\n",
       "0                      [primarily, also, high, most]   \n",
       "1             [as, weekly, daily, effectively, well]   \n",
       "2  [successfully, independently, extensively, sol...   \n",
       "3                                            [daily]   \n",
       "4  [successfully, more, highly, as, sufficiently,...   \n",
       "\n",
       "                                              jd_adj  \\\n",
       "0  [additional, calibrate, dynamic, fine, electri...   \n",
       "1  [smart, adaptable, solid, honest, equivalent, ...   \n",
       "2  [affectional, civil, testable, hereditary, sup...   \n",
       "3  [superior, proven, complex, advanced, national...   \n",
       "4  [mutual, clerical, confidential, financial, pa...   \n",
       "\n",
       "                                              jd_adv  jaccard_skills  \\\n",
       "0  [additional, calibrate, dynamic, fine, electri...        0.004310   \n",
       "1  [smart, adaptable, solid, honest, equivalent, ...        0.009050   \n",
       "2  [affectional, civil, testable, hereditary, sup...        0.010417   \n",
       "3  [superior, proven, complex, advanced, national...        0.008772   \n",
       "4  [mutual, clerical, confidential, financial, pa...        0.009615   \n",
       "\n",
       "   jaccard_adj  jaccard_adv  \n",
       "0     0.004115     0.009259  \n",
       "1     0.002152     0.002439  \n",
       "2     0.001913     0.000000  \n",
       "3     0.003151     0.000000  \n",
       "4     0.002964     0.000000  "
      ]
     },
     "execution_count": 21,
     "metadata": {},
     "output_type": "execute_result"
    }
   ],
   "source": [
    "test_df.head()"
   ]
  },
  {
   "cell_type": "code",
   "execution_count": 22,
   "id": "wdA_Rml_MyqB",
   "metadata": {
    "colab": {
     "base_uri": "https://localhost:8080/",
     "height": 300
    },
    "id": "wdA_Rml_MyqB",
    "outputId": "1895b397-65b0-45d5-8f8c-0497eac50598"
   },
   "outputs": [
    {
     "data": {
      "text/html": [
       "<div>\n",
       "<style scoped>\n",
       "    .dataframe tbody tr th:only-of-type {\n",
       "        vertical-align: middle;\n",
       "    }\n",
       "\n",
       "    .dataframe tbody tr th {\n",
       "        vertical-align: top;\n",
       "    }\n",
       "\n",
       "    .dataframe thead th {\n",
       "        text-align: right;\n",
       "    }\n",
       "</style>\n",
       "<table border=\"1\" class=\"dataframe\">\n",
       "  <thead>\n",
       "    <tr style=\"text-align: right;\">\n",
       "      <th></th>\n",
       "      <th>jaccard_skills</th>\n",
       "      <th>jaccard_adj</th>\n",
       "      <th>jaccard_adv</th>\n",
       "    </tr>\n",
       "  </thead>\n",
       "  <tbody>\n",
       "    <tr>\n",
       "      <th>count</th>\n",
       "      <td>1759.000000</td>\n",
       "      <td>1759.000000</td>\n",
       "      <td>1759.000000</td>\n",
       "    </tr>\n",
       "    <tr>\n",
       "      <th>mean</th>\n",
       "      <td>0.019039</td>\n",
       "      <td>0.004223</td>\n",
       "      <td>0.000551</td>\n",
       "    </tr>\n",
       "    <tr>\n",
       "      <th>std</th>\n",
       "      <td>0.020195</td>\n",
       "      <td>0.003665</td>\n",
       "      <td>0.002551</td>\n",
       "    </tr>\n",
       "    <tr>\n",
       "      <th>min</th>\n",
       "      <td>0.000000</td>\n",
       "      <td>0.000000</td>\n",
       "      <td>0.000000</td>\n",
       "    </tr>\n",
       "    <tr>\n",
       "      <th>25%</th>\n",
       "      <td>0.008621</td>\n",
       "      <td>0.002124</td>\n",
       "      <td>0.000000</td>\n",
       "    </tr>\n",
       "    <tr>\n",
       "      <th>50%</th>\n",
       "      <td>0.013333</td>\n",
       "      <td>0.003695</td>\n",
       "      <td>0.000000</td>\n",
       "    </tr>\n",
       "    <tr>\n",
       "      <th>75%</th>\n",
       "      <td>0.022222</td>\n",
       "      <td>0.005571</td>\n",
       "      <td>0.000000</td>\n",
       "    </tr>\n",
       "    <tr>\n",
       "      <th>max</th>\n",
       "      <td>0.166667</td>\n",
       "      <td>0.037037</td>\n",
       "      <td>0.058824</td>\n",
       "    </tr>\n",
       "  </tbody>\n",
       "</table>\n",
       "</div>"
      ],
      "text/plain": [
       "       jaccard_skills  jaccard_adj  jaccard_adv\n",
       "count     1759.000000  1759.000000  1759.000000\n",
       "mean         0.019039     0.004223     0.000551\n",
       "std          0.020195     0.003665     0.002551\n",
       "min          0.000000     0.000000     0.000000\n",
       "25%          0.008621     0.002124     0.000000\n",
       "50%          0.013333     0.003695     0.000000\n",
       "75%          0.022222     0.005571     0.000000\n",
       "max          0.166667     0.037037     0.058824"
      ]
     },
     "execution_count": 22,
     "metadata": {},
     "output_type": "execute_result"
    }
   ],
   "source": [
    "test_df.iloc[:,11:].describe()"
   ]
  },
  {
   "cell_type": "code",
   "execution_count": 62,
   "id": "yu2oHP-gMynb",
   "metadata": {
    "id": "yu2oHP-gMynb"
   },
   "outputs": [],
   "source": [
    "df.iloc[:,11:].describe()"
   ]
  },
  {
   "cell_type": "markdown",
   "id": "04486a14-34bc-4168-93e5-3262d3eb8e1f",
   "metadata": {},
   "source": [
    "# Model traing "
   ]
  },
  {
   "cell_type": "code",
   "execution_count": 23,
   "id": "2e1f7144-7241-4710-b9e8-0a13407f647a",
   "metadata": {},
   "outputs": [
    {
     "data": {
      "text/plain": [
       "Index(['resume_text', 'job_description_text', 'label', 'pre_resume', 'pre_jd',\n",
       "       'resume_skills', 'jd_skills', 'resume_adj', 'resume_adv', 'jd_adj',\n",
       "       'jd_adv', 'jaccard_skills', 'jaccard_adj', 'jaccard_adv'],\n",
       "      dtype='object')"
      ]
     },
     "execution_count": 23,
     "metadata": {},
     "output_type": "execute_result"
    }
   ],
   "source": [
    "df.columns"
   ]
  },
  {
   "cell_type": "code",
   "execution_count": 24,
   "id": "boG7IxX6MykC",
   "metadata": {
    "id": "boG7IxX6MykC"
   },
   "outputs": [],
   "source": [
    "train = df[['jaccard_skills', 'jaccard_adj', 'jaccard_adv','label']]"
   ]
  },
  {
   "cell_type": "code",
   "execution_count": 25,
   "id": "39fe5155-a2f0-4fec-96f4-6c7da2a0532c",
   "metadata": {},
   "outputs": [],
   "source": [
    "test  = test_df[['jaccard_skills', 'jaccard_adj', 'jaccard_adv','label']]"
   ]
  },
  {
   "cell_type": "code",
   "execution_count": 26,
   "id": "6822a048-8b7e-42df-a487-c8c5c94e6194",
   "metadata": {},
   "outputs": [
    {
     "data": {
      "text/html": [
       "<div>\n",
       "<style scoped>\n",
       "    .dataframe tbody tr th:only-of-type {\n",
       "        vertical-align: middle;\n",
       "    }\n",
       "\n",
       "    .dataframe tbody tr th {\n",
       "        vertical-align: top;\n",
       "    }\n",
       "\n",
       "    .dataframe thead th {\n",
       "        text-align: right;\n",
       "    }\n",
       "</style>\n",
       "<table border=\"1\" class=\"dataframe\">\n",
       "  <thead>\n",
       "    <tr style=\"text-align: right;\">\n",
       "      <th></th>\n",
       "      <th>jaccard_skills</th>\n",
       "      <th>jaccard_adj</th>\n",
       "      <th>jaccard_adv</th>\n",
       "      <th>label</th>\n",
       "    </tr>\n",
       "  </thead>\n",
       "  <tbody>\n",
       "    <tr>\n",
       "      <th>0</th>\n",
       "      <td>0.041667</td>\n",
       "      <td>0.004204</td>\n",
       "      <td>0.000000</td>\n",
       "      <td>No Fit</td>\n",
       "    </tr>\n",
       "    <tr>\n",
       "      <th>1</th>\n",
       "      <td>0.029762</td>\n",
       "      <td>0.002467</td>\n",
       "      <td>0.000000</td>\n",
       "      <td>No Fit</td>\n",
       "    </tr>\n",
       "    <tr>\n",
       "      <th>2</th>\n",
       "      <td>0.012500</td>\n",
       "      <td>0.001923</td>\n",
       "      <td>0.002222</td>\n",
       "      <td>No Fit</td>\n",
       "    </tr>\n",
       "    <tr>\n",
       "      <th>3</th>\n",
       "      <td>0.000000</td>\n",
       "      <td>0.002262</td>\n",
       "      <td>0.000000</td>\n",
       "      <td>No Fit</td>\n",
       "    </tr>\n",
       "    <tr>\n",
       "      <th>4</th>\n",
       "      <td>0.011765</td>\n",
       "      <td>0.003395</td>\n",
       "      <td>0.002778</td>\n",
       "      <td>No Fit</td>\n",
       "    </tr>\n",
       "  </tbody>\n",
       "</table>\n",
       "</div>"
      ],
      "text/plain": [
       "   jaccard_skills  jaccard_adj  jaccard_adv   label\n",
       "0        0.041667     0.004204     0.000000  No Fit\n",
       "1        0.029762     0.002467     0.000000  No Fit\n",
       "2        0.012500     0.001923     0.002222  No Fit\n",
       "3        0.000000     0.002262     0.000000  No Fit\n",
       "4        0.011765     0.003395     0.002778  No Fit"
      ]
     },
     "execution_count": 26,
     "metadata": {},
     "output_type": "execute_result"
    }
   ],
   "source": [
    "train.head()"
   ]
  },
  {
   "cell_type": "code",
   "execution_count": 27,
   "id": "6bd07457-3d58-4697-b6b4-a78f63c54db8",
   "metadata": {},
   "outputs": [
    {
     "data": {
      "text/html": [
       "<div>\n",
       "<style scoped>\n",
       "    .dataframe tbody tr th:only-of-type {\n",
       "        vertical-align: middle;\n",
       "    }\n",
       "\n",
       "    .dataframe tbody tr th {\n",
       "        vertical-align: top;\n",
       "    }\n",
       "\n",
       "    .dataframe thead th {\n",
       "        text-align: right;\n",
       "    }\n",
       "</style>\n",
       "<table border=\"1\" class=\"dataframe\">\n",
       "  <thead>\n",
       "    <tr style=\"text-align: right;\">\n",
       "      <th></th>\n",
       "      <th>jaccard_skills</th>\n",
       "      <th>jaccard_adj</th>\n",
       "      <th>jaccard_adv</th>\n",
       "      <th>label</th>\n",
       "    </tr>\n",
       "  </thead>\n",
       "  <tbody>\n",
       "    <tr>\n",
       "      <th>0</th>\n",
       "      <td>0.004310</td>\n",
       "      <td>0.004115</td>\n",
       "      <td>0.009259</td>\n",
       "      <td>No Fit</td>\n",
       "    </tr>\n",
       "    <tr>\n",
       "      <th>1</th>\n",
       "      <td>0.009050</td>\n",
       "      <td>0.002152</td>\n",
       "      <td>0.002439</td>\n",
       "      <td>No Fit</td>\n",
       "    </tr>\n",
       "    <tr>\n",
       "      <th>2</th>\n",
       "      <td>0.010417</td>\n",
       "      <td>0.001913</td>\n",
       "      <td>0.000000</td>\n",
       "      <td>No Fit</td>\n",
       "    </tr>\n",
       "    <tr>\n",
       "      <th>3</th>\n",
       "      <td>0.008772</td>\n",
       "      <td>0.003151</td>\n",
       "      <td>0.000000</td>\n",
       "      <td>No Fit</td>\n",
       "    </tr>\n",
       "    <tr>\n",
       "      <th>4</th>\n",
       "      <td>0.009615</td>\n",
       "      <td>0.002964</td>\n",
       "      <td>0.000000</td>\n",
       "      <td>No Fit</td>\n",
       "    </tr>\n",
       "  </tbody>\n",
       "</table>\n",
       "</div>"
      ],
      "text/plain": [
       "   jaccard_skills  jaccard_adj  jaccard_adv   label\n",
       "0        0.004310     0.004115     0.009259  No Fit\n",
       "1        0.009050     0.002152     0.002439  No Fit\n",
       "2        0.010417     0.001913     0.000000  No Fit\n",
       "3        0.008772     0.003151     0.000000  No Fit\n",
       "4        0.009615     0.002964     0.000000  No Fit"
      ]
     },
     "execution_count": 27,
     "metadata": {},
     "output_type": "execute_result"
    }
   ],
   "source": [
    "test.head()"
   ]
  },
  {
   "cell_type": "code",
   "execution_count": 28,
   "id": "179d6ce7-4ad1-4c73-854f-5d7f22b67f92",
   "metadata": {},
   "outputs": [],
   "source": [
    "train.to_pickle(\"train.pkl\")\n",
    "test.to_pickle(\"test.pkl\")"
   ]
  },
  {
   "cell_type": "markdown",
   "id": "58434c44-0684-4b05-b89a-644d6d069515",
   "metadata": {},
   "source": [
    "**loading training and testing data**"
   ]
  },
  {
   "cell_type": "code",
   "execution_count": null,
   "id": "fefc7dbe-f466-47ed-a5ac-d75581f7342b",
   "metadata": {},
   "outputs": [],
   "source": [
    "train = pd.read_pickle(\"train.pkl\")"
   ]
  },
  {
   "cell_type": "code",
   "execution_count": null,
   "id": "d20f7183-6331-4910-8a50-a366184a7860",
   "metadata": {},
   "outputs": [],
   "source": [
    "test = pd.read_pickle(\"test.pkl\")"
   ]
  },
  {
   "cell_type": "code",
   "execution_count": null,
   "id": "84896580-2b24-4944-936b-c8dda144c143",
   "metadata": {},
   "outputs": [],
   "source": []
  }
 ],
 "metadata": {
  "colab": {
   "provenance": []
  },
  "kernelspec": {
   "display_name": "Python 3 (ipykernel)",
   "language": "python",
   "name": "python3"
  },
  "language_info": {
   "codemirror_mode": {
    "name": "ipython",
    "version": 3
   },
   "file_extension": ".py",
   "mimetype": "text/x-python",
   "name": "python",
   "nbconvert_exporter": "python",
   "pygments_lexer": "ipython3",
   "version": "3.12.2"
  },
  "widgets": {
   "application/vnd.jupyter.widget-state+json": {
    "00517590275f4db2b1ea0191e6a18f60": {
     "model_module": "@jupyter-widgets/base",
     "model_module_version": "1.2.0",
     "model_name": "LayoutModel",
     "state": {
      "_model_module": "@jupyter-widgets/base",
      "_model_module_version": "1.2.0",
      "_model_name": "LayoutModel",
      "_view_count": null,
      "_view_module": "@jupyter-widgets/base",
      "_view_module_version": "1.2.0",
      "_view_name": "LayoutView",
      "align_content": null,
      "align_items": null,
      "align_self": null,
      "border": null,
      "bottom": null,
      "display": null,
      "flex": null,
      "flex_flow": null,
      "grid_area": null,
      "grid_auto_columns": null,
      "grid_auto_flow": null,
      "grid_auto_rows": null,
      "grid_column": null,
      "grid_gap": null,
      "grid_row": null,
      "grid_template_areas": null,
      "grid_template_columns": null,
      "grid_template_rows": null,
      "height": null,
      "justify_content": null,
      "justify_items": null,
      "left": null,
      "margin": null,
      "max_height": null,
      "max_width": null,
      "min_height": null,
      "min_width": null,
      "object_fit": null,
      "object_position": null,
      "order": null,
      "overflow": null,
      "overflow_x": null,
      "overflow_y": null,
      "padding": null,
      "right": null,
      "top": null,
      "visibility": null,
      "width": null
     }
    },
    "044aa5c6174d4727bb503325dd9d31e3": {
     "model_module": "@jupyter-widgets/controls",
     "model_module_version": "1.5.0",
     "model_name": "DescriptionStyleModel",
     "state": {
      "_model_module": "@jupyter-widgets/controls",
      "_model_module_version": "1.5.0",
      "_model_name": "DescriptionStyleModel",
      "_view_count": null,
      "_view_module": "@jupyter-widgets/base",
      "_view_module_version": "1.2.0",
      "_view_name": "StyleView",
      "description_width": ""
     }
    },
    "075f17277cf64f4689f5ac8a0493a17d": {
     "model_module": "@jupyter-widgets/controls",
     "model_module_version": "1.5.0",
     "model_name": "HBoxModel",
     "state": {
      "_dom_classes": [],
      "_model_module": "@jupyter-widgets/controls",
      "_model_module_version": "1.5.0",
      "_model_name": "HBoxModel",
      "_view_count": null,
      "_view_module": "@jupyter-widgets/controls",
      "_view_module_version": "1.5.0",
      "_view_name": "HBoxView",
      "box_style": "",
      "children": [
       "IPY_MODEL_41fb1ecc21b24ee2a9066c643250520f",
       "IPY_MODEL_8d765514b9714a13b303d59f3261a55b",
       "IPY_MODEL_face3617e90347109aa51e9a912d77ee"
      ],
      "layout": "IPY_MODEL_69cbaac18be244189a15e429ac5bec7d"
     }
    },
    "09738cc507db4d8296d09ee589b32231": {
     "model_module": "@jupyter-widgets/base",
     "model_module_version": "1.2.0",
     "model_name": "LayoutModel",
     "state": {
      "_model_module": "@jupyter-widgets/base",
      "_model_module_version": "1.2.0",
      "_model_name": "LayoutModel",
      "_view_count": null,
      "_view_module": "@jupyter-widgets/base",
      "_view_module_version": "1.2.0",
      "_view_name": "LayoutView",
      "align_content": null,
      "align_items": null,
      "align_self": null,
      "border": null,
      "bottom": null,
      "display": null,
      "flex": null,
      "flex_flow": null,
      "grid_area": null,
      "grid_auto_columns": null,
      "grid_auto_flow": null,
      "grid_auto_rows": null,
      "grid_column": null,
      "grid_gap": null,
      "grid_row": null,
      "grid_template_areas": null,
      "grid_template_columns": null,
      "grid_template_rows": null,
      "height": null,
      "justify_content": null,
      "justify_items": null,
      "left": null,
      "margin": null,
      "max_height": null,
      "max_width": null,
      "min_height": null,
      "min_width": null,
      "object_fit": null,
      "object_position": null,
      "order": null,
      "overflow": null,
      "overflow_x": null,
      "overflow_y": null,
      "padding": null,
      "right": null,
      "top": null,
      "visibility": null,
      "width": null
     }
    },
    "1b960de946e04a2cb5aff9dd53881e6c": {
     "model_module": "@jupyter-widgets/base",
     "model_module_version": "1.2.0",
     "model_name": "LayoutModel",
     "state": {
      "_model_module": "@jupyter-widgets/base",
      "_model_module_version": "1.2.0",
      "_model_name": "LayoutModel",
      "_view_count": null,
      "_view_module": "@jupyter-widgets/base",
      "_view_module_version": "1.2.0",
      "_view_name": "LayoutView",
      "align_content": null,
      "align_items": null,
      "align_self": null,
      "border": null,
      "bottom": null,
      "display": null,
      "flex": null,
      "flex_flow": null,
      "grid_area": null,
      "grid_auto_columns": null,
      "grid_auto_flow": null,
      "grid_auto_rows": null,
      "grid_column": null,
      "grid_gap": null,
      "grid_row": null,
      "grid_template_areas": null,
      "grid_template_columns": null,
      "grid_template_rows": null,
      "height": null,
      "justify_content": null,
      "justify_items": null,
      "left": null,
      "margin": null,
      "max_height": null,
      "max_width": null,
      "min_height": null,
      "min_width": null,
      "object_fit": null,
      "object_position": null,
      "order": null,
      "overflow": null,
      "overflow_x": null,
      "overflow_y": null,
      "padding": null,
      "right": null,
      "top": null,
      "visibility": null,
      "width": null
     }
    },
    "1c11ea70318b46aea107b9d0642dcc01": {
     "model_module": "@jupyter-widgets/base",
     "model_module_version": "1.2.0",
     "model_name": "LayoutModel",
     "state": {
      "_model_module": "@jupyter-widgets/base",
      "_model_module_version": "1.2.0",
      "_model_name": "LayoutModel",
      "_view_count": null,
      "_view_module": "@jupyter-widgets/base",
      "_view_module_version": "1.2.0",
      "_view_name": "LayoutView",
      "align_content": null,
      "align_items": null,
      "align_self": null,
      "border": null,
      "bottom": null,
      "display": null,
      "flex": null,
      "flex_flow": null,
      "grid_area": null,
      "grid_auto_columns": null,
      "grid_auto_flow": null,
      "grid_auto_rows": null,
      "grid_column": null,
      "grid_gap": null,
      "grid_row": null,
      "grid_template_areas": null,
      "grid_template_columns": null,
      "grid_template_rows": null,
      "height": null,
      "justify_content": null,
      "justify_items": null,
      "left": null,
      "margin": null,
      "max_height": null,
      "max_width": null,
      "min_height": null,
      "min_width": null,
      "object_fit": null,
      "object_position": null,
      "order": null,
      "overflow": null,
      "overflow_x": null,
      "overflow_y": null,
      "padding": null,
      "right": null,
      "top": null,
      "visibility": null,
      "width": null
     }
    },
    "20fc990712444f139485043ded87e347": {
     "model_module": "@jupyter-widgets/controls",
     "model_module_version": "1.5.0",
     "model_name": "DescriptionStyleModel",
     "state": {
      "_model_module": "@jupyter-widgets/controls",
      "_model_module_version": "1.5.0",
      "_model_name": "DescriptionStyleModel",
      "_view_count": null,
      "_view_module": "@jupyter-widgets/base",
      "_view_module_version": "1.2.0",
      "_view_name": "StyleView",
      "description_width": ""
     }
    },
    "24c5b9fe55ae431587b0240c978e8754": {
     "model_module": "@jupyter-widgets/controls",
     "model_module_version": "1.5.0",
     "model_name": "DescriptionStyleModel",
     "state": {
      "_model_module": "@jupyter-widgets/controls",
      "_model_module_version": "1.5.0",
      "_model_name": "DescriptionStyleModel",
      "_view_count": null,
      "_view_module": "@jupyter-widgets/base",
      "_view_module_version": "1.2.0",
      "_view_name": "StyleView",
      "description_width": ""
     }
    },
    "2a002571bb4e4923be84862d11fad147": {
     "model_module": "@jupyter-widgets/controls",
     "model_module_version": "1.5.0",
     "model_name": "HTMLModel",
     "state": {
      "_dom_classes": [],
      "_model_module": "@jupyter-widgets/controls",
      "_model_module_version": "1.5.0",
      "_model_name": "HTMLModel",
      "_view_count": null,
      "_view_module": "@jupyter-widgets/controls",
      "_view_module_version": "1.5.0",
      "_view_name": "HTMLView",
      "description": "",
      "description_tooltip": null,
      "layout": "IPY_MODEL_8f8efad2de494f0382ffc0e5898adb26",
      "placeholder": "​",
      "style": "IPY_MODEL_20fc990712444f139485043ded87e347",
      "value": " 53.4M/53.4M [00:01&lt;00:00, 41.1MB/s]"
     }
    },
    "311819d78fba4f10a3d55da78702bba9": {
     "model_module": "@jupyter-widgets/base",
     "model_module_version": "1.2.0",
     "model_name": "LayoutModel",
     "state": {
      "_model_module": "@jupyter-widgets/base",
      "_model_module_version": "1.2.0",
      "_model_name": "LayoutModel",
      "_view_count": null,
      "_view_module": "@jupyter-widgets/base",
      "_view_module_version": "1.2.0",
      "_view_name": "LayoutView",
      "align_content": null,
      "align_items": null,
      "align_self": null,
      "border": null,
      "bottom": null,
      "display": null,
      "flex": null,
      "flex_flow": null,
      "grid_area": null,
      "grid_auto_columns": null,
      "grid_auto_flow": null,
      "grid_auto_rows": null,
      "grid_column": null,
      "grid_gap": null,
      "grid_row": null,
      "grid_template_areas": null,
      "grid_template_columns": null,
      "grid_template_rows": null,
      "height": null,
      "justify_content": null,
      "justify_items": null,
      "left": null,
      "margin": null,
      "max_height": null,
      "max_width": null,
      "min_height": null,
      "min_width": null,
      "object_fit": null,
      "object_position": null,
      "order": null,
      "overflow": null,
      "overflow_x": null,
      "overflow_y": null,
      "padding": null,
      "right": null,
      "top": null,
      "visibility": null,
      "width": null
     }
    },
    "33734ccac855446daf0b9a317ff64f94": {
     "model_module": "@jupyter-widgets/controls",
     "model_module_version": "1.5.0",
     "model_name": "DescriptionStyleModel",
     "state": {
      "_model_module": "@jupyter-widgets/controls",
      "_model_module_version": "1.5.0",
      "_model_name": "DescriptionStyleModel",
      "_view_count": null,
      "_view_module": "@jupyter-widgets/base",
      "_view_module_version": "1.2.0",
      "_view_name": "StyleView",
      "description_width": ""
     }
    },
    "3a06a03ada884559859982db527ba292": {
     "model_module": "@jupyter-widgets/base",
     "model_module_version": "1.2.0",
     "model_name": "LayoutModel",
     "state": {
      "_model_module": "@jupyter-widgets/base",
      "_model_module_version": "1.2.0",
      "_model_name": "LayoutModel",
      "_view_count": null,
      "_view_module": "@jupyter-widgets/base",
      "_view_module_version": "1.2.0",
      "_view_name": "LayoutView",
      "align_content": null,
      "align_items": null,
      "align_self": null,
      "border": null,
      "bottom": null,
      "display": null,
      "flex": null,
      "flex_flow": null,
      "grid_area": null,
      "grid_auto_columns": null,
      "grid_auto_flow": null,
      "grid_auto_rows": null,
      "grid_column": null,
      "grid_gap": null,
      "grid_row": null,
      "grid_template_areas": null,
      "grid_template_columns": null,
      "grid_template_rows": null,
      "height": null,
      "justify_content": null,
      "justify_items": null,
      "left": null,
      "margin": null,
      "max_height": null,
      "max_width": null,
      "min_height": null,
      "min_width": null,
      "object_fit": null,
      "object_position": null,
      "order": null,
      "overflow": null,
      "overflow_x": null,
      "overflow_y": null,
      "padding": null,
      "right": null,
      "top": null,
      "visibility": null,
      "width": null
     }
    },
    "3debc65fd7cd4bb2971d7eb013ae2174": {
     "model_module": "@jupyter-widgets/controls",
     "model_module_version": "1.5.0",
     "model_name": "DescriptionStyleModel",
     "state": {
      "_model_module": "@jupyter-widgets/controls",
      "_model_module_version": "1.5.0",
      "_model_name": "DescriptionStyleModel",
      "_view_count": null,
      "_view_module": "@jupyter-widgets/base",
      "_view_module_version": "1.2.0",
      "_view_name": "StyleView",
      "description_width": ""
     }
    },
    "41fb1ecc21b24ee2a9066c643250520f": {
     "model_module": "@jupyter-widgets/controls",
     "model_module_version": "1.5.0",
     "model_name": "HTMLModel",
     "state": {
      "_dom_classes": [],
      "_model_module": "@jupyter-widgets/controls",
      "_model_module_version": "1.5.0",
      "_model_name": "HTMLModel",
      "_view_count": null,
      "_view_module": "@jupyter-widgets/controls",
      "_view_module_version": "1.5.0",
      "_view_name": "HTMLView",
      "description": "",
      "description_tooltip": null,
      "layout": "IPY_MODEL_8ef51b5d74dd48dda691274b8c57137e",
      "placeholder": "​",
      "style": "IPY_MODEL_3debc65fd7cd4bb2971d7eb013ae2174",
      "value": "Generating train split: 100%"
     }
    },
    "534ce365980b4749a73059ab3aefd217": {
     "model_module": "@jupyter-widgets/controls",
     "model_module_version": "1.5.0",
     "model_name": "DescriptionStyleModel",
     "state": {
      "_model_module": "@jupyter-widgets/controls",
      "_model_module_version": "1.5.0",
      "_model_name": "DescriptionStyleModel",
      "_view_count": null,
      "_view_module": "@jupyter-widgets/base",
      "_view_module_version": "1.2.0",
      "_view_name": "StyleView",
      "description_width": ""
     }
    },
    "5549f361313e4859af5f897940ed174f": {
     "model_module": "@jupyter-widgets/base",
     "model_module_version": "1.2.0",
     "model_name": "LayoutModel",
     "state": {
      "_model_module": "@jupyter-widgets/base",
      "_model_module_version": "1.2.0",
      "_model_name": "LayoutModel",
      "_view_count": null,
      "_view_module": "@jupyter-widgets/base",
      "_view_module_version": "1.2.0",
      "_view_name": "LayoutView",
      "align_content": null,
      "align_items": null,
      "align_self": null,
      "border": null,
      "bottom": null,
      "display": null,
      "flex": null,
      "flex_flow": null,
      "grid_area": null,
      "grid_auto_columns": null,
      "grid_auto_flow": null,
      "grid_auto_rows": null,
      "grid_column": null,
      "grid_gap": null,
      "grid_row": null,
      "grid_template_areas": null,
      "grid_template_columns": null,
      "grid_template_rows": null,
      "height": null,
      "justify_content": null,
      "justify_items": null,
      "left": null,
      "margin": null,
      "max_height": null,
      "max_width": null,
      "min_height": null,
      "min_width": null,
      "object_fit": null,
      "object_position": null,
      "order": null,
      "overflow": null,
      "overflow_x": null,
      "overflow_y": null,
      "padding": null,
      "right": null,
      "top": null,
      "visibility": null,
      "width": null
     }
    },
    "5e02224ad4ee4d048e3039526f9bcbd6": {
     "model_module": "@jupyter-widgets/controls",
     "model_module_version": "1.5.0",
     "model_name": "HBoxModel",
     "state": {
      "_dom_classes": [],
      "_model_module": "@jupyter-widgets/controls",
      "_model_module_version": "1.5.0",
      "_model_name": "HBoxModel",
      "_view_count": null,
      "_view_module": "@jupyter-widgets/controls",
      "_view_module_version": "1.5.0",
      "_view_name": "HBoxView",
      "box_style": "",
      "children": [
       "IPY_MODEL_600985f57389462e97043b47389e124d",
       "IPY_MODEL_c7434905ebb14732b8682ee109efd1f3",
       "IPY_MODEL_b809090c872747f3b4d9a8c6c6481b4b"
      ],
      "layout": "IPY_MODEL_3a06a03ada884559859982db527ba292"
     }
    },
    "600985f57389462e97043b47389e124d": {
     "model_module": "@jupyter-widgets/controls",
     "model_module_version": "1.5.0",
     "model_name": "HTMLModel",
     "state": {
      "_dom_classes": [],
      "_model_module": "@jupyter-widgets/controls",
      "_model_module_version": "1.5.0",
      "_model_name": "HTMLModel",
      "_view_count": null,
      "_view_module": "@jupyter-widgets/controls",
      "_view_module_version": "1.5.0",
      "_view_name": "HTMLView",
      "description": "",
      "description_tooltip": null,
      "layout": "IPY_MODEL_311819d78fba4f10a3d55da78702bba9",
      "placeholder": "​",
      "style": "IPY_MODEL_c8e2dc6a24af488cacb50665ebe9bb21",
      "value": "Generating test split: 100%"
     }
    },
    "69cbaac18be244189a15e429ac5bec7d": {
     "model_module": "@jupyter-widgets/base",
     "model_module_version": "1.2.0",
     "model_name": "LayoutModel",
     "state": {
      "_model_module": "@jupyter-widgets/base",
      "_model_module_version": "1.2.0",
      "_model_name": "LayoutModel",
      "_view_count": null,
      "_view_module": "@jupyter-widgets/base",
      "_view_module_version": "1.2.0",
      "_view_name": "LayoutView",
      "align_content": null,
      "align_items": null,
      "align_self": null,
      "border": null,
      "bottom": null,
      "display": null,
      "flex": null,
      "flex_flow": null,
      "grid_area": null,
      "grid_auto_columns": null,
      "grid_auto_flow": null,
      "grid_auto_rows": null,
      "grid_column": null,
      "grid_gap": null,
      "grid_row": null,
      "grid_template_areas": null,
      "grid_template_columns": null,
      "grid_template_rows": null,
      "height": null,
      "justify_content": null,
      "justify_items": null,
      "left": null,
      "margin": null,
      "max_height": null,
      "max_width": null,
      "min_height": null,
      "min_width": null,
      "object_fit": null,
      "object_position": null,
      "order": null,
      "overflow": null,
      "overflow_x": null,
      "overflow_y": null,
      "padding": null,
      "right": null,
      "top": null,
      "visibility": null,
      "width": null
     }
    },
    "89bbe318fcd04fd4a22cb8848516ac0a": {
     "model_module": "@jupyter-widgets/controls",
     "model_module_version": "1.5.0",
     "model_name": "HTMLModel",
     "state": {
      "_dom_classes": [],
      "_model_module": "@jupyter-widgets/controls",
      "_model_module_version": "1.5.0",
      "_model_name": "HTMLModel",
      "_view_count": null,
      "_view_module": "@jupyter-widgets/controls",
      "_view_module_version": "1.5.0",
      "_view_name": "HTMLView",
      "description": "",
      "description_tooltip": null,
      "layout": "IPY_MODEL_c17faf0d106d4f0684d5b197649ead82",
      "placeholder": "​",
      "style": "IPY_MODEL_24c5b9fe55ae431587b0240c978e8754",
      "value": "train.csv: 100%"
     }
    },
    "8d765514b9714a13b303d59f3261a55b": {
     "model_module": "@jupyter-widgets/controls",
     "model_module_version": "1.5.0",
     "model_name": "FloatProgressModel",
     "state": {
      "_dom_classes": [],
      "_model_module": "@jupyter-widgets/controls",
      "_model_module_version": "1.5.0",
      "_model_name": "FloatProgressModel",
      "_view_count": null,
      "_view_module": "@jupyter-widgets/controls",
      "_view_module_version": "1.5.0",
      "_view_name": "ProgressView",
      "bar_style": "success",
      "description": "",
      "description_tooltip": null,
      "layout": "IPY_MODEL_e478df13d1164a5886c3640bf60a682d",
      "max": 6241,
      "min": 0,
      "orientation": "horizontal",
      "style": "IPY_MODEL_be146ba3908a4e10a44bcddf14b95c24",
      "value": 6241
     }
    },
    "8ea4c2d19cf9449eb5df9f6690ad792b": {
     "model_module": "@jupyter-widgets/base",
     "model_module_version": "1.2.0",
     "model_name": "LayoutModel",
     "state": {
      "_model_module": "@jupyter-widgets/base",
      "_model_module_version": "1.2.0",
      "_model_name": "LayoutModel",
      "_view_count": null,
      "_view_module": "@jupyter-widgets/base",
      "_view_module_version": "1.2.0",
      "_view_name": "LayoutView",
      "align_content": null,
      "align_items": null,
      "align_self": null,
      "border": null,
      "bottom": null,
      "display": null,
      "flex": null,
      "flex_flow": null,
      "grid_area": null,
      "grid_auto_columns": null,
      "grid_auto_flow": null,
      "grid_auto_rows": null,
      "grid_column": null,
      "grid_gap": null,
      "grid_row": null,
      "grid_template_areas": null,
      "grid_template_columns": null,
      "grid_template_rows": null,
      "height": null,
      "justify_content": null,
      "justify_items": null,
      "left": null,
      "margin": null,
      "max_height": null,
      "max_width": null,
      "min_height": null,
      "min_width": null,
      "object_fit": null,
      "object_position": null,
      "order": null,
      "overflow": null,
      "overflow_x": null,
      "overflow_y": null,
      "padding": null,
      "right": null,
      "top": null,
      "visibility": null,
      "width": null
     }
    },
    "8ef51b5d74dd48dda691274b8c57137e": {
     "model_module": "@jupyter-widgets/base",
     "model_module_version": "1.2.0",
     "model_name": "LayoutModel",
     "state": {
      "_model_module": "@jupyter-widgets/base",
      "_model_module_version": "1.2.0",
      "_model_name": "LayoutModel",
      "_view_count": null,
      "_view_module": "@jupyter-widgets/base",
      "_view_module_version": "1.2.0",
      "_view_name": "LayoutView",
      "align_content": null,
      "align_items": null,
      "align_self": null,
      "border": null,
      "bottom": null,
      "display": null,
      "flex": null,
      "flex_flow": null,
      "grid_area": null,
      "grid_auto_columns": null,
      "grid_auto_flow": null,
      "grid_auto_rows": null,
      "grid_column": null,
      "grid_gap": null,
      "grid_row": null,
      "grid_template_areas": null,
      "grid_template_columns": null,
      "grid_template_rows": null,
      "height": null,
      "justify_content": null,
      "justify_items": null,
      "left": null,
      "margin": null,
      "max_height": null,
      "max_width": null,
      "min_height": null,
      "min_width": null,
      "object_fit": null,
      "object_position": null,
      "order": null,
      "overflow": null,
      "overflow_x": null,
      "overflow_y": null,
      "padding": null,
      "right": null,
      "top": null,
      "visibility": null,
      "width": null
     }
    },
    "8f8efad2de494f0382ffc0e5898adb26": {
     "model_module": "@jupyter-widgets/base",
     "model_module_version": "1.2.0",
     "model_name": "LayoutModel",
     "state": {
      "_model_module": "@jupyter-widgets/base",
      "_model_module_version": "1.2.0",
      "_model_name": "LayoutModel",
      "_view_count": null,
      "_view_module": "@jupyter-widgets/base",
      "_view_module_version": "1.2.0",
      "_view_name": "LayoutView",
      "align_content": null,
      "align_items": null,
      "align_self": null,
      "border": null,
      "bottom": null,
      "display": null,
      "flex": null,
      "flex_flow": null,
      "grid_area": null,
      "grid_auto_columns": null,
      "grid_auto_flow": null,
      "grid_auto_rows": null,
      "grid_column": null,
      "grid_gap": null,
      "grid_row": null,
      "grid_template_areas": null,
      "grid_template_columns": null,
      "grid_template_rows": null,
      "height": null,
      "justify_content": null,
      "justify_items": null,
      "left": null,
      "margin": null,
      "max_height": null,
      "max_width": null,
      "min_height": null,
      "min_width": null,
      "object_fit": null,
      "object_position": null,
      "order": null,
      "overflow": null,
      "overflow_x": null,
      "overflow_y": null,
      "padding": null,
      "right": null,
      "top": null,
      "visibility": null,
      "width": null
     }
    },
    "946f82207019415d9b4b8010730345da": {
     "model_module": "@jupyter-widgets/controls",
     "model_module_version": "1.5.0",
     "model_name": "ProgressStyleModel",
     "state": {
      "_model_module": "@jupyter-widgets/controls",
      "_model_module_version": "1.5.0",
      "_model_name": "ProgressStyleModel",
      "_view_count": null,
      "_view_module": "@jupyter-widgets/base",
      "_view_module_version": "1.2.0",
      "_view_name": "StyleView",
      "bar_color": null,
      "description_width": ""
     }
    },
    "b136517faa124b739c0b7d731be34d1a": {
     "model_module": "@jupyter-widgets/base",
     "model_module_version": "1.2.0",
     "model_name": "LayoutModel",
     "state": {
      "_model_module": "@jupyter-widgets/base",
      "_model_module_version": "1.2.0",
      "_model_name": "LayoutModel",
      "_view_count": null,
      "_view_module": "@jupyter-widgets/base",
      "_view_module_version": "1.2.0",
      "_view_name": "LayoutView",
      "align_content": null,
      "align_items": null,
      "align_self": null,
      "border": null,
      "bottom": null,
      "display": null,
      "flex": null,
      "flex_flow": null,
      "grid_area": null,
      "grid_auto_columns": null,
      "grid_auto_flow": null,
      "grid_auto_rows": null,
      "grid_column": null,
      "grid_gap": null,
      "grid_row": null,
      "grid_template_areas": null,
      "grid_template_columns": null,
      "grid_template_rows": null,
      "height": null,
      "justify_content": null,
      "justify_items": null,
      "left": null,
      "margin": null,
      "max_height": null,
      "max_width": null,
      "min_height": null,
      "min_width": null,
      "object_fit": null,
      "object_position": null,
      "order": null,
      "overflow": null,
      "overflow_x": null,
      "overflow_y": null,
      "padding": null,
      "right": null,
      "top": null,
      "visibility": null,
      "width": null
     }
    },
    "b809090c872747f3b4d9a8c6c6481b4b": {
     "model_module": "@jupyter-widgets/controls",
     "model_module_version": "1.5.0",
     "model_name": "HTMLModel",
     "state": {
      "_dom_classes": [],
      "_model_module": "@jupyter-widgets/controls",
      "_model_module_version": "1.5.0",
      "_model_name": "HTMLModel",
      "_view_count": null,
      "_view_module": "@jupyter-widgets/controls",
      "_view_module_version": "1.5.0",
      "_view_name": "HTMLView",
      "description": "",
      "description_tooltip": null,
      "layout": "IPY_MODEL_f5a7b657032a49eba98a3e0a13e49a94",
      "placeholder": "​",
      "style": "IPY_MODEL_33734ccac855446daf0b9a317ff64f94",
      "value": " 1759/1759 [00:00&lt;00:00, 2589.68 examples/s]"
     }
    },
    "be146ba3908a4e10a44bcddf14b95c24": {
     "model_module": "@jupyter-widgets/controls",
     "model_module_version": "1.5.0",
     "model_name": "ProgressStyleModel",
     "state": {
      "_model_module": "@jupyter-widgets/controls",
      "_model_module_version": "1.5.0",
      "_model_name": "ProgressStyleModel",
      "_view_count": null,
      "_view_module": "@jupyter-widgets/base",
      "_view_module_version": "1.2.0",
      "_view_name": "StyleView",
      "bar_color": null,
      "description_width": ""
     }
    },
    "be8d7f51da1d4fec9f5f43ef5b74ed14": {
     "model_module": "@jupyter-widgets/controls",
     "model_module_version": "1.5.0",
     "model_name": "FloatProgressModel",
     "state": {
      "_dom_classes": [],
      "_model_module": "@jupyter-widgets/controls",
      "_model_module_version": "1.5.0",
      "_model_name": "FloatProgressModel",
      "_view_count": null,
      "_view_module": "@jupyter-widgets/controls",
      "_view_module_version": "1.5.0",
      "_view_name": "ProgressView",
      "bar_style": "success",
      "description": "",
      "description_tooltip": null,
      "layout": "IPY_MODEL_00517590275f4db2b1ea0191e6a18f60",
      "max": 15178234,
      "min": 0,
      "orientation": "horizontal",
      "style": "IPY_MODEL_dc7ccc48763e43078932b2e3d8ff7df3",
      "value": 15178234
     }
    },
    "c17faf0d106d4f0684d5b197649ead82": {
     "model_module": "@jupyter-widgets/base",
     "model_module_version": "1.2.0",
     "model_name": "LayoutModel",
     "state": {
      "_model_module": "@jupyter-widgets/base",
      "_model_module_version": "1.2.0",
      "_model_name": "LayoutModel",
      "_view_count": null,
      "_view_module": "@jupyter-widgets/base",
      "_view_module_version": "1.2.0",
      "_view_name": "LayoutView",
      "align_content": null,
      "align_items": null,
      "align_self": null,
      "border": null,
      "bottom": null,
      "display": null,
      "flex": null,
      "flex_flow": null,
      "grid_area": null,
      "grid_auto_columns": null,
      "grid_auto_flow": null,
      "grid_auto_rows": null,
      "grid_column": null,
      "grid_gap": null,
      "grid_row": null,
      "grid_template_areas": null,
      "grid_template_columns": null,
      "grid_template_rows": null,
      "height": null,
      "justify_content": null,
      "justify_items": null,
      "left": null,
      "margin": null,
      "max_height": null,
      "max_width": null,
      "min_height": null,
      "min_width": null,
      "object_fit": null,
      "object_position": null,
      "order": null,
      "overflow": null,
      "overflow_x": null,
      "overflow_y": null,
      "padding": null,
      "right": null,
      "top": null,
      "visibility": null,
      "width": null
     }
    },
    "c3fafb2913974182a832755d38149943": {
     "model_module": "@jupyter-widgets/controls",
     "model_module_version": "1.5.0",
     "model_name": "DescriptionStyleModel",
     "state": {
      "_model_module": "@jupyter-widgets/controls",
      "_model_module_version": "1.5.0",
      "_model_name": "DescriptionStyleModel",
      "_view_count": null,
      "_view_module": "@jupyter-widgets/base",
      "_view_module_version": "1.2.0",
      "_view_name": "StyleView",
      "description_width": ""
     }
    },
    "c46c94dd1eff4f0fb410ad229f4f33c5": {
     "model_module": "@jupyter-widgets/controls",
     "model_module_version": "1.5.0",
     "model_name": "HBoxModel",
     "state": {
      "_dom_classes": [],
      "_model_module": "@jupyter-widgets/controls",
      "_model_module_version": "1.5.0",
      "_model_name": "HBoxModel",
      "_view_count": null,
      "_view_module": "@jupyter-widgets/controls",
      "_view_module_version": "1.5.0",
      "_view_name": "HBoxView",
      "box_style": "",
      "children": [
       "IPY_MODEL_e16f0b646f504af7827da41078d8598b",
       "IPY_MODEL_be8d7f51da1d4fec9f5f43ef5b74ed14",
       "IPY_MODEL_fbcd464a5c2d4319aa6e594e086faceb"
      ],
      "layout": "IPY_MODEL_5549f361313e4859af5f897940ed174f"
     }
    },
    "c586b7ed4e35483ab861ec1a41a7753d": {
     "model_module": "@jupyter-widgets/controls",
     "model_module_version": "1.5.0",
     "model_name": "FloatProgressModel",
     "state": {
      "_dom_classes": [],
      "_model_module": "@jupyter-widgets/controls",
      "_model_module_version": "1.5.0",
      "_model_name": "FloatProgressModel",
      "_view_count": null,
      "_view_module": "@jupyter-widgets/controls",
      "_view_module_version": "1.5.0",
      "_view_name": "ProgressView",
      "bar_style": "success",
      "description": "",
      "description_tooltip": null,
      "layout": "IPY_MODEL_1b960de946e04a2cb5aff9dd53881e6c",
      "max": 53437783,
      "min": 0,
      "orientation": "horizontal",
      "style": "IPY_MODEL_946f82207019415d9b4b8010730345da",
      "value": 53437783
     }
    },
    "c7434905ebb14732b8682ee109efd1f3": {
     "model_module": "@jupyter-widgets/controls",
     "model_module_version": "1.5.0",
     "model_name": "FloatProgressModel",
     "state": {
      "_dom_classes": [],
      "_model_module": "@jupyter-widgets/controls",
      "_model_module_version": "1.5.0",
      "_model_name": "FloatProgressModel",
      "_view_count": null,
      "_view_module": "@jupyter-widgets/controls",
      "_view_module_version": "1.5.0",
      "_view_name": "ProgressView",
      "bar_style": "success",
      "description": "",
      "description_tooltip": null,
      "layout": "IPY_MODEL_8ea4c2d19cf9449eb5df9f6690ad792b",
      "max": 1759,
      "min": 0,
      "orientation": "horizontal",
      "style": "IPY_MODEL_daab2a8b7fc940108a34255e61b4ee34",
      "value": 1759
     }
    },
    "c8e2dc6a24af488cacb50665ebe9bb21": {
     "model_module": "@jupyter-widgets/controls",
     "model_module_version": "1.5.0",
     "model_name": "DescriptionStyleModel",
     "state": {
      "_model_module": "@jupyter-widgets/controls",
      "_model_module_version": "1.5.0",
      "_model_name": "DescriptionStyleModel",
      "_view_count": null,
      "_view_module": "@jupyter-widgets/base",
      "_view_module_version": "1.2.0",
      "_view_name": "StyleView",
      "description_width": ""
     }
    },
    "daab2a8b7fc940108a34255e61b4ee34": {
     "model_module": "@jupyter-widgets/controls",
     "model_module_version": "1.5.0",
     "model_name": "ProgressStyleModel",
     "state": {
      "_model_module": "@jupyter-widgets/controls",
      "_model_module_version": "1.5.0",
      "_model_name": "ProgressStyleModel",
      "_view_count": null,
      "_view_module": "@jupyter-widgets/base",
      "_view_module_version": "1.2.0",
      "_view_name": "StyleView",
      "bar_color": null,
      "description_width": ""
     }
    },
    "dc7ccc48763e43078932b2e3d8ff7df3": {
     "model_module": "@jupyter-widgets/controls",
     "model_module_version": "1.5.0",
     "model_name": "ProgressStyleModel",
     "state": {
      "_model_module": "@jupyter-widgets/controls",
      "_model_module_version": "1.5.0",
      "_model_name": "ProgressStyleModel",
      "_view_count": null,
      "_view_module": "@jupyter-widgets/base",
      "_view_module_version": "1.2.0",
      "_view_name": "StyleView",
      "bar_color": null,
      "description_width": ""
     }
    },
    "de154ad94fda41fe8c05a1e789bc3b83": {
     "model_module": "@jupyter-widgets/controls",
     "model_module_version": "1.5.0",
     "model_name": "HBoxModel",
     "state": {
      "_dom_classes": [],
      "_model_module": "@jupyter-widgets/controls",
      "_model_module_version": "1.5.0",
      "_model_name": "HBoxModel",
      "_view_count": null,
      "_view_module": "@jupyter-widgets/controls",
      "_view_module_version": "1.5.0",
      "_view_name": "HBoxView",
      "box_style": "",
      "children": [
       "IPY_MODEL_89bbe318fcd04fd4a22cb8848516ac0a",
       "IPY_MODEL_c586b7ed4e35483ab861ec1a41a7753d",
       "IPY_MODEL_2a002571bb4e4923be84862d11fad147"
      ],
      "layout": "IPY_MODEL_b136517faa124b739c0b7d731be34d1a"
     }
    },
    "e16f0b646f504af7827da41078d8598b": {
     "model_module": "@jupyter-widgets/controls",
     "model_module_version": "1.5.0",
     "model_name": "HTMLModel",
     "state": {
      "_dom_classes": [],
      "_model_module": "@jupyter-widgets/controls",
      "_model_module_version": "1.5.0",
      "_model_name": "HTMLModel",
      "_view_count": null,
      "_view_module": "@jupyter-widgets/controls",
      "_view_module_version": "1.5.0",
      "_view_name": "HTMLView",
      "description": "",
      "description_tooltip": null,
      "layout": "IPY_MODEL_09738cc507db4d8296d09ee589b32231",
      "placeholder": "​",
      "style": "IPY_MODEL_534ce365980b4749a73059ab3aefd217",
      "value": "test.csv: 100%"
     }
    },
    "e478df13d1164a5886c3640bf60a682d": {
     "model_module": "@jupyter-widgets/base",
     "model_module_version": "1.2.0",
     "model_name": "LayoutModel",
     "state": {
      "_model_module": "@jupyter-widgets/base",
      "_model_module_version": "1.2.0",
      "_model_name": "LayoutModel",
      "_view_count": null,
      "_view_module": "@jupyter-widgets/base",
      "_view_module_version": "1.2.0",
      "_view_name": "LayoutView",
      "align_content": null,
      "align_items": null,
      "align_self": null,
      "border": null,
      "bottom": null,
      "display": null,
      "flex": null,
      "flex_flow": null,
      "grid_area": null,
      "grid_auto_columns": null,
      "grid_auto_flow": null,
      "grid_auto_rows": null,
      "grid_column": null,
      "grid_gap": null,
      "grid_row": null,
      "grid_template_areas": null,
      "grid_template_columns": null,
      "grid_template_rows": null,
      "height": null,
      "justify_content": null,
      "justify_items": null,
      "left": null,
      "margin": null,
      "max_height": null,
      "max_width": null,
      "min_height": null,
      "min_width": null,
      "object_fit": null,
      "object_position": null,
      "order": null,
      "overflow": null,
      "overflow_x": null,
      "overflow_y": null,
      "padding": null,
      "right": null,
      "top": null,
      "visibility": null,
      "width": null
     }
    },
    "e9570ac0f1e7406eb8840bb1611da3f8": {
     "model_module": "@jupyter-widgets/base",
     "model_module_version": "1.2.0",
     "model_name": "LayoutModel",
     "state": {
      "_model_module": "@jupyter-widgets/base",
      "_model_module_version": "1.2.0",
      "_model_name": "LayoutModel",
      "_view_count": null,
      "_view_module": "@jupyter-widgets/base",
      "_view_module_version": "1.2.0",
      "_view_name": "LayoutView",
      "align_content": null,
      "align_items": null,
      "align_self": null,
      "border": null,
      "bottom": null,
      "display": null,
      "flex": null,
      "flex_flow": null,
      "grid_area": null,
      "grid_auto_columns": null,
      "grid_auto_flow": null,
      "grid_auto_rows": null,
      "grid_column": null,
      "grid_gap": null,
      "grid_row": null,
      "grid_template_areas": null,
      "grid_template_columns": null,
      "grid_template_rows": null,
      "height": null,
      "justify_content": null,
      "justify_items": null,
      "left": null,
      "margin": null,
      "max_height": null,
      "max_width": null,
      "min_height": null,
      "min_width": null,
      "object_fit": null,
      "object_position": null,
      "order": null,
      "overflow": null,
      "overflow_x": null,
      "overflow_y": null,
      "padding": null,
      "right": null,
      "top": null,
      "visibility": null,
      "width": null
     }
    },
    "f5a7b657032a49eba98a3e0a13e49a94": {
     "model_module": "@jupyter-widgets/base",
     "model_module_version": "1.2.0",
     "model_name": "LayoutModel",
     "state": {
      "_model_module": "@jupyter-widgets/base",
      "_model_module_version": "1.2.0",
      "_model_name": "LayoutModel",
      "_view_count": null,
      "_view_module": "@jupyter-widgets/base",
      "_view_module_version": "1.2.0",
      "_view_name": "LayoutView",
      "align_content": null,
      "align_items": null,
      "align_self": null,
      "border": null,
      "bottom": null,
      "display": null,
      "flex": null,
      "flex_flow": null,
      "grid_area": null,
      "grid_auto_columns": null,
      "grid_auto_flow": null,
      "grid_auto_rows": null,
      "grid_column": null,
      "grid_gap": null,
      "grid_row": null,
      "grid_template_areas": null,
      "grid_template_columns": null,
      "grid_template_rows": null,
      "height": null,
      "justify_content": null,
      "justify_items": null,
      "left": null,
      "margin": null,
      "max_height": null,
      "max_width": null,
      "min_height": null,
      "min_width": null,
      "object_fit": null,
      "object_position": null,
      "order": null,
      "overflow": null,
      "overflow_x": null,
      "overflow_y": null,
      "padding": null,
      "right": null,
      "top": null,
      "visibility": null,
      "width": null
     }
    },
    "face3617e90347109aa51e9a912d77ee": {
     "model_module": "@jupyter-widgets/controls",
     "model_module_version": "1.5.0",
     "model_name": "HTMLModel",
     "state": {
      "_dom_classes": [],
      "_model_module": "@jupyter-widgets/controls",
      "_model_module_version": "1.5.0",
      "_model_name": "HTMLModel",
      "_view_count": null,
      "_view_module": "@jupyter-widgets/controls",
      "_view_module_version": "1.5.0",
      "_view_name": "HTMLView",
      "description": "",
      "description_tooltip": null,
      "layout": "IPY_MODEL_1c11ea70318b46aea107b9d0642dcc01",
      "placeholder": "​",
      "style": "IPY_MODEL_044aa5c6174d4727bb503325dd9d31e3",
      "value": " 6241/6241 [00:02&lt;00:00, 2401.48 examples/s]"
     }
    },
    "fbcd464a5c2d4319aa6e594e086faceb": {
     "model_module": "@jupyter-widgets/controls",
     "model_module_version": "1.5.0",
     "model_name": "HTMLModel",
     "state": {
      "_dom_classes": [],
      "_model_module": "@jupyter-widgets/controls",
      "_model_module_version": "1.5.0",
      "_model_name": "HTMLModel",
      "_view_count": null,
      "_view_module": "@jupyter-widgets/controls",
      "_view_module_version": "1.5.0",
      "_view_name": "HTMLView",
      "description": "",
      "description_tooltip": null,
      "layout": "IPY_MODEL_e9570ac0f1e7406eb8840bb1611da3f8",
      "placeholder": "​",
      "style": "IPY_MODEL_c3fafb2913974182a832755d38149943",
      "value": " 15.2M/15.2M [00:00&lt;00:00, 29.8MB/s]"
     }
    }
   }
  }
 },
 "nbformat": 4,
 "nbformat_minor": 5
}
