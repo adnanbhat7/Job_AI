{
 "cells": [
  {
   "cell_type": "code",
   "execution_count": null,
   "id": "c8d75645-2289-4250-ad6c-39584460c727",
   "metadata": {},
   "outputs": [],
   "source": [
    "!apt-get install -y poppler-utils         # only for linux envorment"
   ]
  },
  {
   "cell_type": "code",
   "execution_count": null,
   "id": "49cffcb5-13af-4873-b602-5ef75215f8d3",
   "metadata": {},
   "outputs": [],
   "source": [
    "!pip install easyocr"
   ]
  },
  {
   "cell_type": "code",
   "execution_count": null,
   "id": "7506c9fa-ffa6-4d17-b36c-d0d0134f67a5",
   "metadata": {},
   "outputs": [],
   "source": [
    "!pip install pdf2image"
   ]
  },
  {
   "cell_type": "code",
   "execution_count": 1,
   "id": "6920f0ff-ea16-44c6-8cf7-32b49192bfee",
   "metadata": {},
   "outputs": [],
   "source": [
    "import os\n",
    "from pdfminer.high_level import extract_text\n",
    "from pdf2image import convert_from_path\n",
    "import easyocr\n",
    "import cv2\n",
    "from matplotlib import pyplot as plt"
   ]
  },
  {
   "cell_type": "markdown",
   "id": "3269e01e-1a8c-4020-a1f6-4458e6de6643",
   "metadata": {},
   "source": [
    "# Path to PDF"
   ]
  },
  {
   "cell_type": "code",
   "execution_count": 2,
   "id": "098dc606-81b8-4ecb-ba08-3c74baa1c064",
   "metadata": {},
   "outputs": [],
   "source": [
    "PDF_PATH = 'pic.pdf'\n",
    "OUTPUT_DIR = 'output_images'\n",
    "os.makedirs(OUTPUT_DIR, exist_ok=True)"
   ]
  },
  {
   "cell_type": "code",
   "execution_count": null,
   "id": "a28485f8-59e5-45dd-99b6-e4a78df9ea49",
   "metadata": {},
   "outputs": [],
   "source": [
    "# Step 1: Try to extract text using pdfminer.six\n",
    "extracted_text = extract_text(PDF_PATH)"
   ]
  },
  {
   "cell_type": "code",
   "execution_count": null,
   "id": "df55a3dc-f035-41fd-a83b-3341a7aadfbc",
   "metadata": {},
   "outputs": [],
   "source": [
    "if extracted_text.strip():  # Check if there is any extracted text\n",
    "    print(\"Extracted Text from PDF:\")\n",
    "    print(extracted_text)\n",
    "else:\n",
    "    print(\"No text found, proceeding with OCR...\")\n",
    "    # Step 2: Convert PDF pages to images using pdf2image for OCR\n",
    "    image_paths = []\n",
    "    pages = convert_from_path(PDF_PATH, dpi=300)  # Convert PDF to images at 300 DPI\n",
    "\n",
    "    for i, page in enumerate(pages):\n",
    "        image_path = os.path.join(OUTPUT_DIR, f'page_{i + 1}.jpeg')\n",
    "        page.save(image_path, 'JPEG')  # Save each page as JPEG\n",
    "        image_paths.append(image_path)\n",
    "\n",
    "    # Initialize EasyOCR reader\n",
    "    reader = easyocr.Reader(['en'])"
   ]
  },
  {
   "cell_type": "markdown",
   "id": "66eb649a-1947-432b-ac5f-f81c810e4381",
   "metadata": {},
   "source": [
    "# Process each image and extract text using OCR"
   ]
  },
  {
   "cell_type": "code",
   "execution_count": null,
   "id": "cc212261-9b7c-4339-8c63-708eefbfe69a",
   "metadata": {},
   "outputs": [],
   "source": [
    "all_detected_text = []  # Store text from all pages\n",
    "for image_path in image_paths:\n",
    "    # Read the image\n",
    "    img = cv2.imread(image_path)\n",
    "\n",
    "    # Preprocess the image\n",
    "    gray = cv2.cvtColor(img, cv2.COLOR_BGR2GRAY)  # Convert to grayscale\n",
    "    _, binary = cv2.threshold(gray, 128, 255, cv2.THRESH_BINARY | cv2.THRESH_OTSU)  # Binarization\n",
    "    denoised = cv2.medianBlur(binary, 3)  # Noise removal using median blur\n",
    "\n",
    "    # Perform OCR on the preprocessed image\n",
    "    result = reader.readtext(denoised)\n",
    "\n",
    "    detected_text = []  # Text for the current page\n",
    "    font = cv2.FONT_HERSHEY_SIMPLEX\n",
    "    spacer = 100\n",
    "\n",
    "    # Draw boxes and extract text\n",
    "    for detection in result:\n",
    "        # Convert coordinates to integers\n",
    "        top_left = tuple(map(int, detection[0][0]))\n",
    "        bottom_right = tuple(map(int, detection[0][2]))\n",
    "        text = detection[1]  # Extract detected text\n",
    "\n",
    "        # Append detected text to the list\n",
    "        detected_text.append(text)\n",
    "\n",
    "        # Draw rectangle and put text\n",
    "        img = cv2.rectangle(img, top_left, bottom_right, (0, 255, 0), 3)\n",
    "        img = cv2.putText(img, text, (20, spacer), font, 0.5, (0, 255, 0), 2, cv2.LINE_AA)\n",
    "        spacer += 15\n",
    "\n",
    "    # Save detected text for the current page\n",
    "    all_detected_text.append(\"\\n\".join(detected_text))\n",
    "\n",
    "    # Display the image with detected text\n",
    "    plt.imshow(cv2.cvtColor(img, cv2.COLOR_BGR2RGB))\n",
    "    plt.axis('off')\n",
    "    plt.title(f\"Page {image_paths.index(image_path) + 1}\")\n",
    "    plt.show()\n"
   ]
  },
  {
   "cell_type": "markdown",
   "id": "17d87271-7bf4-421e-86ca-c14b3a97222f",
   "metadata": {},
   "source": [
    "# Combine all detected text into a single string"
   ]
  },
  {
   "cell_type": "code",
   "execution_count": null,
   "id": "2ad68ccd-2b6b-4137-b1bc-b3f1cd7639cf",
   "metadata": {},
   "outputs": [],
   "source": [
    "all_detected_text.append(\"\\n\".join(detected_text))"
   ]
  },
  {
   "cell_type": "markdown",
   "id": "bcb97b18-86ee-4697-aa1e-3122576caab4",
   "metadata": {},
   "source": [
    "# Print the final detected text"
   ]
  },
  {
   "cell_type": "code",
   "execution_count": null,
   "id": "182fe081-c962-4ad3-a3d0-1b381584da17",
   "metadata": {},
   "outputs": [],
   "source": [
    "print(\"Final Detected Text from OCR:\")\n",
    "    print(final_detected_text)\n"
   ]
  },
  {
   "cell_type": "code",
   "execution_count": null,
   "id": "9b68576b-7a62-468c-a912-204937144896",
   "metadata": {},
   "outputs": [],
   "source": []
  }
 ],
 "metadata": {
  "kernelspec": {
   "display_name": "Python 3 (ipykernel)",
   "language": "python",
   "name": "python3"
  },
  "language_info": {
   "codemirror_mode": {
    "name": "ipython",
    "version": 3
   },
   "file_extension": ".py",
   "mimetype": "text/x-python",
   "name": "python",
   "nbconvert_exporter": "python",
   "pygments_lexer": "ipython3",
   "version": "3.12.2"
  }
 },
 "nbformat": 4,
 "nbformat_minor": 5
}
